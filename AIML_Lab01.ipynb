<!DOCTYPE html>
<!-- saved from url=(0073)https://github.com/arshiyaarshh07/AIML_11_2024/blob/main/AIML_Lab01.ipynb -->
<html lang="en" data-color-mode="auto" data-light-theme="light" data-dark-theme="dark" data-a11y-animated-images="system" data-a11y-link-underlines="true" data-turbo-loaded="" class="js-focus-visible" data-js-focus-visible=""><head><meta http-equiv="Content-Type" content="text/html; charset=UTF-8"><style type="text/css">.turbo-progress-bar {
  position: fixed;
  display: block;
  top: 0;
  left: 0;
  height: 3px;
  background: #0076ff;
  z-index: 2147483647;
  transition:
    width 300ms ease-out,
    opacity 150ms 150ms ease-in;
  transform: translate3d(0, 0, 0);
}
</style>
    
  
  
  
  
  
  

  

  <link crossorigin="anonymous" media="all" rel="stylesheet" href="./AIML_Lab01_files/light-3e154969b9f9.css"><link crossorigin="anonymous" media="all" rel="stylesheet" href="./AIML_Lab01_files/dark-9c5b7a476542.css"><link data-color-theme="dark_dimmed" crossorigin="anonymous" media="all" rel="stylesheet" data-href="https://github.githubassets.com/assets/dark_dimmed-afda8eb0fb33.css"><link data-color-theme="dark_high_contrast" crossorigin="anonymous" media="all" rel="stylesheet" data-href="https://github.githubassets.com/assets/dark_high_contrast-2494e44ccdc5.css"><link data-color-theme="dark_colorblind" crossorigin="anonymous" media="all" rel="stylesheet" data-href="https://github.githubassets.com/assets/dark_colorblind-56fff47acadc.css"><link data-color-theme="light_colorblind" crossorigin="anonymous" media="all" rel="stylesheet" data-href="https://github.githubassets.com/assets/light_colorblind-71cd4cc132ec.css"><link data-color-theme="light_high_contrast" crossorigin="anonymous" media="all" rel="stylesheet" data-href="https://github.githubassets.com/assets/light_high_contrast-fd5499848985.css"><link data-color-theme="light_tritanopia" crossorigin="anonymous" media="all" rel="stylesheet" data-href="https://github.githubassets.com/assets/light_tritanopia-31d17ba3e139.css"><link data-color-theme="dark_tritanopia" crossorigin="anonymous" media="all" rel="stylesheet" data-href="https://github.githubassets.com/assets/dark_tritanopia-68d6b2c79663.css">
    <link crossorigin="anonymous" media="all" rel="stylesheet" href="./AIML_Lab01_files/primer-primitives-4cf0d59ab51a.css">
    <link crossorigin="anonymous" media="all" rel="stylesheet" href="./AIML_Lab01_files/primer-ff8ec1db4f06.css">
    <link crossorigin="anonymous" media="all" rel="stylesheet" href="./AIML_Lab01_files/global-dcca24a0602a.css">
    <link crossorigin="anonymous" media="all" rel="stylesheet" href="./AIML_Lab01_files/github-e4eed26e112b.css">
  <link crossorigin="anonymous" media="all" rel="stylesheet" href="./AIML_Lab01_files/repository-0f7cf89e325a.css">
<link crossorigin="anonymous" media="all" rel="stylesheet" href="./AIML_Lab01_files/code-14def43eef8d.css">

  


  <script type="application/json" id="client-env">{"locale":"en","featureFlags":["code_vulnerability_scanning","copilot_beta_features_opt_in","copilot_chat_conversation_intent_knowledge_search_skill","copilot_chat_static_thread_suggestions","copilot_completion_new_domain","copilot_conversational_ux_history_refs","copilot_copy_message","copilot_followup_to_agent","copilot_implicit_context","copilot_smell_icebreaker_ux","experimentation_azure_variant_endpoint","failbot_handle_non_errors","filter_prefetch_suggestions","geojson_azure_maps","ghost_pilot_confidence_truncation_25","ghost_pilot_confidence_truncation_40","ghost_pilot_stream_handling","hovercard_accessibility","hovercard_longer_activate_timeout","marketing_pages_search_explore_provider","primer_react_css_modules_ga","remove_child_patch","repository_suggester_elastic_search","sample_network_conn_type","site_metered_billing_update"]}</script>
<script crossorigin="anonymous" defer="defer" type="application/javascript" src="./AIML_Lab01_files/wp-runtime-6918b0d95404.js.download"></script>
<script crossorigin="anonymous" defer="defer" type="application/javascript" src="./AIML_Lab01_files/vendors-node_modules_dompurify_dist_purify_js-89a69c248502.js.download"></script>
<script crossorigin="anonymous" defer="defer" type="application/javascript" src="./AIML_Lab01_files/vendors-node_modules_oddbird_popover-polyfill_dist_popover_js-56729c905fe2.js.download"></script>
<script crossorigin="anonymous" defer="defer" type="application/javascript" src="./AIML_Lab01_files/vendors-node_modules_github_arianotify-polyfill_ariaNotify-polyfill_js-node_modules_github_mi-247092-627b030d3acc.js.download"></script>
<script crossorigin="anonymous" defer="defer" type="application/javascript" src="./AIML_Lab01_files/environment-924e60bca7d2.js.download"></script>
<script crossorigin="anonymous" defer="defer" type="application/javascript" src="./AIML_Lab01_files/vendors-node_modules_github_selector-observer_dist_index_esm_js-f690fd9ae3d5.js.download"></script>
<script crossorigin="anonymous" defer="defer" type="application/javascript" src="./AIML_Lab01_files/vendors-node_modules_primer_behaviors_dist_esm_focus-zone_js-c9086a4fb62b.js.download"></script>
<script crossorigin="anonymous" defer="defer" type="application/javascript" src="./AIML_Lab01_files/vendors-node_modules_github_relative-time-element_dist_index_js-7b95699705bc.js.download"></script>
<script crossorigin="anonymous" defer="defer" type="application/javascript" src="./AIML_Lab01_files/vendors-node_modules_primer_behaviors_dist_esm_anchored-position_js-node_modules_fzy_js_index-192fd2-a07608c791cf.js.download"></script>
<script crossorigin="anonymous" defer="defer" type="application/javascript" src="./AIML_Lab01_files/vendors-node_modules_github_auto-complete-element_dist_index_js-node_modules_github_details-d-ed9a97-841122a1e9d4.js.download"></script>
<script crossorigin="anonymous" defer="defer" type="application/javascript" src="./AIML_Lab01_files/vendors-node_modules_github_text-expander-element_dist_index_js-cd48220d74d5.js.download"></script>
<script crossorigin="anonymous" defer="defer" type="application/javascript" src="./AIML_Lab01_files/vendors-node_modules_github_mini-throttle_dist_index_js-node_modules_delegated-events_dist_in-3efda3-701acb69193f.js.download"></script>
<script crossorigin="anonymous" defer="defer" type="application/javascript" src="./AIML_Lab01_files/vendors-node_modules_github_filter-input-element_dist_index_js-node_modules_github_remote-inp-2e8678-34feeec9c894.js.download"></script>
<script crossorigin="anonymous" defer="defer" type="application/javascript" src="./AIML_Lab01_files/vendors-node_modules_github_catalyst_lib_index_js-node_modules_github_clipboard-copy-element_-782ca5-54763cd55b96.js.download"></script>
<script crossorigin="anonymous" defer="defer" type="application/javascript" src="./AIML_Lab01_files/vendors-node_modules_github_file-attachment-element_dist_index_js-node_modules_primer_view-co-10eecb-16f8d12ecd9c.js.download"></script>
<script crossorigin="anonymous" defer="defer" type="application/javascript" src="./AIML_Lab01_files/ui_packages_onfocus_onfocus_ts-ui_packages_trusted-types-policies_policy_ts-ui_packages_trust-0eb5c4-372296785620.js.download"></script>
<script crossorigin="anonymous" defer="defer" type="application/javascript" src="./AIML_Lab01_files/github-elements-508a45ca23c6.js.download"></script>
<script crossorigin="anonymous" defer="defer" type="application/javascript" src="./AIML_Lab01_files/element-registry-9736516e8a8a.js.download"></script>
<script crossorigin="anonymous" defer="defer" type="application/javascript" src="./AIML_Lab01_files/vendors-node_modules_github_catalyst_lib_index_js-node_modules_github_hydro-analytics-client_-7901e7-dc88587c14ed.js.download"></script>
<script crossorigin="anonymous" defer="defer" type="application/javascript" src="./AIML_Lab01_files/vendors-node_modules_braintree_browser-detection_dist_browser-detection_js-node_modules_stack-68835d-a18220f1db8d.js.download"></script>
<script crossorigin="anonymous" defer="defer" type="application/javascript" src="./AIML_Lab01_files/vendors-node_modules_lit-html_lit-html_js-ce7225a304c5.js.download"></script>
<script crossorigin="anonymous" defer="defer" type="application/javascript" src="./AIML_Lab01_files/vendors-node_modules_github_mini-throttle_dist_index_js-node_modules_morphdom_dist_morphdom-e-7c534c-f8a5485c982a.js.download"></script>
<script crossorigin="anonymous" defer="defer" type="application/javascript" src="./AIML_Lab01_files/vendors-node_modules_github_turbo_dist_turbo_es2017-esm_js-858e043fcf76.js.download"></script>
<script crossorigin="anonymous" defer="defer" type="application/javascript" src="./AIML_Lab01_files/vendors-node_modules_github_remote-form_dist_index_js-node_modules_delegated-events_dist_inde-893f9f-6cf3320416b8.js.download"></script>
<script crossorigin="anonymous" defer="defer" type="application/javascript" src="./AIML_Lab01_files/vendors-node_modules_scroll-anchoring_dist_scroll-anchoring_esm_js-node_modules_github_hotkey-1a1d91-fa9f29a8514b.js.download"></script>
<script crossorigin="anonymous" defer="defer" type="application/javascript" src="./AIML_Lab01_files/vendors-node_modules_color-convert_index_js-0e07cc183eed.js.download"></script>
<script crossorigin="anonymous" defer="defer" type="application/javascript" src="./AIML_Lab01_files/vendors-node_modules_github_session-resume_dist_index_js-node_modules_primer_behaviors_dist_e-ba698a-df35a0bdc37f.js.download"></script>
<script crossorigin="anonymous" defer="defer" type="application/javascript" src="./AIML_Lab01_files/vendors-node_modules_github_quote-selection_dist_index_js-node_modules_github_textarea-autosi-d20204-7a21f3a00e9d.js.download"></script>
<script crossorigin="anonymous" defer="defer" type="application/javascript" src="./AIML_Lab01_files/ui_packages_updatable-content_updatable-content_ts-a2009221d154.js.download"></script>
<script crossorigin="anonymous" defer="defer" type="application/javascript" src="./AIML_Lab01_files/app_assets_modules_github_behaviors_task-list_ts-app_assets_modules_github_sso_ts-ui_packages-e1ce06-edefc63ea355.js.download"></script>
<script crossorigin="anonymous" defer="defer" type="application/javascript" src="./AIML_Lab01_files/app_assets_modules_github_sticky-scroll-into-view_ts-112600808cf9.js.download"></script>
<script crossorigin="anonymous" defer="defer" type="application/javascript" src="./AIML_Lab01_files/app_assets_modules_github_behaviors_ajax-error_ts-app_assets_modules_github_behaviors_include-467754-8979fbf79bf6.js.download"></script>
<script crossorigin="anonymous" defer="defer" type="application/javascript" src="./AIML_Lab01_files/app_assets_modules_github_behaviors_commenting_edit_ts-app_assets_modules_github_behaviors_ht-83c235-aeae6fcdf371.js.download"></script>
<script crossorigin="anonymous" defer="defer" type="application/javascript" src="./AIML_Lab01_files/app_assets_modules_github_blob-anchor_ts-app_assets_modules_github_jump-to_page-views_ts-ui_p-38f236-6918e89ea155.js.download"></script>
<script crossorigin="anonymous" defer="defer" type="application/javascript" src="./AIML_Lab01_files/behaviors-99e1886f0977.js.download"></script>
<script crossorigin="anonymous" defer="defer" type="application/javascript" src="./AIML_Lab01_files/vendors-node_modules_delegated-events_dist_index_js-node_modules_github_catalyst_lib_index_js-06ff531-bf7e5a3732fd.js.download"></script>
<script crossorigin="anonymous" defer="defer" type="application/javascript" src="./AIML_Lab01_files/notifications-global-54f34167118d.js.download"></script>
<script crossorigin="anonymous" defer="defer" type="application/javascript" src="./AIML_Lab01_files/vendors-node_modules_virtualized-list_es_index_js-node_modules_github_template-parts_lib_index_js-96453a51f920.js.download"></script>
<script crossorigin="anonymous" defer="defer" type="application/javascript" src="./AIML_Lab01_files/vendors-node_modules_github_remote-form_dist_index_js-node_modules_delegated-events_dist_inde-e53a3f-62113d33abd1.js.download"></script>
<script crossorigin="anonymous" defer="defer" type="application/javascript" src="./AIML_Lab01_files/app_assets_modules_github_ref-selector_ts-00df584d9e79.js.download"></script>
<script crossorigin="anonymous" defer="defer" type="application/javascript" src="./AIML_Lab01_files/codespaces-aa3619ac4fa9.js.download"></script>
<script crossorigin="anonymous" defer="defer" type="application/javascript" src="./AIML_Lab01_files/vendors-node_modules_github_file-attachment-element_dist_index_js-node_modules_github_filter--e7f8b0-c7aaf10ff072.js.download"></script>
<script crossorigin="anonymous" defer="defer" type="application/javascript" src="./AIML_Lab01_files/app_assets_modules_github_repositories_get-repo-element_ts-78999cbaea69.js.download"></script>
<script crossorigin="anonymous" defer="defer" type="application/javascript" src="./AIML_Lab01_files/repositories-57ecf4afba64.js.download"></script>
<script crossorigin="anonymous" defer="defer" type="application/javascript" src="./AIML_Lab01_files/vendors-node_modules_github_mini-throttle_dist_index_js-node_modules_github_catalyst_lib_inde-dbbea9-e73b311a14f1.js.download"></script>
<script crossorigin="anonymous" defer="defer" type="application/javascript" src="./AIML_Lab01_files/code-menu-a8d08997ac4f.js.download"></script>
  
  <script crossorigin="anonymous" defer="defer" type="application/javascript" src="./AIML_Lab01_files/react-lib-7b7b5264f6c1.js.download"></script>
<script crossorigin="anonymous" defer="defer" type="application/javascript" src="./AIML_Lab01_files/vendors-node_modules_github_mini-throttle_dist_index_js-node_modules_primer_octicons-react_di-b40d97-2d816f3aa913.js.download"></script>
<script crossorigin="anonymous" defer="defer" type="application/javascript" src="./AIML_Lab01_files/vendors-node_modules_primer_react_lib-esm_Box_Box_js-55a9038b54f0.js.download"></script>
<script crossorigin="anonymous" defer="defer" type="application/javascript" src="./AIML_Lab01_files/vendors-node_modules_primer_react_lib-esm_Button_Button_js-b0edbfb6a9e5.js.download"></script>
<script crossorigin="anonymous" defer="defer" type="application/javascript" src="./AIML_Lab01_files/vendors-node_modules_primer_react_lib-esm_TooltipV2_Tooltip_js-4d5019830e3c.js.download"></script>
<script crossorigin="anonymous" defer="defer" type="application/javascript" src="./AIML_Lab01_files/vendors-node_modules_primer_react_node_modules_primer_octicons-react_dist_index_esm_mjs-a5155473fc69.js.download"></script>
<script crossorigin="anonymous" defer="defer" type="application/javascript" src="./AIML_Lab01_files/vendors-node_modules_primer_react_lib-esm_ActionList_index_js-fd5a7039f225.js.download"></script>
<script crossorigin="anonymous" defer="defer" type="application/javascript" src="./AIML_Lab01_files/vendors-node_modules_primer_react_lib-esm_Text_Text_js-node_modules_primer_react_lib-esm_Text-7845da-9371f5bac483.js.download"></script>
<script crossorigin="anonymous" defer="defer" type="application/javascript" src="./AIML_Lab01_files/vendors-node_modules_primer_react_lib-esm_ActionMenu_ActionMenu_js-node_modules_primer_react_-5b2420-50d72766db7f.js.download"></script>
<script crossorigin="anonymous" defer="defer" type="application/javascript" src="./AIML_Lab01_files/vendors-node_modules_primer_react_lib-esm_FormControl_FormControl_js-1f51ab2bdcca.js.download"></script>
<script crossorigin="anonymous" defer="defer" type="application/javascript" src="./AIML_Lab01_files/vendors-node_modules_primer_react_lib-esm_FilteredActionList_FilteredActionList_js-5a52bf212e2b.js.download"></script>
<script crossorigin="anonymous" defer="defer" type="application/javascript" src="./AIML_Lab01_files/vendors-node_modules_primer_react_lib-esm_Dialog_js-node_modules_primer_react_lib-esm_Feature-cdf735-4b63b6308961.js.download"></script>
<script crossorigin="anonymous" defer="defer" type="application/javascript" src="./AIML_Lab01_files/ui_packages_react-core_create-browser-history_ts-ui_packages_safe-storage_safe-storage_ts-ui_-682c2c-40bb20608465.js.download"></script>
<script crossorigin="anonymous" defer="defer" type="application/javascript" src="./AIML_Lab01_files/notifications-subscriptions-menu-cde68a063f90.js.download"></script>
<link crossorigin="anonymous" media="all" rel="stylesheet" href="./AIML_Lab01_files/primer-react-css.8570b2718b0a9c0c8387.module.css">
<link crossorigin="anonymous" media="all" rel="stylesheet" href="./AIML_Lab01_files/notifications-subscriptions-menu.1bcff9205c241e99cff2.module.css">


  



  
  
  

    
  


  


    


  
  

  
  

    



  

  




    

  

    

    

      

      

    
    
    

      
  
  


      
      


      


      
      

        


  <meta http-equiv="x-pjax-version" content="3c153697a28e3ca05dd275d5e61b7910df04857eb92fd739d52ef4a83635ffc8" data-turbo-track="reload">
  <meta http-equiv="x-pjax-csp-version" content="43bc2a0e2750a1219c17b5bf1ec22aae37041bbc018bc5e27bb7708f80e7ab88" data-turbo-track="reload">
  <meta http-equiv="x-pjax-css-version" content="961166ccc4127a6adbd081f69c493995473e8519e7a1ed9cee679bc85a1f44f5" data-turbo-track="reload">
  <meta http-equiv="x-pjax-js-version" content="d59ce1c7885c99a48452853fcdbd04c0f24226810472b2893ac8be90148f3323" data-turbo-track="reload">

  

      
  

  



      


    


  

  

  
  
  




  
  

  

  <style data-styled="active" data-styled-version="5.3.6"></style><style id="ms-consent-banner-main-styles">.w8hcgFksdo30C8w-bygqu{color:#000}.ydkKdaztSS0AeHWIeIHsQ a{color:#0067B8}.erL690_8JwUW-R4bJRcfl{background-color:#EBEBEB;border:none;color:#000}.erL690_8JwUW-R4bJRcfl:enabled:hover{color:#000;background-color:#DBDBDB;box-shadow:0px 4px 10px rgba(0,0,0,0.25);border:none}.erL690_8JwUW-R4bJRcfl:enabled:focus{background-color:#DBDBDB;box-shadow:0px 4px 10px rgba(0,0,0,0.25);border:2px solid #000}.erL690_8JwUW-R4bJRcfl:disabled{opacity:1;color:rgba(0,0,0,0.2);background-color:rgba(0,0,0,0.2);border:none}._1zNQOqxpBFSokeCLGi_hGr{border:none;background-color:#0067B8;color:#fff}._1zNQOqxpBFSokeCLGi_hGr:enabled:hover{color:#fff;background-color:#0067B8;box-shadow:0px 4px 10px rgba(0,0,0,0.25);border:none}._1zNQOqxpBFSokeCLGi_hGr:enabled:focus{background-color:#0067B8;box-shadow:0px 4px 10px rgba(0,0,0,0.25);border:2px solid #000}._1zNQOqxpBFSokeCLGi_hGr:disabled{opacity:1;color:rgba(0,0,0,0.2);background-color:rgba(0,120,215,0.2);border:none}._23tra1HsiiP6cT-Cka-ycB{position:relative;display:flex;z-index:9999;width:100%;background-color:#F2F2F2;justify-content:space-between;text-align:left}div[dir="rtl"]._23tra1HsiiP6cT-Cka-ycB{text-align:right}._1Upc2NjY8AlDn177YoVj0y{margin:0;padding-left:5%;padding-top:8px;padding-bottom:8px}div[dir="rtl"] ._1Upc2NjY8AlDn177YoVj0y{margin:0;padding:8px 5% 8px 0;float:none}._23tra1HsiiP6cT-Cka-ycB svg{fill:none;max-width:none;max-height:none}._1V_hlU-7jdtPiooHMu89BB{display:table-cell;padding:12px;width:24px;height:24px;font-family:Segoe UI, SegoeUI, Arial, sans-serif;font-style:normal;font-weight:normal;font-size:24px;line-height:0}.f6QKJD7fhSbnJLarTL-W-{display:table-cell;vertical-align:middle;padding:0;font-family:Segoe UI, SegoeUI, Arial, sans-serif;font-style:normal;font-weight:normal;font-size:13px;line-height:16px}.f6QKJD7fhSbnJLarTL-W- a{text-decoration:underline}._2j0fmugLb1FgYz6KPuB91w{display:inline-block;margin-left:5%;margin-right:5%;min-width:40%;min-width:calc((150px + 3 * 4px) * 2 + 150px);min-width:-webkit-fit-content;min-width:-moz-fit-content;min-width:fit-content;align-self:center;position:relative}._1XuCi2WhiqeWRUVp3pnFG3{margin:4px;padding:5px;min-width:150px;min-height:36px;vertical-align:top;cursor:pointer;font-family:Segoe UI, SegoeUI, Arial, sans-serif;font-style:normal;font-weight:normal;font-size:15px;line-height:20px;text-align:center}._1XuCi2WhiqeWRUVp3pnFG3:focus{box-sizing:border-box}._1XuCi2WhiqeWRUVp3pnFG3:disabled{cursor:not-allowed}._2bvsb3ubApyZ0UGoQA9O9T{display:block;position:fixed;z-index:10000;top:0;left:0;width:100%;height:100%;background-color:rgba(255,255,255,0.6);overflow:auto;text-align:left}div[dir="rtl"]._2bvsb3ubApyZ0UGoQA9O9T{text-align:right}div[dir="rtl"] ._2bvsb3ubApyZ0UGoQA9O9T{left:auto;right:0}.AFsJE948muYyzCMktdzuk{position:relative;top:8%;margin-bottom:40px;margin-left:auto;margin-right:auto;box-sizing:border-box;width:640px;background-color:#fff;border:1px solid #0067B8}._3kWyBRbW_dgnMiEyx06Fu4{float:right;z-index:1;margin:2px;padding:12px;border:none;cursor:pointer;font-family:Segoe UI, SegoeUI, Arial, sans-serif;font-style:normal;font-weight:normal;font-size:13px;line-height:13px;display:flex;align-items:center;text-align:center;color:#666;background-color:#fff}div[dir="rtl"] ._3kWyBRbW_dgnMiEyx06Fu4{margin:2px;padding:12px;float:left}.uCYvKvHXrhjNgflv1VqdD{position:static;margin-top:36px;margin-left:36px;margin-right:36px}._17pX1m9O_W--iZbDt3Ta5r{margin-top:0;margin-bottom:12px;font-family:Segoe UI, SegoeUI, Arial, sans-serif;font-style:normal;font-weight:600;font-size:20px;line-height:24px;text-transform:none}._1kBkHQ1V1wu3kl-YcLgUr6{height:446px;overflow:auto}._20_nXDf6uFs9Q6wxRXG-I-{margin-top:0;font-family:Segoe UI, SegoeUI, Arial, sans-serif;font-style:normal;font-weight:normal;font-size:15px;line-height:20px}._20_nXDf6uFs9Q6wxRXG-I- a{text-decoration:underline}dl._2a0NH_GDQEQe5Ynfo7suVH{margin-top:36px;margin-bottom:0;padding:0;list-style:none;text-transform:none}dt._3j_LCPv7fyXv3A8FIXVwZ4{margin-top:20px;float:none;font-family:Segoe UI, SegoeUI, Arial, sans-serif;font-style:normal;font-weight:600;font-size:18px;line-height:24px;list-style:none}.k-vxTGFbdq1aOZB2HHpjh{margin:0;padding:0;border:none}._2Bucyy75c_ogoU1g-liB5R{margin:0;padding:0;border-bottom:none;font-family:Segoe UI, SegoeUI, Arial, sans-serif;font-style:normal;font-weight:600;font-size:18px;line-height:24px;text-transform:none}._63gwfzV8dclrsl2cfd90r{display:inline-block;margin-top:0;margin-bottom:13px;font-family:Segoe UI, SegoeUI, Arial, sans-serif;font-style:normal;font-weight:normal;font-size:15px;line-height:20px}._1l8wM_4mRYGz3Iu7l3BZR7{display:block}._2UE03QS02aZGkslegN_F-i{display:inline-block;position:relative;left:5px;margin-bottom:13px;margin-right:34px;padding:3px}div[dir="rtl"] ._2UE03QS02aZGkslegN_F-i{margin:0 0 13px 34px;padding:3px;float:none}div[dir="rtl"] ._2UE03QS02aZGkslegN_F-i{left:auto;right:5px}._23tra1HsiiP6cT-Cka-ycB *::before,._2bvsb3ubApyZ0UGoQA9O9T *::before,._23tra1HsiiP6cT-Cka-ycB *::after,._2bvsb3ubApyZ0UGoQA9O9T *::after{box-sizing:inherit}._1HSFn0HzGo6w4ADApV8-c4{outline:2px solid rgba(0,0,0,0.8)}input[type="radio"]._1dp8Vp5m3HwAqGx8qBmFV2{display:inline-block;position:relative;margin-top:0;margin-left:0;margin-right:0;height:0;width:0;border-radius:0;cursor:pointer;outline:none;box-sizing:border-box;-webkit-appearance:none;-moz-appearance:none;appearance:none}input[type="radio"]._1dp8Vp5m3HwAqGx8qBmFV2+label::before{display:block;position:absolute;top:5px;left:3px;height:19px;width:19px;content:"";border-radius:50%;border:1px solid #000;background-color:#fff}div[dir="rtl"] input[type="radio"]._1dp8Vp5m3HwAqGx8qBmFV2+label::before{left:auto;right:3px}input[type="radio"]._1dp8Vp5m3HwAqGx8qBmFV2:not(:disabled)+label:hover::before{border:1px solid #0067B8}input[type="radio"]._1dp8Vp5m3HwAqGx8qBmFV2:not(:disabled)+label:hover::after{display:block;position:absolute;top:10px;left:8px;height:9px;width:9px;content:"";border-radius:50%;background-color:rgba(0,0,0,0.8)}div[dir="rtl"] input[type="radio"]._1dp8Vp5m3HwAqGx8qBmFV2:not(:disabled)+label:hover::after{left:auto;right:8px}input[type="radio"]._1dp8Vp5m3HwAqGx8qBmFV2:not(:disabled)+label:focus::before{border:1px solid #0067B8}input[type="radio"]._1dp8Vp5m3HwAqGx8qBmFV2:not(:disabled)+label:focus::after{display:block;position:absolute;top:10px;left:8px;height:9px;width:9px;content:"";border-radius:50%;background-color:#000}div[dir="rtl"] input[type="radio"]._1dp8Vp5m3HwAqGx8qBmFV2:not(:disabled)+label:focus::after{left:auto;right:8px}input[type="radio"]._1dp8Vp5m3HwAqGx8qBmFV2:checked+label::after{display:block;position:absolute;top:10px;left:8px;height:9px;width:9px;content:"";border-radius:50%;background-color:#000}div[dir="rtl"] input[type="radio"]._1dp8Vp5m3HwAqGx8qBmFV2:checked+label::after{left:auto;right:8px}input[type="radio"]._1dp8Vp5m3HwAqGx8qBmFV2:disabled+label{cursor:not-allowed}input[type="radio"]._1dp8Vp5m3HwAqGx8qBmFV2:disabled+label::before{border:1px solid rgba(0,0,0,0.2);background-color:rgba(0,0,0,0.2)}._3RJzeL3l9Rl_lAQEm6VwdX{display:block;position:static;float:right;margin-top:0;margin-bottom:0;margin-left:19px;margin-right:0;padding-top:0;padding-bottom:0;padding-left:8px;padding-right:0;width:80%;width:calc(100% - 19px);font-family:Segoe UI, SegoeUI, Arial, sans-serif;font-style:normal;font-weight:normal;font-size:15px;line-height:20px;text-transform:none;cursor:pointer;box-sizing:border-box}div[dir="rtl"] ._3RJzeL3l9Rl_lAQEm6VwdX{margin:0 19px 0 0;padding:0 8px 0 0;float:left}.nohp3sIG12ZBhzcMnPala{margin-top:20px;margin-bottom:48px}._2uhaEsmeotZ3P-M0AXo2kF{padding:0;width:278px;height:36px;cursor:pointer;font-family:Segoe UI, SegoeUI, Arial, sans-serif;font-style:normal;font-weight:normal;font-size:15px;line-height:20px;text-align:center}._2uhaEsmeotZ3P-M0AXo2kF:focus{box-sizing:border-box}._2uhaEsmeotZ3P-M0AXo2kF:disabled{cursor:not-allowed}._3tOu1FJ59c_xz_PmI1lKV5{float:right;padding:0;width:278px;height:36px;cursor:pointer;font-family:Segoe UI, SegoeUI, Arial, sans-serif;font-style:normal;font-weight:normal;font-size:15px;line-height:20px;text-align:center}._3tOu1FJ59c_xz_PmI1lKV5:focus{box-sizing:border-box}._3tOu1FJ59c_xz_PmI1lKV5:disabled{cursor:not-allowed}div[dir="rtl"] ._3tOu1FJ59c_xz_PmI1lKV5{margin:0;padding:0;float:left}@media only screen and (max-width: 768px){._2j0fmugLb1FgYz6KPuB91w,._1Upc2NjY8AlDn177YoVj0y{padding-top:8px;padding-bottom:12px;padding-left:3.75%;padding-right:3.75%;margin:0;width:92.5%}._23tra1HsiiP6cT-Cka-ycB{display:block}._1XuCi2WhiqeWRUVp3pnFG3{margin-bottom:8px;margin-left:0;margin-right:0;width:100%}._2bvsb3ubApyZ0UGoQA9O9T{overflow:hidden}.AFsJE948muYyzCMktdzuk{top:1.8%;width:93.33%;height:96.4%;overflow:hidden}.uCYvKvHXrhjNgflv1VqdD{margin-top:24px;margin-left:24px;margin-right:24px;height:100%}._1kBkHQ1V1wu3kl-YcLgUr6{height:62%;height:calc(100% - 188px);min-height:50%}._2uhaEsmeotZ3P-M0AXo2kF{width:100%}._3tOu1FJ59c_xz_PmI1lKV5{margin-bottom:12px;margin-left:0;width:100%}div[dir="rtl"] ._3tOu1FJ59c_xz_PmI1lKV5{margin:0 0 12px 0;padding:0;float:none}}@media only screen and (max-width: 768px) and (orientation: landscape), only screen and (max-height: 260px), only screen and (max-width: 340px){.AFsJE948muYyzCMktdzuk{overflow:auto}}@media only screen and (max-height: 260px), only screen and (max-width: 340px){._1XuCi2WhiqeWRUVp3pnFG3{min-width:0}._3kWyBRbW_dgnMiEyx06Fu4{padding:3%}.uCYvKvHXrhjNgflv1VqdD{margin-top:3%;margin-left:3%;margin-right:3%}._17pX1m9O_W--iZbDt3Ta5r{margin-bottom:3%}._1kBkHQ1V1wu3kl-YcLgUr6{height:calc(79% - 64px)}.nohp3sIG12ZBhzcMnPala{margin-top:5%;margin-bottom:10%}._3tOu1FJ59c_xz_PmI1lKV5{margin-bottom:3%}div[dir="rtl"] ._3tOu1FJ59c_xz_PmI1lKV5{margin:0 0 3% 0;padding:0;float:none}}
</style><style type="text/css" id="ms-consent-banner-theme-styles">._23tra1HsiiP6cT-Cka-ycB {
            background-color: #24292f !important;
        }.w8hcgFksdo30C8w-bygqu {
            color: #ffffff !important;
        }.ydkKdaztSS0AeHWIeIHsQ a {
            color: #d8b9ff !important;
        }._2bvsb3ubApyZ0UGoQA9O9T {
            background-color: rgba(23, 23, 23, 0.8) !important;
        }.AFsJE948muYyzCMktdzuk {
            background-color: #24292f !important;
            border: 1px solid #d8b9ff !important;
        }._3kWyBRbW_dgnMiEyx06Fu4 {
            color: #d8b9ff !important;
            background-color: #24292f !important;
        }._1zNQOqxpBFSokeCLGi_hGr {
            border: 1px solid #ffffff !important;
            background-color: #ffffff !important;
            color: #1f2328 !important;
        }._1zNQOqxpBFSokeCLGi_hGr:enabled:hover {
            color: #1f2328 !important;
            background-color: #d8b9ff !important;
            box-shadow: none !important;
            border: 1px solid transparent !important;
        }._1zNQOqxpBFSokeCLGi_hGr:enabled:focus {
            background-color: #d8b9ff !important;
            box-shadow: none !important;
            border: 2px solid #ffffff !important;
        }._1zNQOqxpBFSokeCLGi_hGr:disabled {
            opacity: 0.5 !important;
            color: #1f2328 !important;
            background-color: #ffffff !important;
            border: 1px solid transparent !important;
        }.erL690_8JwUW-R4bJRcfl {
            border: 1px solid #eaeef2 !important;
            background-color: #32383f !important;
            color: #ffffff !important;
        }.erL690_8JwUW-R4bJRcfl:enabled:hover {
            color: #ffffff !important;
            background-color: #24292f !important;
            box-shadow: none !important;
            border: 1px solid #ffffff !important;
        }.erL690_8JwUW-R4bJRcfl:enabled:focus {
            background-color: #24292f !important;
            box-shadow: none !important;
            border: 2px solid #6e7781 !important;
        }.erL690_8JwUW-R4bJRcfl:disabled {
            opacity: 0.5 !important;
            color: #ffffff !important;
            background-color: #424a53 !important;
            border: 1px solid #6e7781 !important;
        }input[type="radio"]._1dp8Vp5m3HwAqGx8qBmFV2 + label::before {
            border: 1px solid #d8b9ff !important;
            background-color: #24292f !important;
        }._1HSFn0HzGo6w4ADApV8-c4 {
            outline: 2px solid #ffffff !important;
        }input[type="radio"]._1dp8Vp5m3HwAqGx8qBmFV2:checked + label::after {
            background-color: #d8b9ff !important;
        }input[type="radio"]._1dp8Vp5m3HwAqGx8qBmFV2 + label:hover::before {
            border: 1px solid #ffffff !important;
        }input[type="radio"]._1dp8Vp5m3HwAqGx8qBmFV2 + label:hover::after {
            background-color: #ffffff !important;
        }input[type="radio"]._1dp8Vp5m3HwAqGx8qBmFV2 + label:focus::before {
            border: 1px solid #ffffff !important;
        }input[type="radio"]._1dp8Vp5m3HwAqGx8qBmFV2 + label:focus::after {
            background-color: #d8b9ff !important;
        }input[type="radio"]._1dp8Vp5m3HwAqGx8qBmFV2:disabled + label::before {
            border: 1px solid rgba(227, 227, 227, 0.2) !important;
            background-color: rgba(227, 227, 227, 0.2) !important;
        }</style><link crossorigin="anonymous" media="all" rel="stylesheet" href="./AIML_Lab01_files/react-code-view.0c44c510c8fe603a5ebe.module.css"><script type="application/json" id="client-env">{"locale":"en","featureFlags":["code_vulnerability_scanning","copilot_beta_features_opt_in","copilot_chat_conversation_intent_knowledge_search_skill","copilot_chat_static_thread_suggestions","copilot_completion_new_domain","copilot_conversational_ux_history_refs","copilot_copy_message","copilot_followup_to_agent","copilot_implicit_context","copilot_smell_icebreaker_ux","experimentation_azure_variant_endpoint","failbot_handle_non_errors","filter_prefetch_suggestions","geojson_azure_maps","ghost_pilot_confidence_truncation_25","ghost_pilot_stream_handling","hovercard_accessibility","hovercard_longer_activate_timeout","marketing_pages_search_explore_provider","primer_react_css_modules_ga","remove_child_patch","repository_suggester_elastic_search","sample_network_conn_type","site_metered_billing_update"]}</script><script crossorigin="anonymous" defer="defer" type="application/javascript" src="./AIML_Lab01_files/vendors-node_modules_react-router-dom_dist_index_js-c5568c29d405.js.download"></script><script crossorigin="anonymous" defer="defer" type="application/javascript" src="./AIML_Lab01_files/vendors-node_modules_primer_react_lib-esm_ConfirmationDialog_ConfirmationDialog_js-099e8bfead83.js.download"></script><script crossorigin="anonymous" defer="defer" type="application/javascript" src="./AIML_Lab01_files/vendors-node_modules_primer_react_lib-esm_Heading_Heading_js-node_modules_primer_react_lib-es-cdb604-830a604eb974.js.download"></script><script crossorigin="anonymous" defer="defer" type="application/javascript" src="./AIML_Lab01_files/vendors-node_modules_primer_react_lib-esm_PageLayout_PageLayout_js-9928dec2ff12.js.download"></script><script crossorigin="anonymous" defer="defer" type="application/javascript" src="./AIML_Lab01_files/vendors-node_modules_primer_behaviors_dist_esm_anchored-position_js-node_modules_primer_react-4d507b-85f1dac4ce7d.js.download"></script><script crossorigin="anonymous" defer="defer" type="application/javascript" src="./AIML_Lab01_files/vendors-node_modules_primer_react_lib-esm_TreeView_TreeView_js-163f241772cf.js.download"></script><script crossorigin="anonymous" defer="defer" type="application/javascript" src="./AIML_Lab01_files/vendors-node_modules_primer_react_lib-esm_AvatarStack_AvatarStack_js-node_modules_primer_reac-cd52f5-74c7988b9eb4.js.download"></script><script crossorigin="anonymous" defer="defer" type="application/javascript" src="./AIML_Lab01_files/vendors-node_modules_primer_behaviors_dist_esm_scroll-into-view_js-node_modules_primer_react_-3602e6-08dffc43caa6.js.download"></script><script crossorigin="anonymous" defer="defer" type="application/javascript" src="./AIML_Lab01_files/ui_packages_react-core_register-app_ts-6857ea187add.js.download"></script><script crossorigin="anonymous" defer="defer" type="application/javascript" src="./AIML_Lab01_files/ui_packages_paths_index_ts-d1e89600e343.js.download"></script><script crossorigin="anonymous" defer="defer" type="application/javascript" src="./AIML_Lab01_files/ui_packages_ref-selector_RefSelector_tsx-7b0796d1324c.js.download"></script><script crossorigin="anonymous" defer="defer" type="application/javascript" src="./AIML_Lab01_files/ui_packages_code-view-shared_hooks_shortcuts_ts-ui_packages_code-view-shared_utilities_web-wo-e3361d-b2e98425b7b2.js.download"></script><script crossorigin="anonymous" defer="defer" type="application/javascript" src="./AIML_Lab01_files/ui_packages_code-view-shared_hooks_use-canonical-object_ts-ui_packages_code-view-shared_hooks-1e704e-031c9f657499.js.download"></script><script crossorigin="anonymous" defer="defer" type="application/javascript" src="./AIML_Lab01_files/ui_packages_repos-file-tree-view_repos-file-tree-view_ts-ui_packages_feature-request_FeatureR-ec5225-81288de2a37f.js.download"></script><script crossorigin="anonymous" defer="defer" type="application/javascript" src="./AIML_Lab01_files/react-code-view-0e863b52fc4e.js.download"></script><link rel="dns-prefetch" href="https://github.githubassets.com/"><link rel="dns-prefetch" href="https://avatars.githubusercontent.com/"><link rel="dns-prefetch" href="https://github-cloud.s3.amazonaws.com/"><link rel="dns-prefetch" href="https://user-images.githubusercontent.com/"><link rel="preconnect" href="https://github.githubassets.com/" crossorigin=""><link rel="preconnect" href="https://avatars.githubusercontent.com/"><title>AIML_11_2024/AIML_Lab01.ipynb at main · arshiyaarshh07/AIML_11_2024</title><meta name="route-pattern" content="/:user_id/:repository/blob/*name(/*path)" data-turbo-transient=""><meta name="route-controller" content="blob" data-turbo-transient=""><meta name="route-action" content="show" data-turbo-transient=""><meta name="current-catalog-service-hash" content="f3abb0cc802f3d7b95fc8762b94bdcb13bf39634c40c357301c4aa1d67a256fb"><meta name="request-id" content="EA65:1A4222:332F70E:38FE093:66E0096B" data-turbo-transient="true"><meta name="html-safe-nonce" content="a3fec55a4c49a747e52aaf1796784b2c4e900d47a48bcafa0128da3fd34d6bd4" data-turbo-transient="true"><meta name="visitor-payload" content="eyJyZWZlcnJlciI6Imh0dHBzOi8vZ2l0aHViLmNvbS9hcnNoaXlhYXJzaGgwNy9BSU1MXzExXzIwMjQiLCJyZXF1ZXN0X2lkIjoiRUE2NToxQTQyMjI6MzMyRjcwRTozOEZFMDkzOjY2RTAwOTZCIiwidmlzaXRvcl9pZCI6IjkwNzk2MTMwMTkyNTY4NzM2OTUiLCJyZWdpb25fZWRnZSI6ImNlbnRyYWxpbmRpYSIsInJlZ2lvbl9yZW5kZXIiOiJpYWQifQ==" data-turbo-transient="true"><meta name="visitor-hmac" content="a5c35ec0459126e23b7b2ed247f751f7f0756feb10199111bfaa4b8f1504cbe3" data-turbo-transient="true"><meta name="hovercard-subject-tag" content="repository:756769206" data-turbo-transient=""><meta name="github-keyboard-shortcuts" content="repository,source-code,file-tree,copilot" data-turbo-transient="true"><meta name="selected-link" value="repo_source" data-turbo-transient=""><link rel="assets" href="https://github.githubassets.com/"><meta name="google-site-verification" content="Apib7-x98H0j5cPqHWwSMm6dNU4GmODRoqxLiDzdx9I"><meta name="octolytics-url" content="https://collector.github.com/github/collect"><meta name="octolytics-actor-id" content="177831970"><meta name="octolytics-actor-login" content="2303a52320"><meta name="octolytics-actor-hash" content="d7c36f83709373cd811f06c433a805cf5747f4b1057e4749ecf4dc64f8bc8031"><meta name="analytics-location" content="/&lt;user-name&gt;/&lt;repo-name&gt;/blob/show" data-turbo-transient="true"><meta name="user-login" content="2303a52320"><link rel="sudo-modal" href="https://github.com/sessions/sudo_modal"><meta name="turbo-cache-control" content="no-preview" data-turbo-transient=""><meta name="turbo-cache-control" content="no-cache" data-turbo-transient=""><meta data-hydrostats="publish"><meta name="go-import" content="github.com/arshiyaarshh07/AIML_11_2024 git https://github.com/arshiyaarshh07/AIML_11_2024.git"><meta name="octolytics-dimension-user_id" content="145633952"><meta name="octolytics-dimension-user_login" content="arshiyaarshh07"><meta name="octolytics-dimension-repository_id" content="756769206"><meta name="octolytics-dimension-repository_nwo" content="arshiyaarshh07/AIML_11_2024"><meta name="octolytics-dimension-repository_public" content="true"><meta name="octolytics-dimension-repository_is_fork" content="false"><meta name="octolytics-dimension-repository_network_root_id" content="756769206"><meta name="octolytics-dimension-repository_network_root_nwo" content="arshiyaarshh07/AIML_11_2024"><meta name="turbo-body-classes" content="logged-in env-production page-responsive"><meta name="browser-stats-url" content="https://api.github.com/_private/browser/stats"><meta name="browser-errors-url" content="https://api.github.com/_private/browser/errors"><link rel="mask-icon" href="https://github.githubassets.com/assets/pinned-octocat-093da3e6fa40.svg" color="#000000"><link rel="alternate icon" class="js-site-favicon" type="image/png" href="https://github.githubassets.com/favicons/favicon.png"><link rel="icon" class="js-site-favicon" type="image/svg+xml" href="https://github.githubassets.com/favicons/favicon.svg"><meta name="theme-color" content="#1e2327"><meta name="color-scheme" content="light dark"><meta name="msapplication-TileImage" content="/windows-tile.png"><meta name="msapplication-TileColor" content="#ffffff"><link rel="manifest" href="https://github.com/manifest.json" crossorigin="use-credentials"><style type="text/css" id="ms-consent-banner-theme-styles"></style></head>

  <body class="logged-in env-production page-responsive" style="overflow-wrap: break-word; --dialog-scrollgutter: 15px;">
    <div data-turbo-body="" class="logged-in env-production page-responsive" style="word-wrap: break-word;">
      


    <div class="position-relative js-header-wrapper ">
      <a href="https://github.com/arshiyaarshh07/AIML_11_2024/blob/main/AIML_Lab01.ipynb#start-of-content" data-skip-target-assigned="false" class="p-3 color-bg-accent-emphasis color-fg-on-emphasis show-on-focus js-skip-to-content">Skip to content</a>

      <span data-view-component="true" class="progress-pjax-loader Progress position-fixed width-full">
    <span style="width: 0%;" data-view-component="true" class="Progress-item progress-pjax-loader-bar left-0 top-0 color-bg-accent-emphasis"></span>
</span>      
      
      <script crossorigin="anonymous" defer="defer" type="application/javascript" src="./AIML_Lab01_files/vendors-node_modules_primer_react_lib-esm_Dialog_Dialog_js-node_modules_primer_react_lib-esm_-bd7638-42ec9a5bc7b9.js.download"></script>
<script crossorigin="anonymous" defer="defer" type="application/javascript" src="./AIML_Lab01_files/ui_packages_ui-commands_ui-commands_ts-637d9e7396f2.js.download"></script>
<script crossorigin="anonymous" defer="defer" type="application/javascript" src="./AIML_Lab01_files/keyboard-shortcuts-dialog-772777c04156.js.download"></script>

<react-partial partial-name="keyboard-shortcuts-dialog" data-ssr="false" data-catalyst="" class="loaded">
  
  <script type="application/json" data-target="react-partial.embeddedData">{"props":{"docsUrl":"https://docs.github.com/get-started/accessibility/keyboard-shortcuts"}}</script>
  <div data-target="react-partial.reactRoot"><script type="application/json" id="__PRIMER_DATA_:rl:__">{"resolvedServerColorMode":"day"}</script></div>
</react-partial>




      

          

                <header class="AppHeader" role="banner">
  <h2 class="sr-only">Navigation Menu</h2>

    

    <div class="AppHeader-globalBar pb-2 js-global-bar">
      <div class="AppHeader-globalBar-start">
          <deferred-side-panel data-url="/_side-panels/global" data-catalyst="">
  <include-fragment data-target="deferred-side-panel.fragment"><template shadowrootmode="open"><style>:host {display: block;}</style><slot></slot></template>
      <button aria-label="Open global navigation menu" data-action="click:deferred-side-panel#loadPanel click:deferred-side-panel#panelOpened" data-show-dialog-id="dialog-033ad8cc-c5d5-42a4-b802-afc33fac8a67" id="dialog-show-dialog-033ad8cc-c5d5-42a4-b802-afc33fac8a67" type="button" data-view-component="true" class="Button Button--iconOnly Button--secondary Button--medium AppHeader-button color-bg-transparent p-0 color-fg-muted">  <svg aria-hidden="true" height="16" viewBox="0 0 16 16" version="1.1" width="16" data-view-component="true" class="octicon octicon-three-bars Button-visual">
    <path d="M1 2.75A.75.75 0 0 1 1.75 2h12.5a.75.75 0 0 1 0 1.5H1.75A.75.75 0 0 1 1 2.75Zm0 5A.75.75 0 0 1 1.75 7h12.5a.75.75 0 0 1 0 1.5H1.75A.75.75 0 0 1 1 7.75ZM1.75 12h12.5a.75.75 0 0 1 0 1.5H1.75a.75.75 0 0 1 0-1.5Z"></path>
</svg>
</button>

<dialog-helper>
  <dialog data-target="deferred-side-panel.panel" id="dialog-033ad8cc-c5d5-42a4-b802-afc33fac8a67" aria-modal="true" aria-labelledby="dialog-033ad8cc-c5d5-42a4-b802-afc33fac8a67-title" aria-describedby="dialog-033ad8cc-c5d5-42a4-b802-afc33fac8a67-description" data-view-component="true" class="Overlay Overlay-whenNarrow Overlay--size-small-portrait Overlay--motion-scaleFade Overlay--placement-left SidePanel">
    <div styles="flex-direction: row;" data-view-component="true" class="Overlay-header">
  <div class="Overlay-headerContentWrap">
    <div class="Overlay-titleWrap">
      <h1 class="Overlay-title sr-only" id="dialog-033ad8cc-c5d5-42a4-b802-afc33fac8a67-title">
        Global navigation
      </h1>
            <div data-view-component="true" class="d-flex">
      <div data-view-component="true" class="AppHeader-logo position-relative">
        <svg aria-hidden="true" height="24" viewBox="0 0 24 24" version="1.1" width="24" data-view-component="true" class="octicon octicon-mark-github">
    <path d="M12.5.75C6.146.75 1 5.896 1 12.25c0 5.089 3.292 9.387 7.863 10.91.575.101.79-.244.79-.546 0-.273-.014-1.178-.014-2.142-2.889.532-3.636-.704-3.866-1.35-.13-.331-.69-1.352-1.18-1.625-.402-.216-.977-.748-.014-.762.906-.014 1.553.834 1.769 1.179 1.035 1.74 2.688 1.25 3.349.948.1-.747.402-1.25.733-1.538-2.559-.287-5.232-1.279-5.232-5.678 0-1.25.445-2.285 1.178-3.09-.115-.288-.517-1.467.115-3.048 0 0 .963-.302 3.163 1.179.92-.259 1.897-.388 2.875-.388.977 0 1.955.13 2.875.388 2.2-1.495 3.162-1.179 3.162-1.179.633 1.581.23 2.76.115 3.048.733.805 1.179 1.825 1.179 3.09 0 4.413-2.688 5.39-5.247 5.678.417.36.776 1.05.776 2.128 0 1.538-.014 2.774-.014 3.162 0 .302.216.662.79.547C20.709 21.637 24 17.324 24 12.25 24 5.896 18.854.75 12.5.75Z"></path>
</svg>
</div></div>
    </div>
    <div class="Overlay-actionWrap">
      <button data-close-dialog-id="dialog-033ad8cc-c5d5-42a4-b802-afc33fac8a67" aria-label="Close" type="button" data-view-component="true" class="close-button Overlay-closeButton"><svg aria-hidden="true" height="16" viewBox="0 0 16 16" version="1.1" width="16" data-view-component="true" class="octicon octicon-x">
    <path d="M3.72 3.72a.75.75 0 0 1 1.06 0L8 6.94l3.22-3.22a.749.749 0 0 1 1.275.326.749.749 0 0 1-.215.734L9.06 8l3.22 3.22a.749.749 0 0 1-.326 1.275.749.749 0 0 1-.734-.215L8 9.06l-3.22 3.22a.751.751 0 0 1-1.042-.018.751.751 0 0 1-.018-1.042L6.94 8 3.72 4.78a.75.75 0 0 1 0-1.06Z"></path>
</svg></button>
    </div>
  </div>
  
</div>
      <scrollable-region data-labelled-by="dialog-033ad8cc-c5d5-42a4-b802-afc33fac8a67-title" data-catalyst="" style="overflow: auto;">
        <div data-view-component="true" class="Overlay-body d-flex flex-column px-2">    <div data-view-component="true" class="d-flex flex-column mb-3">
        <nav aria-label="Site navigation" data-view-component="true" class="ActionList">
  
  <nav-list data-catalyst="">
    <ul data-target="nav-list.topLevelList" data-view-component="true" class="ActionListWrap">
        
          
<li data-item-id="" data-targets="nav-list.items" data-view-component="true" class="ActionListItem">
    
    
    <a data-hotkey="g d" data-analytics-event="{&quot;category&quot;:&quot;Global navigation&quot;,&quot;action&quot;:&quot;HOME&quot;,&quot;label&quot;:null}" id="item-5ba2b33b-4234-44de-9150-d4e636fc61d4" href="https://github.com/dashboard" data-view-component="true" class="ActionListContent ActionListContent--visual16">
        <span class="ActionListItem-visual ActionListItem-visual--leading">
          <svg aria-hidden="true" height="16" viewBox="0 0 16 16" version="1.1" width="16" data-view-component="true" class="octicon octicon-home">
    <path d="M6.906.664a1.749 1.749 0 0 1 2.187 0l5.25 4.2c.415.332.657.835.657 1.367v7.019A1.75 1.75 0 0 1 13.25 15h-3.5a.75.75 0 0 1-.75-.75V9H7v5.25a.75.75 0 0 1-.75.75h-3.5A1.75 1.75 0 0 1 1 13.25V6.23c0-.531.242-1.034.657-1.366l5.25-4.2Zm1.25 1.171a.25.25 0 0 0-.312 0l-5.25 4.2a.25.25 0 0 0-.094.196v7.019c0 .138.112.25.25.25H5.5V8.25a.75.75 0 0 1 .75-.75h3.5a.75.75 0 0 1 .75.75v5.25h2.75a.25.25 0 0 0 .25-.25V6.23a.25.25 0 0 0-.094-.195Z"></path>
</svg>
        </span>
      
        <span data-view-component="true" class="ActionListItem-label">
          Home
</span>      
</a>
  
</li>

        
          
<li data-item-id="" data-targets="nav-list.items" data-view-component="true" class="ActionListItem">
    
    
    <a data-hotkey="g i" data-analytics-event="{&quot;category&quot;:&quot;Global navigation&quot;,&quot;action&quot;:&quot;ISSUES&quot;,&quot;label&quot;:null}" id="item-58e58599-5285-43db-87f4-585b3fab4a1b" href="https://github.com/issues" data-view-component="true" class="ActionListContent ActionListContent--visual16">
        <span class="ActionListItem-visual ActionListItem-visual--leading">
          <svg aria-hidden="true" height="16" viewBox="0 0 16 16" version="1.1" width="16" data-view-component="true" class="octicon octicon-issue-opened">
    <path d="M8 9.5a1.5 1.5 0 1 0 0-3 1.5 1.5 0 0 0 0 3Z"></path><path d="M8 0a8 8 0 1 1 0 16A8 8 0 0 1 8 0ZM1.5 8a6.5 6.5 0 1 0 13 0 6.5 6.5 0 0 0-13 0Z"></path>
</svg>
        </span>
      
        <span data-view-component="true" class="ActionListItem-label">
          Issues
</span>      
</a>
  
</li>

        
          
<li data-item-id="" data-targets="nav-list.items" data-view-component="true" class="ActionListItem">
    
    
    <a data-hotkey="g p" data-analytics-event="{&quot;category&quot;:&quot;Global navigation&quot;,&quot;action&quot;:&quot;PULL_REQUESTS&quot;,&quot;label&quot;:null}" id="item-d3dd109c-6a1e-4763-be23-4e55a61d2bdc" href="https://github.com/pulls" data-view-component="true" class="ActionListContent ActionListContent--visual16">
        <span class="ActionListItem-visual ActionListItem-visual--leading">
          <svg aria-hidden="true" height="16" viewBox="0 0 16 16" version="1.1" width="16" data-view-component="true" class="octicon octicon-git-pull-request">
    <path d="M1.5 3.25a2.25 2.25 0 1 1 3 2.122v5.256a2.251 2.251 0 1 1-1.5 0V5.372A2.25 2.25 0 0 1 1.5 3.25Zm5.677-.177L9.573.677A.25.25 0 0 1 10 .854V2.5h1A2.5 2.5 0 0 1 13.5 5v5.628a2.251 2.251 0 1 1-1.5 0V5a1 1 0 0 0-1-1h-1v1.646a.25.25 0 0 1-.427.177L7.177 3.427a.25.25 0 0 1 0-.354ZM3.75 2.5a.75.75 0 1 0 0 1.5.75.75 0 0 0 0-1.5Zm0 9.5a.75.75 0 1 0 0 1.5.75.75 0 0 0 0-1.5Zm8.25.75a.75.75 0 1 0 1.5 0 .75.75 0 0 0-1.5 0Z"></path>
</svg>
        </span>
      
        <span data-view-component="true" class="ActionListItem-label">
          Pull requests
</span>      
</a>
  
</li>

        
          
<li data-item-id="" data-targets="nav-list.items" data-view-component="true" class="ActionListItem">
    
    
    <a data-analytics-event="{&quot;category&quot;:&quot;Global navigation&quot;,&quot;action&quot;:&quot;PROJECTS&quot;,&quot;label&quot;:null}" id="item-2d3750a7-003e-4c9e-bb54-f38598afe774" href="https://github.com/projects" data-view-component="true" class="ActionListContent ActionListContent--visual16">
        <span class="ActionListItem-visual ActionListItem-visual--leading">
          <svg aria-hidden="true" height="16" viewBox="0 0 16 16" version="1.1" width="16" data-view-component="true" class="octicon octicon-table">
    <path d="M0 1.75C0 .784.784 0 1.75 0h12.5C15.216 0 16 .784 16 1.75v12.5A1.75 1.75 0 0 1 14.25 16H1.75A1.75 1.75 0 0 1 0 14.25ZM6.5 6.5v8h7.75a.25.25 0 0 0 .25-.25V6.5Zm8-1.5V1.75a.25.25 0 0 0-.25-.25H6.5V5Zm-13 1.5v7.75c0 .138.112.25.25.25H5v-8ZM5 5V1.5H1.75a.25.25 0 0 0-.25.25V5Z"></path>
</svg>
        </span>
      
        <span data-view-component="true" class="ActionListItem-label">
          Projects
</span>      
</a>
  
</li>

        
          
<li data-item-id="" data-targets="nav-list.items" data-view-component="true" class="ActionListItem">
    
    
    <a data-analytics-event="{&quot;category&quot;:&quot;Global navigation&quot;,&quot;action&quot;:&quot;DISCUSSIONS&quot;,&quot;label&quot;:null}" id="item-b2f4ec8a-0139-43e4-9b03-6512557e044a" href="https://github.com/discussions" data-view-component="true" class="ActionListContent ActionListContent--visual16">
        <span class="ActionListItem-visual ActionListItem-visual--leading">
          <svg aria-hidden="true" height="16" viewBox="0 0 16 16" version="1.1" width="16" data-view-component="true" class="octicon octicon-comment-discussion">
    <path d="M1.75 1h8.5c.966 0 1.75.784 1.75 1.75v5.5A1.75 1.75 0 0 1 10.25 10H7.061l-2.574 2.573A1.458 1.458 0 0 1 2 11.543V10h-.25A1.75 1.75 0 0 1 0 8.25v-5.5C0 1.784.784 1 1.75 1ZM1.5 2.75v5.5c0 .138.112.25.25.25h1a.75.75 0 0 1 .75.75v2.19l2.72-2.72a.749.749 0 0 1 .53-.22h3.5a.25.25 0 0 0 .25-.25v-5.5a.25.25 0 0 0-.25-.25h-8.5a.25.25 0 0 0-.25.25Zm13 2a.25.25 0 0 0-.25-.25h-.5a.75.75 0 0 1 0-1.5h.5c.966 0 1.75.784 1.75 1.75v5.5A1.75 1.75 0 0 1 14.25 12H14v1.543a1.458 1.458 0 0 1-2.487 1.03L9.22 12.28a.749.749 0 0 1 .326-1.275.749.749 0 0 1 .734.215l2.22 2.22v-2.19a.75.75 0 0 1 .75-.75h1a.25.25 0 0 0 .25-.25Z"></path>
</svg>
        </span>
      
        <span data-view-component="true" class="ActionListItem-label">
          Discussions
</span>      
</a>
  
</li>

        
          
<li data-item-id="" data-targets="nav-list.items" data-view-component="true" class="ActionListItem">
    
    
    <a data-analytics-event="{&quot;category&quot;:&quot;Global navigation&quot;,&quot;action&quot;:&quot;CODESPACES&quot;,&quot;label&quot;:null}" id="item-72005716-cd42-41a1-90ab-ddcec4a17741" href="https://github.com/codespaces" data-view-component="true" class="ActionListContent ActionListContent--visual16">
        <span class="ActionListItem-visual ActionListItem-visual--leading">
          <svg aria-hidden="true" height="16" viewBox="0 0 16 16" version="1.1" width="16" data-view-component="true" class="octicon octicon-codespaces">
    <path d="M0 11.25c0-.966.784-1.75 1.75-1.75h12.5c.966 0 1.75.784 1.75 1.75v3A1.75 1.75 0 0 1 14.25 16H1.75A1.75 1.75 0 0 1 0 14.25Zm2-9.5C2 .784 2.784 0 3.75 0h8.5C13.216 0 14 .784 14 1.75v5a1.75 1.75 0 0 1-1.75 1.75h-8.5A1.75 1.75 0 0 1 2 6.75Zm1.75-.25a.25.25 0 0 0-.25.25v5c0 .138.112.25.25.25h8.5a.25.25 0 0 0 .25-.25v-5a.25.25 0 0 0-.25-.25Zm-2 9.5a.25.25 0 0 0-.25.25v3c0 .138.112.25.25.25h12.5a.25.25 0 0 0 .25-.25v-3a.25.25 0 0 0-.25-.25Z"></path><path d="M7 12.75a.75.75 0 0 1 .75-.75h4.5a.75.75 0 0 1 0 1.5h-4.5a.75.75 0 0 1-.75-.75Zm-4 0a.75.75 0 0 1 .75-.75h.5a.75.75 0 0 1 0 1.5h-.5a.75.75 0 0 1-.75-.75Z"></path>
</svg>
        </span>
      
        <span data-view-component="true" class="ActionListItem-label">
          Codespaces
</span>      
</a>
  
</li>

        
          <li role="presentation" aria-hidden="true" data-view-component="true" class="ActionList-sectionDivider"></li>
        
          
<li data-item-id="" data-targets="nav-list.items" data-view-component="true" class="ActionListItem">
    
    
    <a data-analytics-event="{&quot;category&quot;:&quot;Global navigation&quot;,&quot;action&quot;:&quot;EXPLORE&quot;,&quot;label&quot;:null}" id="item-c10541f1-c880-4aa6-b1b4-1a9e74329eef" href="https://github.com/explore" data-view-component="true" class="ActionListContent ActionListContent--visual16">
        <span class="ActionListItem-visual ActionListItem-visual--leading">
          <svg aria-hidden="true" height="16" viewBox="0 0 16 16" version="1.1" width="16" data-view-component="true" class="octicon octicon-telescope">
    <path d="M14.184 1.143v-.001l1.422 2.464a1.75 1.75 0 0 1-.757 2.451L3.104 11.713a1.75 1.75 0 0 1-2.275-.702l-.447-.775a1.75 1.75 0 0 1 .53-2.32L11.682.573a1.748 1.748 0 0 1 2.502.57Zm-4.709 9.32h-.001l2.644 3.863a.75.75 0 1 1-1.238.848l-1.881-2.75v2.826a.75.75 0 0 1-1.5 0v-2.826l-1.881 2.75a.75.75 0 1 1-1.238-.848l2.049-2.992a.746.746 0 0 1 .293-.253l1.809-.87a.749.749 0 0 1 .944.252ZM9.436 3.92h-.001l-4.97 3.39.942 1.63 5.42-2.61Zm3.091-2.108h.001l-1.85 1.26 1.505 2.605 2.016-.97a.247.247 0 0 0 .13-.151.247.247 0 0 0-.022-.199l-1.422-2.464a.253.253 0 0 0-.161-.119.254.254 0 0 0-.197.038ZM1.756 9.157a.25.25 0 0 0-.075.33l.447.775a.25.25 0 0 0 .325.1l1.598-.769-.83-1.436-1.465 1Z"></path>
</svg>
        </span>
      
        <span data-view-component="true" class="ActionListItem-label">
          Explore
</span>      
</a>
  
</li>

        
          
<li data-item-id="" data-targets="nav-list.items" data-view-component="true" class="ActionListItem">
    
    
    <a data-analytics-event="{&quot;category&quot;:&quot;Global navigation&quot;,&quot;action&quot;:&quot;MARKETPLACE&quot;,&quot;label&quot;:null}" id="item-667a61aa-e6d6-4933-bad1-aa10295fb7f5" href="https://github.com/marketplace" data-view-component="true" class="ActionListContent ActionListContent--visual16">
        <span class="ActionListItem-visual ActionListItem-visual--leading">
          <svg aria-hidden="true" height="16" viewBox="0 0 16 16" version="1.1" width="16" data-view-component="true" class="octicon octicon-gift">
    <path d="M2 2.75A2.75 2.75 0 0 1 4.75 0c.983 0 1.873.42 2.57 1.232.268.318.497.668.68 1.042.183-.375.411-.725.68-1.044C9.376.42 10.266 0 11.25 0a2.75 2.75 0 0 1 2.45 4h.55c.966 0 1.75.784 1.75 1.75v2c0 .698-.409 1.301-1 1.582v4.918A1.75 1.75 0 0 1 13.25 16H2.75A1.75 1.75 0 0 1 1 14.25V9.332C.409 9.05 0 8.448 0 7.75v-2C0 4.784.784 4 1.75 4h.55c-.192-.375-.3-.8-.3-1.25ZM7.25 9.5H2.5v4.75c0 .138.112.25.25.25h4.5Zm1.5 0v5h4.5a.25.25 0 0 0 .25-.25V9.5Zm0-4V8h5.5a.25.25 0 0 0 .25-.25v-2a.25.25 0 0 0-.25-.25Zm-7 0a.25.25 0 0 0-.25.25v2c0 .138.112.25.25.25h5.5V5.5h-5.5Zm3-4a1.25 1.25 0 0 0 0 2.5h2.309c-.233-.818-.542-1.401-.878-1.793-.43-.502-.915-.707-1.431-.707ZM8.941 4h2.309a1.25 1.25 0 0 0 0-2.5c-.516 0-1 .205-1.43.707-.337.392-.646.975-.879 1.793Z"></path>
</svg>
        </span>
      
        <span data-view-component="true" class="ActionListItem-label">
          Marketplace
</span>      
</a>
  
</li>

</ul>  </nav-list>
</nav>

        <div data-view-component="true" class="my-3 d-flex flex-justify-center height-full">
          <span data-view-component="true">
  <svg style="box-sizing: content-box; color: var(--color-icon-primary);" width="16" height="16" viewBox="0 0 16 16" fill="none" aria-hidden="true" data-view-component="true" class="anim-rotate">
    <circle cx="8" cy="8" r="7" stroke="currentColor" stroke-opacity="0.25" stroke-width="2" vector-effect="non-scaling-stroke" fill="none"></circle>
    <path d="M15 8a7.002 7.002 0 00-7-7" stroke="currentColor" stroke-width="2" stroke-linecap="round" vector-effect="non-scaling-stroke"></path>
</svg>    <span class="sr-only">Loading</span>
</span>
</div>
</div>
      <div data-view-component="true" class="flex-1"></div>


      <div data-view-component="true" class="px-2">      <p class="color-fg-subtle text-small text-light">© 2024 GitHub, Inc.</p>

      <div data-view-component="true" class="d-flex flex-wrap text-small text-light">
          <a target="_blank" href="https://github.com/about" data-view-component="true" class="Link mr-2">About</a>
          <a target="_blank" href="https://github.blog/" data-view-component="true" class="Link mr-2">Blog</a>
          <a target="_blank" href="https://docs.github.com/site-policy/github-terms/github-terms-of-service" data-view-component="true" class="Link mr-2">Terms</a>
          <a target="_blank" href="https://docs.github.com/site-policy/privacy-policies/github-privacy-statement" data-view-component="true" class="Link mr-2">Privacy</a>
          <a target="_blank" href="https://github.com/security" data-view-component="true" class="Link mr-2">Security</a>
          <a target="_blank" href="https://www.githubstatus.com/" data-view-component="true" class="Link mr-3">Status</a>

</div></div>
</div>
      </scrollable-region>
      
</dialog></dialog-helper>

  </include-fragment>
</deferred-side-panel>

        <a class="AppHeader-logo ml-2" href="https://github.com/" data-hotkey="g d" aria-label="Homepage " data-turbo="false" data-analytics-event="{&quot;category&quot;:&quot;Header&quot;,&quot;action&quot;:&quot;go to dashboard&quot;,&quot;label&quot;:&quot;icon:logo&quot;}">
          <svg height="32" aria-hidden="true" viewBox="0 0 24 24" version="1.1" width="32" data-view-component="true" class="octicon octicon-mark-github v-align-middle color-fg-default">
    <path d="M12.5.75C6.146.75 1 5.896 1 12.25c0 5.089 3.292 9.387 7.863 10.91.575.101.79-.244.79-.546 0-.273-.014-1.178-.014-2.142-2.889.532-3.636-.704-3.866-1.35-.13-.331-.69-1.352-1.18-1.625-.402-.216-.977-.748-.014-.762.906-.014 1.553.834 1.769 1.179 1.035 1.74 2.688 1.25 3.349.948.1-.747.402-1.25.733-1.538-2.559-.287-5.232-1.279-5.232-5.678 0-1.25.445-2.285 1.178-3.09-.115-.288-.517-1.467.115-3.048 0 0 .963-.302 3.163 1.179.92-.259 1.897-.388 2.875-.388.977 0 1.955.13 2.875.388 2.2-1.495 3.162-1.179 3.162-1.179.633 1.581.23 2.76.115 3.048.733.805 1.179 1.825 1.179 3.09 0 4.413-2.688 5.39-5.247 5.678.417.36.776 1.05.776 2.128 0 1.538-.014 2.774-.014 3.162 0 .302.216.662.79.547C20.709 21.637 24 17.324 24 12.25 24 5.896 18.854.75 12.5.75Z"></path>
</svg>
        </a>

          <div class="AppHeader-context">
  <div class="AppHeader-context-compact">
      <button aria-expanded="false" aria-haspopup="dialog" aria-label="Page context: arshiyaarshh07 / AIML_11_2024" id="dialog-show-context-region-dialog" data-show-dialog-id="context-region-dialog" type="button" data-view-component="true" class="AppHeader-context-compact-trigger Truncate Button--secondary Button--medium Button box-shadow-none">  <span class="Button-content">
    <span class="Button-label"><span class="AppHeader-context-compact-lead">
                <span class="AppHeader-context-compact-parentItem">arshiyaarshh07</span>
                <span class="no-wrap">&nbsp;/</span>

            </span>

            <strong class="AppHeader-context-compact-mainItem d-flex flex-items-center Truncate">
  <span class="Truncate-text ">AIML_11_2024</span>

</strong></span>
  </span>
</button>

<dialog-helper>
  <dialog id="context-region-dialog" aria-modal="true" aria-labelledby="context-region-dialog-title" aria-describedby="context-region-dialog-description" data-view-component="true" class="Overlay Overlay-whenNarrow Overlay--size-medium Overlay--motion-scaleFade">
    <div data-view-component="true" class="Overlay-header">
  <div class="Overlay-headerContentWrap">
    <div class="Overlay-titleWrap">
      <h1 class="Overlay-title " id="context-region-dialog-title">
        Navigate back to
      </h1>
        
    </div>
    <div class="Overlay-actionWrap">
      <button data-close-dialog-id="context-region-dialog" aria-label="Close" type="button" data-view-component="true" class="close-button Overlay-closeButton"><svg aria-hidden="true" height="16" viewBox="0 0 16 16" version="1.1" width="16" data-view-component="true" class="octicon octicon-x">
    <path d="M3.72 3.72a.75.75 0 0 1 1.06 0L8 6.94l3.22-3.22a.749.749 0 0 1 1.275.326.749.749 0 0 1-.215.734L9.06 8l3.22 3.22a.749.749 0 0 1-.326 1.275.749.749 0 0 1-.734-.215L8 9.06l-3.22 3.22a.751.751 0 0 1-1.042-.018.751.751 0 0 1-.018-1.042L6.94 8 3.72 4.78a.75.75 0 0 1 0-1.06Z"></path>
</svg></button>
    </div>
  </div>
  
</div>
      <scrollable-region data-labelled-by="context-region-dialog-title" data-catalyst="" style="overflow: auto;">
        <div data-view-component="true" class="Overlay-body">          <ul role="list" class="list-style-none">
    <li>
      <a data-analytics-event="{&quot;category&quot;:&quot;SiteHeaderComponent&quot;,&quot;action&quot;:&quot;context_region_crumb&quot;,&quot;label&quot;:&quot;arshiyaarshh07&quot;,&quot;screen_size&quot;:&quot;compact&quot;}" href="https://github.com/arshiyaarshh07" data-view-component="true" class="Link--primary Truncate d-flex flex-items-center py-1">
        <span class="AppHeader-context-item-label Truncate-text ">
            <svg aria-hidden="true" height="12" viewBox="0 0 16 16" version="1.1" width="12" data-view-component="true" class="octicon octicon-person mr-1">
    <path d="M10.561 8.073a6.005 6.005 0 0 1 3.432 5.142.75.75 0 1 1-1.498.07 4.5 4.5 0 0 0-8.99 0 .75.75 0 0 1-1.498-.07 6.004 6.004 0 0 1 3.431-5.142 3.999 3.999 0 1 1 5.123 0ZM10.5 5a2.5 2.5 0 1 0-5 0 2.5 2.5 0 0 0 5 0Z"></path>
</svg>

          arshiyaarshh07
        </span>

</a>
    </li>
    <li>
      <a data-analytics-event="{&quot;category&quot;:&quot;SiteHeaderComponent&quot;,&quot;action&quot;:&quot;context_region_crumb&quot;,&quot;label&quot;:&quot;AIML_11_2024&quot;,&quot;screen_size&quot;:&quot;compact&quot;}" href="https://github.com/arshiyaarshh07/AIML_11_2024" data-view-component="true" class="Link--primary Truncate d-flex flex-items-center py-1">
        <span class="AppHeader-context-item-label Truncate-text ">
            <svg aria-hidden="true" height="12" viewBox="0 0 16 16" version="1.1" width="12" data-view-component="true" class="octicon octicon-repo mr-1">
    <path d="M2 2.5A2.5 2.5 0 0 1 4.5 0h8.75a.75.75 0 0 1 .75.75v12.5a.75.75 0 0 1-.75.75h-2.5a.75.75 0 0 1 0-1.5h1.75v-2h-8a1 1 0 0 0-.714 1.7.75.75 0 1 1-1.072 1.05A2.495 2.495 0 0 1 2 11.5Zm10.5-1h-8a1 1 0 0 0-1 1v6.708A2.486 2.486 0 0 1 4.5 9h8ZM5 12.25a.25.25 0 0 1 .25-.25h3.5a.25.25 0 0 1 .25.25v3.25a.25.25 0 0 1-.4.2l-1.45-1.087a.249.249 0 0 0-.3 0L5.4 15.7a.25.25 0 0 1-.4-.2Z"></path>
</svg>

          AIML_11_2024
        </span>

</a>
    </li>
</ul>

</div>
      </scrollable-region>
      
</dialog></dialog-helper>
  </div>

  <div class="AppHeader-context-full">
    <nav role="navigation" aria-label="Page context">
      <ul role="list" class="list-style-none">
    <li>
      <a data-analytics-event="{&quot;category&quot;:&quot;SiteHeaderComponent&quot;,&quot;action&quot;:&quot;context_region_crumb&quot;,&quot;label&quot;:&quot;arshiyaarshh07&quot;,&quot;screen_size&quot;:&quot;full&quot;}" data-hovercard-type="user" data-hovercard-url="/users/arshiyaarshh07/hovercard" data-octo-click="hovercard-link-click" data-octo-dimensions="link_type:self" href="https://github.com/arshiyaarshh07" data-view-component="true" class="AppHeader-context-item">
        <span class="AppHeader-context-item-label  ">

          arshiyaarshh07
        </span>

</a>
        <span class="AppHeader-context-item-separator">/</span>
    </li>
    <li>
      <a data-analytics-event="{&quot;category&quot;:&quot;SiteHeaderComponent&quot;,&quot;action&quot;:&quot;context_region_crumb&quot;,&quot;label&quot;:&quot;AIML_11_2024&quot;,&quot;screen_size&quot;:&quot;full&quot;}" href="https://github.com/arshiyaarshh07/AIML_11_2024" data-view-component="true" class="AppHeader-context-item">
        <span class="AppHeader-context-item-label  ">

          AIML_11_2024
        </span>

</a>
    </li>
</ul>

    </nav>
  </div>
</div>

      </div>
      <div class="AppHeader-globalBar-end">
          <div class="AppHeader-search">
              


<qbsearch-input class="search-input" data-scope="repo:arshiyaarshh07/AIML_11_2024" data-custom-scopes-path="/search/custom_scopes" data-delete-custom-scopes-csrf="NEkykhWoIj8btj0QYalRzIH0u8fIzZWMSKryuakOF949VHrghqz_5mUYGAlJ_TF9lh9FOW_0QT9Lf_vLwMFzOg" data-max-custom-scopes="10" data-header-redesign-enabled="true" data-initial-value="" data-blackbird-suggestions-path="/search/suggestions" data-jump-to-suggestions-path="/_graphql/GetSuggestedNavigationDestinations" data-current-repository="arshiyaarshh07/AIML_11_2024" data-current-org="" data-current-owner="arshiyaarshh07" data-logged-in="true" data-copilot-chat-enabled="false" data-nl-search-enabled="false" data-catalyst="">
  <div class="search-input-container search-with-dialog position-relative d-flex flex-row flex-items-center height-auto color-bg-transparent border-0 color-fg-subtle mx-0" data-action="click:qbsearch-input#searchInputContainerClicked">
      
            <button type="button" data-action="click:qbsearch-input#handleExpand" class="AppHeader-button AppHeader-search-whenNarrow" aria-label="Search or jump to…" aria-expanded="false" aria-haspopup="dialog">
            <svg aria-hidden="true" height="16" viewBox="0 0 16 16" version="1.1" width="16" data-view-component="true" class="octicon octicon-search">
    <path d="M10.68 11.74a6 6 0 0 1-7.922-8.982 6 6 0 0 1 8.982 7.922l3.04 3.04a.749.749 0 0 1-.326 1.275.749.749 0 0 1-.734-.215ZM11.5 7a4.499 4.499 0 1 0-8.997 0A4.499 4.499 0 0 0 11.5 7Z"></path>
</svg>
          </button>


<div class="AppHeader-search-whenRegular">
  <div class="AppHeader-search-wrap AppHeader-search-wrap--hasTrailing">
    <div class="AppHeader-search-control">
      <label for="AppHeader-searchInput" aria-label="Search or jump to…" class="AppHeader-search-visual--leading">
        <svg aria-hidden="true" height="16" viewBox="0 0 16 16" version="1.1" width="16" data-view-component="true" class="octicon octicon-search">
    <path d="M10.68 11.74a6 6 0 0 1-7.922-8.982 6 6 0 0 1 8.982 7.922l3.04 3.04a.749.749 0 0 1-.326 1.275.749.749 0 0 1-.734-.215ZM11.5 7a4.499 4.499 0 1 0-8.997 0A4.499 4.499 0 0 0 11.5 7Z"></path>
</svg>
      </label>

                <button type="button" data-target="qbsearch-input.inputButton" data-action="click:qbsearch-input#handleExpand" class="AppHeader-searchButton form-control input-contrast text-left color-fg-subtle no-wrap placeholder" data-hotkey="s,/" data-analytics-event="{&quot;location&quot;:&quot;navbar&quot;,&quot;action&quot;:&quot;searchbar&quot;,&quot;context&quot;:&quot;global&quot;,&quot;tag&quot;:&quot;input&quot;,&quot;label&quot;:&quot;searchbar_input_global_navbar&quot;}" aria-describedby="search-error-message-flash">
            <div class="overflow-hidden">
              <span id="qb-input-query" data-target="qbsearch-input.inputButtonText">
                  Type <kbd class="AppHeader-search-kbd">/</kbd> to search
              </span>
            </div>
          </button>

    </div>


  </div>
</div>

    <input type="hidden" name="type" class="js-site-search-type-field">

    
<div class="Overlay--hidden " data-modal-dialog-overlay="">
  <modal-dialog data-action="close:qbsearch-input#handleClose cancel:qbsearch-input#handleClose" data-target="qbsearch-input.searchSuggestionsDialog" role="dialog" id="search-suggestions-dialog" aria-modal="true" aria-labelledby="search-suggestions-dialog-header" data-view-component="true" class="Overlay Overlay--width-medium Overlay--height-auto">
      <h1 id="search-suggestions-dialog-header" class="sr-only">Search code, repositories, users, issues, pull requests...</h1>
    <div class="Overlay-body Overlay-body--paddingNone">
      
          <div data-view-component="true">        <div class="search-suggestions position-absolute width-full color-shadow-large border color-fg-default color-bg-default overflow-hidden d-flex flex-column query-builder-container" style="border-radius: 12px;" data-target="qbsearch-input.queryBuilderContainer" hidden="">
          <!-- '"` --><!-- </textarea></xmp> --><form id="query-builder-test-form" action="https://github.com/arshiyaarshh07/AIML_11_2024/blob/main/AIML_Lab01.ipynb" accept-charset="UTF-8" method="get">
  <query-builder data-target="qbsearch-input.queryBuilder" id="query-builder-query-builder-test" data-filter-key=":" data-view-component="true" class="QueryBuilder search-query-builder" data-min-width="300" data-catalyst="">
    <div class="FormControl FormControl--fullWidth">
      <label id="query-builder-test-label" for="query-builder-test" class="FormControl-label sr-only">
        Search
      </label>
      <div class="QueryBuilder-StyledInput width-fit " data-target="query-builder.styledInput">
          <span id="query-builder-test-leadingvisual-wrap" class="FormControl-input-leadingVisualWrap QueryBuilder-leadingVisualWrap">
            <svg aria-hidden="true" height="16" viewBox="0 0 16 16" version="1.1" width="16" data-view-component="true" class="octicon octicon-search FormControl-input-leadingVisual">
    <path d="M10.68 11.74a6 6 0 0 1-7.922-8.982 6 6 0 0 1 8.982 7.922l3.04 3.04a.749.749 0 0 1-.326 1.275.749.749 0 0 1-.734-.215ZM11.5 7a4.499 4.499 0 1 0-8.997 0A4.499 4.499 0 0 0 11.5 7Z"></path>
</svg>
          </span>
        <div data-target="query-builder.styledInputContainer" class="QueryBuilder-StyledInputContainer">
          <div aria-hidden="true" class="QueryBuilder-StyledInputContent" data-target="query-builder.styledInputContent"></div>
          <div class="QueryBuilder-InputWrapper">
            <div aria-hidden="true" class="QueryBuilder-Sizer" data-target="query-builder.sizer"><span></span></div>
            <input id="query-builder-test" name="query-builder-test" value="" autocomplete="off" type="text" role="combobox" spellcheck="false" aria-expanded="false" aria-describedby="validation-745887c9-c1fd-45fd-b3b6-38d1dbeb0beb" data-target="query-builder.input" data-action="
          input:query-builder#inputChange
          blur:query-builder#inputBlur
          keydown:query-builder#inputKeydown
          focus:query-builder#inputFocus
        " data-view-component="true" class="FormControl-input QueryBuilder-Input FormControl-medium" aria-controls="query-builder-test-results" aria-autocomplete="list" aria-haspopup="listbox" style="width: 300px;">
          </div>
        </div>
          <span class="sr-only" id="query-builder-test-clear">Clear</span>
          <button role="button" id="query-builder-test-clear-button" aria-labelledby="query-builder-test-clear query-builder-test-label" data-target="query-builder.clearButton" data-action="
                click:query-builder#clear
                focus:query-builder#clearButtonFocus
                blur:query-builder#clearButtonBlur
              " variant="small" hidden="" type="button" data-view-component="true" class="Button Button--iconOnly Button--invisible Button--medium mr-1 px-2 py-0 d-flex flex-items-center rounded-1 color-fg-muted">  <svg aria-hidden="true" height="16" viewBox="0 0 16 16" version="1.1" width="16" data-view-component="true" class="octicon octicon-x-circle-fill Button-visual">
    <path d="M2.343 13.657A8 8 0 1 1 13.658 2.343 8 8 0 0 1 2.343 13.657ZM6.03 4.97a.751.751 0 0 0-1.042.018.751.751 0 0 0-.018 1.042L6.94 8 4.97 9.97a.749.749 0 0 0 .326 1.275.749.749 0 0 0 .734-.215L8 9.06l1.97 1.97a.749.749 0 0 0 1.275-.326.749.749 0 0 0-.215-.734L9.06 8l1.97-1.97a.749.749 0 0 0-.326-1.275.749.749 0 0 0-.734.215L8 6.94Z"></path>
</svg>
</button>

      </div>
      <template id="search-icon"></template>

<template id="code-icon"></template>

<template id="file-code-icon"></template>

<template id="history-icon"></template>

<template id="repo-icon"></template>

<template id="bookmark-icon"></template>

<template id="plus-circle-icon"></template>

<template id="circle-icon"></template>

<template id="trash-icon"></template>

<template id="team-icon"></template>

<template id="project-icon"></template>

<template id="pencil-icon"></template>

<template id="copilot-icon"></template>

<template id="copilot-error-icon"></template>

<template id="workflow-icon"></template>

<template id="book-icon"></template>

<template id="code-review-icon"></template>

<template id="codespaces-icon"></template>

<template id="comment-icon"></template>

<template id="comment-discussion-icon"></template>

<template id="organization-icon"></template>

<template id="rocket-icon"></template>

<template id="shield-check-icon"></template>

<template id="heart-icon"></template>

<template id="server-icon"></template>

<template id="globe-icon"></template>

<template id="issue-opened-icon"></template>

<template id="device-mobile-icon"></template>

<template id="package-icon"></template>

<template id="credit-card-icon"></template>

<template id="play-icon"></template>

<template id="gift-icon"></template>

<template id="code-square-icon"></template>

<template id="device-desktop-icon"></template>

        <div class="position-relative">
                <ul role="listbox" class="ActionListWrap QueryBuilder-ListWrap" aria-label="Suggestions" data-action="
                    combobox-commit:query-builder#comboboxCommit
                    mousedown:query-builder#resultsMousedown
                  " data-target="query-builder.resultsList" data-persist-list="false" id="query-builder-test-results"></ul>
        </div>
      <div class="FormControl-inlineValidation" id="validation-745887c9-c1fd-45fd-b3b6-38d1dbeb0beb" hidden="hidden">
        <span class="FormControl-inlineValidation--visual">
          <svg aria-hidden="true" height="12" viewBox="0 0 12 12" version="1.1" width="12" data-view-component="true" class="octicon octicon-alert-fill">
    <path d="M4.855.708c.5-.896 1.79-.896 2.29 0l4.675 8.351a1.312 1.312 0 0 1-1.146 1.954H1.33A1.313 1.313 0 0 1 .183 9.058ZM7 7V3H5v4Zm-1 3a1 1 0 1 0 0-2 1 1 0 0 0 0 2Z"></path>
</svg>
        </span>
        <span></span>
</div>    </div>
    <div data-target="query-builder.screenReaderFeedback" aria-live="polite" aria-atomic="true" class="sr-only">0 suggestions.</div>
</query-builder></form>
          <div class="d-flex flex-row color-fg-muted px-3 text-small color-bg-default search-feedback-prompt">
            <a target="_blank" href="https://docs.github.com/search-github/github-code-search/understanding-github-code-search-syntax" data-view-component="true" class="Link color-fg-accent text-normal ml-2">
              Search syntax tips
</a>            <div class="d-flex flex-1"></div>
              <button data-action="click:qbsearch-input#showFeedbackDialog" type="button" data-view-component="true" class="Button--link Button--medium Button color-fg-accent text-normal ml-2">  <span class="Button-content">
    <span class="Button-label">Give feedback</span>
  </span>
</button>
          </div>
        </div>
</div>

    </div>
</modal-dialog></div>
  </div>
  <div data-action="click:qbsearch-input#retract" class="dark-backdrop position-fixed" hidden="" data-target="qbsearch-input.darkBackdrop"></div>
  <div class="color-fg-default">
    
<dialog-helper>
  <dialog data-target="qbsearch-input.feedbackDialog" data-action="close:qbsearch-input#handleDialogClose cancel:qbsearch-input#handleDialogClose" id="feedback-dialog" aria-modal="true" aria-labelledby="feedback-dialog-title" aria-describedby="feedback-dialog-description" data-view-component="true" class="Overlay Overlay-whenNarrow Overlay--size-medium Overlay--motion-scaleFade">
    <div data-view-component="true" class="Overlay-header">
  <div class="Overlay-headerContentWrap">
    <div class="Overlay-titleWrap">
      <h1 class="Overlay-title " id="feedback-dialog-title">
        Provide feedback
      </h1>
        
    </div>
    <div class="Overlay-actionWrap">
      <button data-close-dialog-id="feedback-dialog" aria-label="Close" type="button" data-view-component="true" class="close-button Overlay-closeButton"><svg aria-hidden="true" height="16" viewBox="0 0 16 16" version="1.1" width="16" data-view-component="true" class="octicon octicon-x">
    <path d="M3.72 3.72a.75.75 0 0 1 1.06 0L8 6.94l3.22-3.22a.749.749 0 0 1 1.275.326.749.749 0 0 1-.215.734L9.06 8l3.22 3.22a.749.749 0 0 1-.326 1.275.749.749 0 0 1-.734-.215L8 9.06l-3.22 3.22a.751.751 0 0 1-1.042-.018.751.751 0 0 1-.018-1.042L6.94 8 3.72 4.78a.75.75 0 0 1 0-1.06Z"></path>
</svg></button>
    </div>
  </div>
  
</div>
      <scrollable-region data-labelled-by="feedback-dialog-title" data-catalyst="" style="overflow: auto;">
        <div data-view-component="true" class="Overlay-body">        <!-- '"` --><!-- </textarea></xmp> --><form id="code-search-feedback-form" data-turbo="false" action="https://github.com/search/feedback" accept-charset="UTF-8" method="post"><input type="hidden" name="authenticity_token" value="LPBikWqARRBwTYeNm3qzBYeOvBGBT3YWPLxF1iEimkOkb96bBOlAUBRVB_JAdRYDBaDCSUm_NPdHv82dTc_fKg">
          <p>We read every piece of feedback, and take your input very seriously.</p>
          <textarea name="feedback" class="form-control width-full mb-2" style="height: 120px" id="feedback"></textarea>
          <input name="include_email" id="include_email" aria-label="Include my email address so I can be contacted" class="form-control mr-2" type="checkbox">
          <label for="include_email" style="font-weight: normal">Include my email address so I can be contacted</label>
</form></div>
      </scrollable-region>
      <div data-view-component="true" class="Overlay-footer Overlay-footer--alignEnd">          <button data-close-dialog-id="feedback-dialog" type="button" data-view-component="true" class="btn">    Cancel
</button>
          <button form="code-search-feedback-form" data-action="click:qbsearch-input#submitFeedback" type="submit" data-view-component="true" class="btn-primary btn">    Submit feedback
</button>
</div>
</dialog></dialog-helper>

    <custom-scopes data-target="qbsearch-input.customScopesManager" data-catalyst="">
    
<dialog-helper>
  <dialog data-target="custom-scopes.customScopesModalDialog" data-action="close:qbsearch-input#handleDialogClose cancel:qbsearch-input#handleDialogClose" id="custom-scopes-dialog" aria-modal="true" aria-labelledby="custom-scopes-dialog-title" aria-describedby="custom-scopes-dialog-description" data-view-component="true" class="Overlay Overlay-whenNarrow Overlay--size-medium Overlay--motion-scaleFade">
    <div data-view-component="true" class="Overlay-header Overlay-header--divided">
  <div class="Overlay-headerContentWrap">
    <div class="Overlay-titleWrap">
      <h1 class="Overlay-title " id="custom-scopes-dialog-title">
        Saved searches
      </h1>
        <h2 id="custom-scopes-dialog-description" class="Overlay-description">Use saved searches to filter your results more quickly</h2>
    </div>
    <div class="Overlay-actionWrap">
      <button data-close-dialog-id="custom-scopes-dialog" aria-label="Close" type="button" data-view-component="true" class="close-button Overlay-closeButton"><svg aria-hidden="true" height="16" viewBox="0 0 16 16" version="1.1" width="16" data-view-component="true" class="octicon octicon-x">
    <path d="M3.72 3.72a.75.75 0 0 1 1.06 0L8 6.94l3.22-3.22a.749.749 0 0 1 1.275.326.749.749 0 0 1-.215.734L9.06 8l3.22 3.22a.749.749 0 0 1-.326 1.275.749.749 0 0 1-.734-.215L8 9.06l-3.22 3.22a.751.751 0 0 1-1.042-.018.751.751 0 0 1-.018-1.042L6.94 8 3.72 4.78a.75.75 0 0 1 0-1.06Z"></path>
</svg></button>
    </div>
  </div>
  
</div>
      <scrollable-region data-labelled-by="custom-scopes-dialog-title" data-catalyst="" style="overflow: auto;">
        <div data-view-component="true" class="Overlay-body">        <div data-target="custom-scopes.customScopesModalDialogFlash"></div>

        <div hidden="" class="create-custom-scope-form" data-target="custom-scopes.createCustomScopeForm">
        <!-- '"` --><!-- </textarea></xmp> --><form id="custom-scopes-dialog-form" data-turbo="false" action="https://github.com/search/custom_scopes" accept-charset="UTF-8" method="post"><input type="hidden" name="authenticity_token" value="dC_47oyiulccCqzkZjrO0ewSFvZjjf7miG8kExekCTt3YFQfcygWUTbc84bh4H_gMSI-TeoQYcJIcksR64OYKg">
          <div data-target="custom-scopes.customScopesModalDialogFlash"></div>

          <input type="hidden" id="custom_scope_id" name="custom_scope_id" data-target="custom-scopes.customScopesIdField">

          <div class="form-group">
            <label for="custom_scope_name">Name</label>
            <auto-check src="/search/custom_scopes/check_name" required="">
              <input type="text" name="custom_scope_name" id="custom_scope_name" data-target="custom-scopes.customScopesNameField" class="form-control" autocomplete="off" placeholder="github-ruby" required="" maxlength="50" spellcheck="false">
              <input type="hidden" value="Zqf-9cg_0BkhWuwPB99pUvON1kSZsgpwFRgaGqEKEQ_ssQ_xjeGuqh3N2nN6fnh_xtplZLnBd2xN-jDGQ5Kpxw" data-csrf="true">
            </auto-check>
          </div>

          <div class="form-group">
            <label for="custom_scope_query">Query</label>
            <input type="text" name="custom_scope_query" id="custom_scope_query" data-target="custom-scopes.customScopesQueryField" class="form-control" autocomplete="off" placeholder="(repo:mona/a OR repo:mona/b) AND lang:python" required="" maxlength="500">
          </div>

          <p class="text-small color-fg-muted">
            To see all available qualifiers, see our <a class="Link--inTextBlock" href="https://docs.github.com/search-github/github-code-search/understanding-github-code-search-syntax">documentation</a>.
          </p>
</form>        </div>

        <div data-target="custom-scopes.manageCustomScopesForm">
          <div data-target="custom-scopes.list"></div>
        </div>

</div>
      </scrollable-region>
      <div data-view-component="true" class="Overlay-footer Overlay-footer--alignEnd Overlay-footer--divided">          <button data-action="click:custom-scopes#customScopesCancel" type="button" data-view-component="true" class="btn">    Cancel
</button>
          <button form="custom-scopes-dialog-form" data-action="click:custom-scopes#customScopesSubmit" data-target="custom-scopes.customScopesSubmitButton" type="submit" data-view-component="true" class="btn-primary btn">    Create saved search
</button>
</div>
</dialog></dialog-helper>
    </custom-scopes>
  </div>
</qbsearch-input>    <input type="hidden" value="O1VxlcjU0o8d9n3qdbZYEyKV16opBbiIC6VI-AaGturzc20J0uLMcCT-0c63GAwxEd3sGI2NNRdRIe0ypnk7yg" data-csrf="true" class="js-data-jump-to-suggestions-path-csrf">

          </div>

        <div class="AppHeader-actions position-relative">
             <react-partial-anchor data-catalyst="">
      <button id="global-create-menu-anchor" aria-label="Create something new" data-target="react-partial-anchor.anchor" type="button" data-view-component="true" class="AppHeader-button global-create-button Button--secondary Button--medium Button width-auto color-fg-muted" aria-describedby="tooltip-ff25775b-a5e3-4d93-b951-4a4346210bf3" aria-expanded="false" aria-haspopup="true">  <span class="Button-content">
      <span class="Button-visual Button-leadingVisual">
        <svg aria-hidden="true" height="16" viewBox="0 0 16 16" version="1.1" width="16" data-view-component="true" class="octicon octicon-plus">
    <path d="M7.75 2a.75.75 0 0 1 .75.75V7h4.25a.75.75 0 0 1 0 1.5H8.5v4.25a.75.75 0 0 1-1.5 0V8.5H2.75a.75.75 0 0 1 0-1.5H7V2.75A.75.75 0 0 1 7.75 2Z"></path>
</svg>
      </span>
    <span class="Button-label"><svg aria-hidden="true" height="16" viewBox="0 0 16 16" version="1.1" width="16" data-view-component="true" class="octicon octicon-triangle-down">
    <path d="m4.427 7.427 3.396 3.396a.25.25 0 0 0 .354 0l3.396-3.396A.25.25 0 0 0 11.396 7H4.604a.25.25 0 0 0-.177.427Z"></path>
</svg></span>
  </span>
</button><tool-tip id="tooltip-ff25775b-a5e3-4d93-b951-4a4346210bf3" for="global-create-menu-anchor" popover="manual" data-direction="s" data-type="description" data-view-component="true" class="sr-only position-absolute" role="tooltip"><template shadowrootmode="open"><style>
      :host {
        --tooltip-top: var(--tool-tip-position-top, 0);
        --tooltip-left: var(--tool-tip-position-left, 0);
        padding: var(--overlay-paddingBlock-condensed) var(--overlay-padding-condensed) !important;
        font: var(--text-body-shorthand-small);
        color: var(--tooltip-fgColor, var(--fgColor-onEmphasis)) !important;
        text-align: center;
        text-decoration: none;
        text-shadow: none;
        text-transform: none;
        letter-spacing: normal;
        word-wrap: break-word;
        white-space: pre;
        background: var(--tooltip-bgColor, var(--bgColor-emphasis)) !important;
        border-radius: var(--borderRadius-medium);
        border: 0 !important;
        opacity: 0;
        max-width: var(--overlay-width-small);
        word-wrap: break-word;
        white-space: normal;
        width: max-content !important;
        inset: var(--tooltip-top) auto auto var(--tooltip-left) !important;
        overflow: visible !important;
        text-wrap: balance;
      }

      :host(:is(.tooltip-n, .tooltip-nw, .tooltip-ne)) {
        --tooltip-top: calc(var(--tool-tip-position-top, 0) - var(--overlay-offset, 0.25rem));
        --tooltip-left: var(--tool-tip-position-left);
      }

      :host(:is(.tooltip-s, .tooltip-sw, .tooltip-se)) {
        --tooltip-top: calc(var(--tool-tip-position-top, 0) + var(--overlay-offset, 0.25rem));
        --tooltip-left: var(--tool-tip-position-left);
      }

      :host(.tooltip-w) {
        --tooltip-top: var(--tool-tip-position-top);
        --tooltip-left: calc(var(--tool-tip-position-left, 0) - var(--overlay-offset, 0.25rem));
      }

      :host(.tooltip-e) {
        --tooltip-top: var(--tool-tip-position-top);
        --tooltip-left: calc(var(--tool-tip-position-left, 0) + var(--overlay-offset, 0.25rem));
      }

      :host:after{
        position: absolute;
        display: block;
        right: 0;
        left: 0;
        height: var(--overlay-offset, 0.25rem);
        content: "";
      }

      :host(.tooltip-s):after,
      :host(.tooltip-se):after,
      :host(.tooltip-sw):after {
        bottom: 100%
      }

      :host(.tooltip-n):after,
      :host(.tooltip-ne):after,
      :host(.tooltip-nw):after {
        top: 100%;
      }

      @keyframes tooltip-appear {
        from {
          opacity: 0;
        }
        to {
          opacity: 1;
        }
      }

      :host(:popover-open),
      :host(:popover-open):before {
        animation-name: tooltip-appear;
        animation-duration: .1s;
        animation-fill-mode: forwards;
        animation-timing-function: ease-in;
      }

      :host(.\:popover-open) {
        animation-name: tooltip-appear;
        animation-duration: .1s;
        animation-fill-mode: forwards;
        animation-timing-function: ease-in;
      }

      @media (forced-colors: active) {
        :host {
          outline: solid 1px transparent;
        }

        :host:before {
          display: none;
        }
      }
    </style><slot></slot></template>Create new...</tool-tip>

      
    
        <script crossorigin="anonymous" defer="defer" type="application/javascript" src="./AIML_Lab01_files/vendors-node_modules_primer_react_lib-esm_FeatureFlags_FeatureFlags_js-node_modules_primer_re-7faff4-1dd74dc0d752.js.download"></script>
<script crossorigin="anonymous" defer="defer" type="application/javascript" src="./AIML_Lab01_files/ui_packages_react-core_register-partial_ts-ui_packages_global-create-menu_GlobalCreateMenu_tsx-332b43e84897.js.download"></script>
<script crossorigin="anonymous" defer="defer" type="application/javascript" src="./AIML_Lab01_files/global-create-menu-f5f67baa8031.js.download"></script>

<react-partial partial-name="global-create-menu" data-ssr="false" data-catalyst="" class="loaded">
  
  <script type="application/json" data-target="react-partial.embeddedData">{"props":{"createRepo":true,"importRepo":true,"codespaces":true,"gist":true,"createOrg":true,"createProject":false,"createProjectUrl":"/2303a52320?tab=projects","createLegacyProject":false,"createIssue":false,"org":null,"owner":"arshiyaarshh07","repo":"AIML_11_2024"}}</script>
  <div data-target="react-partial.reactRoot"><script type="application/json" id="__PRIMER_DATA_:rm:__">{"resolvedServerColorMode":"day"}</script></div>
</react-partial>

      </react-partial-anchor>


          <a href="https://github.com/issues" data-analytics-event="{&quot;category&quot;:&quot;Global navigation&quot;,&quot;action&quot;:&quot;ISSUES_HEADER&quot;,&quot;label&quot;:null}" id="icon-button-d2232aff-0a59-4a0b-b1f0-4f4dfe2b4e0d" aria-labelledby="tooltip-7308557d-2835-4f3e-97ad-fe612b525ef1" data-view-component="true" class="Button Button--iconOnly Button--secondary Button--medium AppHeader-button color-fg-muted">  <svg aria-hidden="true" height="16" viewBox="0 0 16 16" version="1.1" width="16" data-view-component="true" class="octicon octicon-issue-opened Button-visual">
    <path d="M8 9.5a1.5 1.5 0 1 0 0-3 1.5 1.5 0 0 0 0 3Z"></path><path d="M8 0a8 8 0 1 1 0 16A8 8 0 0 1 8 0ZM1.5 8a6.5 6.5 0 1 0 13 0 6.5 6.5 0 0 0-13 0Z"></path>
</svg>
</a><tool-tip id="tooltip-7308557d-2835-4f3e-97ad-fe612b525ef1" for="icon-button-d2232aff-0a59-4a0b-b1f0-4f4dfe2b4e0d" popover="manual" data-direction="s" data-type="label" data-view-component="true" class="sr-only position-absolute" aria-hidden="true" role="tooltip"><template shadowrootmode="open"><style>
      :host {
        --tooltip-top: var(--tool-tip-position-top, 0);
        --tooltip-left: var(--tool-tip-position-left, 0);
        padding: var(--overlay-paddingBlock-condensed) var(--overlay-padding-condensed) !important;
        font: var(--text-body-shorthand-small);
        color: var(--tooltip-fgColor, var(--fgColor-onEmphasis)) !important;
        text-align: center;
        text-decoration: none;
        text-shadow: none;
        text-transform: none;
        letter-spacing: normal;
        word-wrap: break-word;
        white-space: pre;
        background: var(--tooltip-bgColor, var(--bgColor-emphasis)) !important;
        border-radius: var(--borderRadius-medium);
        border: 0 !important;
        opacity: 0;
        max-width: var(--overlay-width-small);
        word-wrap: break-word;
        white-space: normal;
        width: max-content !important;
        inset: var(--tooltip-top) auto auto var(--tooltip-left) !important;
        overflow: visible !important;
        text-wrap: balance;
      }

      :host(:is(.tooltip-n, .tooltip-nw, .tooltip-ne)) {
        --tooltip-top: calc(var(--tool-tip-position-top, 0) - var(--overlay-offset, 0.25rem));
        --tooltip-left: var(--tool-tip-position-left);
      }

      :host(:is(.tooltip-s, .tooltip-sw, .tooltip-se)) {
        --tooltip-top: calc(var(--tool-tip-position-top, 0) + var(--overlay-offset, 0.25rem));
        --tooltip-left: var(--tool-tip-position-left);
      }

      :host(.tooltip-w) {
        --tooltip-top: var(--tool-tip-position-top);
        --tooltip-left: calc(var(--tool-tip-position-left, 0) - var(--overlay-offset, 0.25rem));
      }

      :host(.tooltip-e) {
        --tooltip-top: var(--tool-tip-position-top);
        --tooltip-left: calc(var(--tool-tip-position-left, 0) + var(--overlay-offset, 0.25rem));
      }

      :host:after{
        position: absolute;
        display: block;
        right: 0;
        left: 0;
        height: var(--overlay-offset, 0.25rem);
        content: "";
      }

      :host(.tooltip-s):after,
      :host(.tooltip-se):after,
      :host(.tooltip-sw):after {
        bottom: 100%
      }

      :host(.tooltip-n):after,
      :host(.tooltip-ne):after,
      :host(.tooltip-nw):after {
        top: 100%;
      }

      @keyframes tooltip-appear {
        from {
          opacity: 0;
        }
        to {
          opacity: 1;
        }
      }

      :host(:popover-open),
      :host(:popover-open):before {
        animation-name: tooltip-appear;
        animation-duration: .1s;
        animation-fill-mode: forwards;
        animation-timing-function: ease-in;
      }

      :host(.\:popover-open) {
        animation-name: tooltip-appear;
        animation-duration: .1s;
        animation-fill-mode: forwards;
        animation-timing-function: ease-in;
      }

      @media (forced-colors: active) {
        :host {
          outline: solid 1px transparent;
        }

        :host:before {
          display: none;
        }
      }
    </style><slot></slot></template>Issues</tool-tip>

          <a href="https://github.com/pulls" data-analytics-event="{&quot;category&quot;:&quot;Global navigation&quot;,&quot;action&quot;:&quot;PULL_REQUESTS_HEADER&quot;,&quot;label&quot;:null}" id="icon-button-1dbde959-adcf-4c9c-ac22-173e64623e4b" aria-labelledby="tooltip-835d9b29-21fe-4090-95f8-3c69f4ce5218" data-view-component="true" class="Button Button--iconOnly Button--secondary Button--medium AppHeader-button color-fg-muted">  <svg aria-hidden="true" height="16" viewBox="0 0 16 16" version="1.1" width="16" data-view-component="true" class="octicon octicon-git-pull-request Button-visual">
    <path d="M1.5 3.25a2.25 2.25 0 1 1 3 2.122v5.256a2.251 2.251 0 1 1-1.5 0V5.372A2.25 2.25 0 0 1 1.5 3.25Zm5.677-.177L9.573.677A.25.25 0 0 1 10 .854V2.5h1A2.5 2.5 0 0 1 13.5 5v5.628a2.251 2.251 0 1 1-1.5 0V5a1 1 0 0 0-1-1h-1v1.646a.25.25 0 0 1-.427.177L7.177 3.427a.25.25 0 0 1 0-.354ZM3.75 2.5a.75.75 0 1 0 0 1.5.75.75 0 0 0 0-1.5Zm0 9.5a.75.75 0 1 0 0 1.5.75.75 0 0 0 0-1.5Zm8.25.75a.75.75 0 1 0 1.5 0 .75.75 0 0 0-1.5 0Z"></path>
</svg>
</a><tool-tip id="tooltip-835d9b29-21fe-4090-95f8-3c69f4ce5218" for="icon-button-1dbde959-adcf-4c9c-ac22-173e64623e4b" popover="manual" data-direction="s" data-type="label" data-view-component="true" class="sr-only position-absolute" aria-hidden="true" role="tooltip"><template shadowrootmode="open"><style>
      :host {
        --tooltip-top: var(--tool-tip-position-top, 0);
        --tooltip-left: var(--tool-tip-position-left, 0);
        padding: var(--overlay-paddingBlock-condensed) var(--overlay-padding-condensed) !important;
        font: var(--text-body-shorthand-small);
        color: var(--tooltip-fgColor, var(--fgColor-onEmphasis)) !important;
        text-align: center;
        text-decoration: none;
        text-shadow: none;
        text-transform: none;
        letter-spacing: normal;
        word-wrap: break-word;
        white-space: pre;
        background: var(--tooltip-bgColor, var(--bgColor-emphasis)) !important;
        border-radius: var(--borderRadius-medium);
        border: 0 !important;
        opacity: 0;
        max-width: var(--overlay-width-small);
        word-wrap: break-word;
        white-space: normal;
        width: max-content !important;
        inset: var(--tooltip-top) auto auto var(--tooltip-left) !important;
        overflow: visible !important;
        text-wrap: balance;
      }

      :host(:is(.tooltip-n, .tooltip-nw, .tooltip-ne)) {
        --tooltip-top: calc(var(--tool-tip-position-top, 0) - var(--overlay-offset, 0.25rem));
        --tooltip-left: var(--tool-tip-position-left);
      }

      :host(:is(.tooltip-s, .tooltip-sw, .tooltip-se)) {
        --tooltip-top: calc(var(--tool-tip-position-top, 0) + var(--overlay-offset, 0.25rem));
        --tooltip-left: var(--tool-tip-position-left);
      }

      :host(.tooltip-w) {
        --tooltip-top: var(--tool-tip-position-top);
        --tooltip-left: calc(var(--tool-tip-position-left, 0) - var(--overlay-offset, 0.25rem));
      }

      :host(.tooltip-e) {
        --tooltip-top: var(--tool-tip-position-top);
        --tooltip-left: calc(var(--tool-tip-position-left, 0) + var(--overlay-offset, 0.25rem));
      }

      :host:after{
        position: absolute;
        display: block;
        right: 0;
        left: 0;
        height: var(--overlay-offset, 0.25rem);
        content: "";
      }

      :host(.tooltip-s):after,
      :host(.tooltip-se):after,
      :host(.tooltip-sw):after {
        bottom: 100%
      }

      :host(.tooltip-n):after,
      :host(.tooltip-ne):after,
      :host(.tooltip-nw):after {
        top: 100%;
      }

      @keyframes tooltip-appear {
        from {
          opacity: 0;
        }
        to {
          opacity: 1;
        }
      }

      :host(:popover-open),
      :host(:popover-open):before {
        animation-name: tooltip-appear;
        animation-duration: .1s;
        animation-fill-mode: forwards;
        animation-timing-function: ease-in;
      }

      :host(.\:popover-open) {
        animation-name: tooltip-appear;
        animation-duration: .1s;
        animation-fill-mode: forwards;
        animation-timing-function: ease-in;
      }

      @media (forced-colors: active) {
        :host {
          outline: solid 1px transparent;
        }

        :host:before {
          display: none;
        }
      }
    </style><slot></slot></template>Pull requests</tool-tip>

        </div>

        <notification-indicator data-channel="eyJjIjoibm90aWZpY2F0aW9uLWNoYW5nZWQ6MTc3ODMxOTcwIiwidCI6MTcyNTk1ODUxN30=--f3e1f4ee16068104f09a80b6d9f3c7c1221add1a1e8aaa36a85dcc4679ba6669" data-indicator-mode="none" data-tooltip-global="You have unread notifications" data-tooltip-unavailable="Notifications are unavailable at the moment." data-tooltip-none="You have no unread notifications" data-header-redesign-enabled="true" data-fetch-indicator-src="/notifications/indicator" data-fetch-indicator-enabled="true" data-view-component="true" class="js-socket-channel" data-fetch-retry-delay-time="500" data-catalyst="">
    <a id="AppHeader-notifications-button" href="https://github.com/notifications" aria-labelledby="notification-indicator-tooltip" data-hotkey="g n" data-target="notification-indicator.link" data-analytics-event="{&quot;category&quot;:&quot;Global navigation&quot;,&quot;action&quot;:&quot;NOTIFICATIONS_HEADER&quot;,&quot;label&quot;:&quot;icon:read&quot;}" data-view-component="true" class="Button Button--iconOnly Button--secondary Button--medium AppHeader-button color-fg-muted">  <svg aria-hidden="true" height="16" viewBox="0 0 16 16" version="1.1" width="16" data-view-component="true" class="octicon octicon-inbox Button-visual">
    <path d="M2.8 2.06A1.75 1.75 0 0 1 4.41 1h7.18c.7 0 1.333.417 1.61 1.06l2.74 6.395c.04.093.06.194.06.295v4.5A1.75 1.75 0 0 1 14.25 15H1.75A1.75 1.75 0 0 1 0 13.25v-4.5c0-.101.02-.202.06-.295Zm1.61.44a.25.25 0 0 0-.23.152L1.887 8H4.75a.75.75 0 0 1 .6.3L6.625 10h2.75l1.275-1.7a.75.75 0 0 1 .6-.3h2.863L11.82 2.652a.25.25 0 0 0-.23-.152Zm10.09 7h-2.875l-1.275 1.7a.75.75 0 0 1-.6.3h-3.5a.75.75 0 0 1-.6-.3L4.375 9.5H1.5v3.75c0 .138.112.25.25.25h12.5a.25.25 0 0 0 .25-.25Z"></path>
</svg>
</a>

    <tool-tip id="notification-indicator-tooltip" data-target="notification-indicator.tooltip" for="AppHeader-notifications-button" popover="manual" data-direction="s" data-type="label" data-view-component="true" class="sr-only position-absolute" aria-hidden="true" role="tooltip"><template shadowrootmode="open"><style>
      :host {
        --tooltip-top: var(--tool-tip-position-top, 0);
        --tooltip-left: var(--tool-tip-position-left, 0);
        padding: var(--overlay-paddingBlock-condensed) var(--overlay-padding-condensed) !important;
        font: var(--text-body-shorthand-small);
        color: var(--tooltip-fgColor, var(--fgColor-onEmphasis)) !important;
        text-align: center;
        text-decoration: none;
        text-shadow: none;
        text-transform: none;
        letter-spacing: normal;
        word-wrap: break-word;
        white-space: pre;
        background: var(--tooltip-bgColor, var(--bgColor-emphasis)) !important;
        border-radius: var(--borderRadius-medium);
        border: 0 !important;
        opacity: 0;
        max-width: var(--overlay-width-small);
        word-wrap: break-word;
        white-space: normal;
        width: max-content !important;
        inset: var(--tooltip-top) auto auto var(--tooltip-left) !important;
        overflow: visible !important;
        text-wrap: balance;
      }

      :host(:is(.tooltip-n, .tooltip-nw, .tooltip-ne)) {
        --tooltip-top: calc(var(--tool-tip-position-top, 0) - var(--overlay-offset, 0.25rem));
        --tooltip-left: var(--tool-tip-position-left);
      }

      :host(:is(.tooltip-s, .tooltip-sw, .tooltip-se)) {
        --tooltip-top: calc(var(--tool-tip-position-top, 0) + var(--overlay-offset, 0.25rem));
        --tooltip-left: var(--tool-tip-position-left);
      }

      :host(.tooltip-w) {
        --tooltip-top: var(--tool-tip-position-top);
        --tooltip-left: calc(var(--tool-tip-position-left, 0) - var(--overlay-offset, 0.25rem));
      }

      :host(.tooltip-e) {
        --tooltip-top: var(--tool-tip-position-top);
        --tooltip-left: calc(var(--tool-tip-position-left, 0) + var(--overlay-offset, 0.25rem));
      }

      :host:after{
        position: absolute;
        display: block;
        right: 0;
        left: 0;
        height: var(--overlay-offset, 0.25rem);
        content: "";
      }

      :host(.tooltip-s):after,
      :host(.tooltip-se):after,
      :host(.tooltip-sw):after {
        bottom: 100%
      }

      :host(.tooltip-n):after,
      :host(.tooltip-ne):after,
      :host(.tooltip-nw):after {
        top: 100%;
      }

      @keyframes tooltip-appear {
        from {
          opacity: 0;
        }
        to {
          opacity: 1;
        }
      }

      :host(:popover-open),
      :host(:popover-open):before {
        animation-name: tooltip-appear;
        animation-duration: .1s;
        animation-fill-mode: forwards;
        animation-timing-function: ease-in;
      }

      :host(.\:popover-open) {
        animation-name: tooltip-appear;
        animation-duration: .1s;
        animation-fill-mode: forwards;
        animation-timing-function: ease-in;
      }

      @media (forced-colors: active) {
        :host {
          outline: solid 1px transparent;
        }

        :host:before {
          display: none;
        }
      }
    </style><slot></slot></template>You have no unread notifications</tool-tip>
</notification-indicator>

        

        <div class="AppHeader-user">
          <deferred-side-panel data-url="/_side-panels/user?repository_id=756769206" data-catalyst="">
  <include-fragment data-target="deferred-side-panel.fragment"><template shadowrootmode="open"><style>:host {display: block;}</style><slot></slot></template>
    <react-partial-anchor data-catalyst="">
  <button data-target="react-partial-anchor.anchor" data-login="2303a52320" aria-label="Open user navigation menu" type="button" data-view-component="true" class="Button--invisible Button--medium Button Button--invisible-noVisuals color-bg-transparent p-0" aria-expanded="false" aria-haspopup="true">  <span class="Button-content">
    <span class="Button-label"><img src="./AIML_Lab01_files/177831970" alt="" size="32" height="32" width="32" data-view-component="true" class="avatar circle"></span>
  </span>
</button>
  

    <script crossorigin="anonymous" defer="defer" type="application/javascript" src="./AIML_Lab01_files/global-user-nav-drawer-a262b436b18b.js.download"></script>
<link crossorigin="anonymous" media="all" rel="stylesheet" href="./AIML_Lab01_files/global-user-nav-drawer.830d6c10c9fea7fc134e.module.css">

<react-partial partial-name="global-user-nav-drawer" data-ssr="false" data-catalyst="" class="loaded">
  
  <script type="application/json" data-target="react-partial.embeddedData">{"props":{"owner":{"login":"2303a52320","name":"2303A52320-B45","avatarUrl":"https://avatars.githubusercontent.com/u/177831970?v=4"},"drawerId":"global-user-nav-drawer","lazyLoadItemDataFetchUrl":"/_side-panels/user.json","canAddAccount":true,"addAccountPath":"/login?add_account=1\u0026return_to=https%3A%2F%2Fgithub.com%2Farshiyaarshh07%2FAIML_11_2024%2Fblob%2Fmain%2FAIML_Lab01.ipynb","switchAccountPath":"/switch_account","loginAccountPath":"/login?add_account=1","projectsPath":"/2303a52320?tab=projects","gistsUrl":"https://gist.github.com/mine","docsUrl":"https://docs.github.com","yourEnterpriseUrl":null,"enterpriseSettingsUrl":null,"supportUrl":"https://support.github.com","showAccountSwitcher":true,"showEnterprises":true,"showEnterprise":false,"showGists":true,"showSponsors":true,"showFeaturesPreviews":true,"showEnterpriseSettings":false,"createMenuProps":{"createRepo":true,"importRepo":true,"codespaces":true,"gist":true,"createOrg":true,"createProject":false,"createProjectUrl":"/2303a52320?tab=projects","createLegacyProject":false,"createIssue":false,"org":null,"owner":"arshiyaarshh07","repo":"AIML_11_2024"}}}</script>
  <div data-target="react-partial.reactRoot"><script type="application/json" id="__PRIMER_DATA_:rp:__">{"resolvedServerColorMode":"day"}</script></div>
</react-partial>

  </react-partial-anchor>

  </include-fragment>
</deferred-side-panel>
        </div>

        <div class="position-absolute mt-2">
            
<site-header-logged-in-user-menu data-catalyst="">

</site-header-logged-in-user-menu>

        </div>
      </div>
    </div>


      <div class="AppHeader-localBar">
        <nav data-pjax="#js-repo-pjax-container" aria-label="Repository" data-view-component="true" class="js-repo-nav js-sidenav-container-pjax js-responsive-underlinenav overflow-hidden UnderlineNav">

  <ul data-view-component="true" class="UnderlineNav-body list-style-none">
      <li data-view-component="true" class="d-inline-flex">
  <a id="code-tab" href="https://github.com/arshiyaarshh07/AIML_11_2024" data-tab-item="i0code-tab" data-selected-links="repo_source repo_downloads repo_commits repo_releases repo_tags repo_branches repo_packages repo_deployments repo_attestations /arshiyaarshh07/AIML_11_2024" data-pjax="#repo-content-pjax-container" data-turbo-frame="repo-content-turbo-frame" data-hotkey="g c" data-analytics-event="{&quot;category&quot;:&quot;Underline navbar&quot;,&quot;action&quot;:&quot;Click tab&quot;,&quot;label&quot;:&quot;Code&quot;,&quot;target&quot;:&quot;UNDERLINE_NAV.TAB&quot;}" data-view-component="true" class="UnderlineNav-item no-wrap js-responsive-underlinenav-item js-selected-navigation-item selected" aria-current="page">
    
              <svg aria-hidden="true" height="16" viewBox="0 0 16 16" version="1.1" width="16" data-view-component="true" class="octicon octicon-code UnderlineNav-octicon d-none d-sm-inline">
    <path d="m11.28 3.22 4.25 4.25a.75.75 0 0 1 0 1.06l-4.25 4.25a.749.749 0 0 1-1.275-.326.749.749 0 0 1 .215-.734L13.94 8l-3.72-3.72a.749.749 0 0 1 .326-1.275.749.749 0 0 1 .734.215Zm-6.56 0a.751.751 0 0 1 1.042.018.751.751 0 0 1 .018 1.042L2.06 8l3.72 3.72a.749.749 0 0 1-.326 1.275.749.749 0 0 1-.734-.215L.47 8.53a.75.75 0 0 1 0-1.06Z"></path>
</svg>
        <span data-content="Code">Code</span>
          <span id="code-repo-tab-count" data-pjax-replace="" data-turbo-replace="" title="Not available" data-view-component="true" class="Counter"></span>


    
</a></li>
      <li data-view-component="true" class="d-inline-flex">
  <a id="issues-tab" href="https://github.com/arshiyaarshh07/AIML_11_2024/issues" data-tab-item="i1issues-tab" data-selected-links="repo_issues repo_labels repo_milestones /arshiyaarshh07/AIML_11_2024/issues /_view_fragments/issues/index/arshiyaarshh07/AIML_11_2024/layout" data-pjax="#repo-content-pjax-container" data-turbo-frame="repo-content-turbo-frame" data-hotkey="g i" data-analytics-event="{&quot;category&quot;:&quot;Underline navbar&quot;,&quot;action&quot;:&quot;Click tab&quot;,&quot;label&quot;:&quot;Issues&quot;,&quot;target&quot;:&quot;UNDERLINE_NAV.TAB&quot;}" data-view-component="true" class="UnderlineNav-item no-wrap js-responsive-underlinenav-item js-selected-navigation-item">
    
              <svg aria-hidden="true" height="16" viewBox="0 0 16 16" version="1.1" width="16" data-view-component="true" class="octicon octicon-issue-opened UnderlineNav-octicon d-none d-sm-inline">
    <path d="M8 9.5a1.5 1.5 0 1 0 0-3 1.5 1.5 0 0 0 0 3Z"></path><path d="M8 0a8 8 0 1 1 0 16A8 8 0 0 1 8 0ZM1.5 8a6.5 6.5 0 1 0 13 0 6.5 6.5 0 0 0-13 0Z"></path>
</svg>
        <span data-content="Issues">Issues</span>
          <span id="issues-repo-tab-count" data-pjax-replace="" data-turbo-replace="" title="0" hidden="hidden" data-view-component="true" class="Counter">0</span>


    
</a></li>
      <li data-view-component="true" class="d-inline-flex">
  <a id="pull-requests-tab" href="https://github.com/arshiyaarshh07/AIML_11_2024/pulls" data-tab-item="i2pull-requests-tab" data-selected-links="repo_pulls checks /arshiyaarshh07/AIML_11_2024/pulls" data-pjax="#repo-content-pjax-container" data-turbo-frame="repo-content-turbo-frame" data-hotkey="g p" data-analytics-event="{&quot;category&quot;:&quot;Underline navbar&quot;,&quot;action&quot;:&quot;Click tab&quot;,&quot;label&quot;:&quot;Pull requests&quot;,&quot;target&quot;:&quot;UNDERLINE_NAV.TAB&quot;}" data-view-component="true" class="UnderlineNav-item no-wrap js-responsive-underlinenav-item js-selected-navigation-item">
    
              <svg aria-hidden="true" height="16" viewBox="0 0 16 16" version="1.1" width="16" data-view-component="true" class="octicon octicon-git-pull-request UnderlineNav-octicon d-none d-sm-inline">
    <path d="M1.5 3.25a2.25 2.25 0 1 1 3 2.122v5.256a2.251 2.251 0 1 1-1.5 0V5.372A2.25 2.25 0 0 1 1.5 3.25Zm5.677-.177L9.573.677A.25.25 0 0 1 10 .854V2.5h1A2.5 2.5 0 0 1 13.5 5v5.628a2.251 2.251 0 1 1-1.5 0V5a1 1 0 0 0-1-1h-1v1.646a.25.25 0 0 1-.427.177L7.177 3.427a.25.25 0 0 1 0-.354ZM3.75 2.5a.75.75 0 1 0 0 1.5.75.75 0 0 0 0-1.5Zm0 9.5a.75.75 0 1 0 0 1.5.75.75 0 0 0 0-1.5Zm8.25.75a.75.75 0 1 0 1.5 0 .75.75 0 0 0-1.5 0Z"></path>
</svg>
        <span data-content="Pull requests">Pull requests</span>
          <span id="pull-requests-repo-tab-count" data-pjax-replace="" data-turbo-replace="" title="0" hidden="hidden" data-view-component="true" class="Counter">0</span>


    
</a></li>
      <li data-view-component="true" class="d-inline-flex">
  <a id="actions-tab" href="https://github.com/arshiyaarshh07/AIML_11_2024/actions" data-tab-item="i3actions-tab" data-selected-links="repo_actions /arshiyaarshh07/AIML_11_2024/actions" data-pjax="#repo-content-pjax-container" data-turbo-frame="repo-content-turbo-frame" data-hotkey="g a" data-analytics-event="{&quot;category&quot;:&quot;Underline navbar&quot;,&quot;action&quot;:&quot;Click tab&quot;,&quot;label&quot;:&quot;Actions&quot;,&quot;target&quot;:&quot;UNDERLINE_NAV.TAB&quot;}" data-view-component="true" class="UnderlineNav-item no-wrap js-responsive-underlinenav-item js-selected-navigation-item">
    
              <svg aria-hidden="true" height="16" viewBox="0 0 16 16" version="1.1" width="16" data-view-component="true" class="octicon octicon-play UnderlineNav-octicon d-none d-sm-inline">
    <path d="M8 0a8 8 0 1 1 0 16A8 8 0 0 1 8 0ZM1.5 8a6.5 6.5 0 1 0 13 0 6.5 6.5 0 0 0-13 0Zm4.879-2.773 4.264 2.559a.25.25 0 0 1 0 .428l-4.264 2.559A.25.25 0 0 1 6 10.559V5.442a.25.25 0 0 1 .379-.215Z"></path>
</svg>
        <span data-content="Actions">Actions</span>
          <span id="actions-repo-tab-count" data-pjax-replace="" data-turbo-replace="" title="Not available" data-view-component="true" class="Counter"></span>


    
</a></li>
      <li data-view-component="true" class="d-inline-flex">
  <a id="projects-tab" href="https://github.com/arshiyaarshh07/AIML_11_2024/projects" data-tab-item="i4projects-tab" data-selected-links="repo_projects new_repo_project repo_project /arshiyaarshh07/AIML_11_2024/projects" data-pjax="#repo-content-pjax-container" data-turbo-frame="repo-content-turbo-frame" data-hotkey="g b" data-analytics-event="{&quot;category&quot;:&quot;Underline navbar&quot;,&quot;action&quot;:&quot;Click tab&quot;,&quot;label&quot;:&quot;Projects&quot;,&quot;target&quot;:&quot;UNDERLINE_NAV.TAB&quot;}" data-view-component="true" class="UnderlineNav-item no-wrap js-responsive-underlinenav-item js-selected-navigation-item">
    
              <svg aria-hidden="true" height="16" viewBox="0 0 16 16" version="1.1" width="16" data-view-component="true" class="octicon octicon-table UnderlineNav-octicon d-none d-sm-inline">
    <path d="M0 1.75C0 .784.784 0 1.75 0h12.5C15.216 0 16 .784 16 1.75v12.5A1.75 1.75 0 0 1 14.25 16H1.75A1.75 1.75 0 0 1 0 14.25ZM6.5 6.5v8h7.75a.25.25 0 0 0 .25-.25V6.5Zm8-1.5V1.75a.25.25 0 0 0-.25-.25H6.5V5Zm-13 1.5v7.75c0 .138.112.25.25.25H5v-8ZM5 5V1.5H1.75a.25.25 0 0 0-.25.25V5Z"></path>
</svg>
        <span data-content="Projects">Projects</span>
          <span id="projects-repo-tab-count" data-pjax-replace="" data-turbo-replace="" title="0" hidden="hidden" data-view-component="true" class="Counter">0</span>


    
</a></li>
      <li data-view-component="true" class="d-inline-flex">
  <a id="security-tab" href="https://github.com/arshiyaarshh07/AIML_11_2024/security" data-tab-item="i5security-tab" data-selected-links="security overview alerts policy token_scanning code_scanning /arshiyaarshh07/AIML_11_2024/security" data-pjax="#repo-content-pjax-container" data-turbo-frame="repo-content-turbo-frame" data-hotkey="g s" data-analytics-event="{&quot;category&quot;:&quot;Underline navbar&quot;,&quot;action&quot;:&quot;Click tab&quot;,&quot;label&quot;:&quot;Security&quot;,&quot;target&quot;:&quot;UNDERLINE_NAV.TAB&quot;}" data-view-component="true" class="UnderlineNav-item no-wrap js-responsive-underlinenav-item js-selected-navigation-item">
    
              <svg aria-hidden="true" height="16" viewBox="0 0 16 16" version="1.1" width="16" data-view-component="true" class="octicon octicon-shield UnderlineNav-octicon d-none d-sm-inline">
    <path d="M7.467.133a1.748 1.748 0 0 1 1.066 0l5.25 1.68A1.75 1.75 0 0 1 15 3.48V7c0 1.566-.32 3.182-1.303 4.682-.983 1.498-2.585 2.813-5.032 3.855a1.697 1.697 0 0 1-1.33 0c-2.447-1.042-4.049-2.357-5.032-3.855C1.32 10.182 1 8.566 1 7V3.48a1.75 1.75 0 0 1 1.217-1.667Zm.61 1.429a.25.25 0 0 0-.153 0l-5.25 1.68a.25.25 0 0 0-.174.238V7c0 1.358.275 2.666 1.057 3.86.784 1.194 2.121 2.34 4.366 3.297a.196.196 0 0 0 .154 0c2.245-.956 3.582-2.104 4.366-3.298C13.225 9.666 13.5 8.36 13.5 7V3.48a.251.251 0 0 0-.174-.237l-5.25-1.68ZM8.75 4.75v3a.75.75 0 0 1-1.5 0v-3a.75.75 0 0 1 1.5 0ZM9 10.5a1 1 0 1 1-2 0 1 1 0 0 1 2 0Z"></path>
</svg>
        <span data-content="Security">Security</span>
          

    
</a></li>
      <li data-view-component="true" class="d-inline-flex">
  <a id="insights-tab" href="https://github.com/arshiyaarshh07/AIML_11_2024/pulse" data-tab-item="i6insights-tab" data-selected-links="repo_graphs repo_contributors dependency_graph dependabot_updates pulse people community /arshiyaarshh07/AIML_11_2024/pulse" data-pjax="#repo-content-pjax-container" data-turbo-frame="repo-content-turbo-frame" data-analytics-event="{&quot;category&quot;:&quot;Underline navbar&quot;,&quot;action&quot;:&quot;Click tab&quot;,&quot;label&quot;:&quot;Insights&quot;,&quot;target&quot;:&quot;UNDERLINE_NAV.TAB&quot;}" data-view-component="true" class="UnderlineNav-item no-wrap js-responsive-underlinenav-item js-selected-navigation-item">
    
              <svg aria-hidden="true" height="16" viewBox="0 0 16 16" version="1.1" width="16" data-view-component="true" class="octicon octicon-graph UnderlineNav-octicon d-none d-sm-inline">
    <path d="M1.5 1.75V13.5h13.75a.75.75 0 0 1 0 1.5H.75a.75.75 0 0 1-.75-.75V1.75a.75.75 0 0 1 1.5 0Zm14.28 2.53-5.25 5.25a.75.75 0 0 1-1.06 0L7 7.06 4.28 9.78a.751.751 0 0 1-1.042-.018.751.751 0 0 1-.018-1.042l3.25-3.25a.75.75 0 0 1 1.06 0L10 7.94l4.72-4.72a.751.751 0 0 1 1.042.018.751.751 0 0 1 .018 1.042Z"></path>
</svg>
        <span data-content="Insights">Insights</span>
          <span id="insights-repo-tab-count" data-pjax-replace="" data-turbo-replace="" title="Not available" data-view-component="true" class="Counter"></span>


    
</a></li>
</ul>
    <div style="visibility:hidden;" data-view-component="true" class="UnderlineNav-actions js-responsive-underlinenav-overflow position-absolute pr-3 pr-md-4 pr-lg-5 right-0">      <action-menu data-select-variant="none" data-view-component="true" data-catalyst="">
  <focus-group direction="vertical" mnemonics="" retain="">
    <button id="action-menu-a4c837ff-2bed-4b8b-b243-6e098af26034-button" popovertarget="action-menu-a4c837ff-2bed-4b8b-b243-6e098af26034-overlay" aria-controls="action-menu-a4c837ff-2bed-4b8b-b243-6e098af26034-list" aria-haspopup="true" aria-labelledby="tooltip-d965a0f8-a651-4ed7-baec-1efd8554b5f2" type="button" data-view-component="true" class="Button Button--iconOnly Button--secondary Button--medium UnderlineNav-item">  <svg aria-hidden="true" height="16" viewBox="0 0 16 16" version="1.1" width="16" data-view-component="true" class="octicon octicon-kebab-horizontal Button-visual">
    <path d="M8 9a1.5 1.5 0 1 0 0-3 1.5 1.5 0 0 0 0 3ZM1.5 9a1.5 1.5 0 1 0 0-3 1.5 1.5 0 0 0 0 3Zm13 0a1.5 1.5 0 1 0 0-3 1.5 1.5 0 0 0 0 3Z"></path>
</svg>
</button><tool-tip id="tooltip-d965a0f8-a651-4ed7-baec-1efd8554b5f2" for="action-menu-a4c837ff-2bed-4b8b-b243-6e098af26034-button" popover="manual" data-direction="s" data-type="label" data-view-component="true" class="sr-only position-absolute" aria-hidden="true" role="tooltip"><template shadowrootmode="open"><style>
      :host {
        --tooltip-top: var(--tool-tip-position-top, 0);
        --tooltip-left: var(--tool-tip-position-left, 0);
        padding: var(--overlay-paddingBlock-condensed) var(--overlay-padding-condensed) !important;
        font: var(--text-body-shorthand-small);
        color: var(--tooltip-fgColor, var(--fgColor-onEmphasis)) !important;
        text-align: center;
        text-decoration: none;
        text-shadow: none;
        text-transform: none;
        letter-spacing: normal;
        word-wrap: break-word;
        white-space: pre;
        background: var(--tooltip-bgColor, var(--bgColor-emphasis)) !important;
        border-radius: var(--borderRadius-medium);
        border: 0 !important;
        opacity: 0;
        max-width: var(--overlay-width-small);
        word-wrap: break-word;
        white-space: normal;
        width: max-content !important;
        inset: var(--tooltip-top) auto auto var(--tooltip-left) !important;
        overflow: visible !important;
        text-wrap: balance;
      }

      :host(:is(.tooltip-n, .tooltip-nw, .tooltip-ne)) {
        --tooltip-top: calc(var(--tool-tip-position-top, 0) - var(--overlay-offset, 0.25rem));
        --tooltip-left: var(--tool-tip-position-left);
      }

      :host(:is(.tooltip-s, .tooltip-sw, .tooltip-se)) {
        --tooltip-top: calc(var(--tool-tip-position-top, 0) + var(--overlay-offset, 0.25rem));
        --tooltip-left: var(--tool-tip-position-left);
      }

      :host(.tooltip-w) {
        --tooltip-top: var(--tool-tip-position-top);
        --tooltip-left: calc(var(--tool-tip-position-left, 0) - var(--overlay-offset, 0.25rem));
      }

      :host(.tooltip-e) {
        --tooltip-top: var(--tool-tip-position-top);
        --tooltip-left: calc(var(--tool-tip-position-left, 0) + var(--overlay-offset, 0.25rem));
      }

      :host:after{
        position: absolute;
        display: block;
        right: 0;
        left: 0;
        height: var(--overlay-offset, 0.25rem);
        content: "";
      }

      :host(.tooltip-s):after,
      :host(.tooltip-se):after,
      :host(.tooltip-sw):after {
        bottom: 100%
      }

      :host(.tooltip-n):after,
      :host(.tooltip-ne):after,
      :host(.tooltip-nw):after {
        top: 100%;
      }

      @keyframes tooltip-appear {
        from {
          opacity: 0;
        }
        to {
          opacity: 1;
        }
      }

      :host(:popover-open),
      :host(:popover-open):before {
        animation-name: tooltip-appear;
        animation-duration: .1s;
        animation-fill-mode: forwards;
        animation-timing-function: ease-in;
      }

      :host(.\:popover-open) {
        animation-name: tooltip-appear;
        animation-duration: .1s;
        animation-fill-mode: forwards;
        animation-timing-function: ease-in;
      }

      @media (forced-colors: active) {
        :host {
          outline: solid 1px transparent;
        }

        :host:before {
          display: none;
        }
      }
    </style><slot></slot></template>Additional navigation options</tool-tip>


<anchored-position id="action-menu-a4c837ff-2bed-4b8b-b243-6e098af26034-overlay" anchor="action-menu-a4c837ff-2bed-4b8b-b243-6e098af26034-button" align="start" side="outside-bottom" anchor-offset="normal" popover="auto" data-view-component="true" style="inset: 36px auto auto 0px;">
  <div data-view-component="true" class="Overlay Overlay--size-auto">
    
      <div data-view-component="true" class="Overlay-body Overlay-body--paddingNone">          <action-list data-catalyst="">
  <div data-view-component="true">
    <ul aria-labelledby="action-menu-a4c837ff-2bed-4b8b-b243-6e098af26034-button" id="action-menu-a4c837ff-2bed-4b8b-b243-6e098af26034-list" role="menu" data-view-component="true" class="ActionListWrap--inset ActionListWrap">
        <li hidden="" data-menu-item="i0code-tab" data-targets="action-list.items" role="none" data-view-component="true" class="ActionListItem">
    
    
    <a tabindex="-1" id="item-43278dc3-9b7b-4d65-a92d-6dcb5450a53f" href="https://github.com/arshiyaarshh07/AIML_11_2024" role="menuitem" data-view-component="true" class="ActionListContent ActionListContent--visual16">
        <span class="ActionListItem-visual ActionListItem-visual--leading">
          <svg aria-hidden="true" height="16" viewBox="0 0 16 16" version="1.1" width="16" data-view-component="true" class="octicon octicon-code">
    <path d="m11.28 3.22 4.25 4.25a.75.75 0 0 1 0 1.06l-4.25 4.25a.749.749 0 0 1-1.275-.326.749.749 0 0 1 .215-.734L13.94 8l-3.72-3.72a.749.749 0 0 1 .326-1.275.749.749 0 0 1 .734.215Zm-6.56 0a.751.751 0 0 1 1.042.018.751.751 0 0 1 .018 1.042L2.06 8l3.72 3.72a.749.749 0 0 1-.326 1.275.749.749 0 0 1-.734-.215L.47 8.53a.75.75 0 0 1 0-1.06Z"></path>
</svg>
        </span>
      
        <span data-view-component="true" class="ActionListItem-label">
          Code
</span>      
</a>
  
</li>
        <li hidden="" data-menu-item="i1issues-tab" data-targets="action-list.items" role="none" data-view-component="true" class="ActionListItem">
    
    
    <a tabindex="-1" id="item-9b22dc71-67a2-4e5b-b41b-e441684e4052" href="https://github.com/arshiyaarshh07/AIML_11_2024/issues" role="menuitem" data-view-component="true" class="ActionListContent ActionListContent--visual16">
        <span class="ActionListItem-visual ActionListItem-visual--leading">
          <svg aria-hidden="true" height="16" viewBox="0 0 16 16" version="1.1" width="16" data-view-component="true" class="octicon octicon-issue-opened">
    <path d="M8 9.5a1.5 1.5 0 1 0 0-3 1.5 1.5 0 0 0 0 3Z"></path><path d="M8 0a8 8 0 1 1 0 16A8 8 0 0 1 8 0ZM1.5 8a6.5 6.5 0 1 0 13 0 6.5 6.5 0 0 0-13 0Z"></path>
</svg>
        </span>
      
        <span data-view-component="true" class="ActionListItem-label">
          Issues
</span>      
</a>
  
</li>
        <li hidden="" data-menu-item="i2pull-requests-tab" data-targets="action-list.items" role="none" data-view-component="true" class="ActionListItem">
    
    
    <a tabindex="-1" id="item-04200ed2-4ba4-45f8-b2a7-6091117145d7" href="https://github.com/arshiyaarshh07/AIML_11_2024/pulls" role="menuitem" data-view-component="true" class="ActionListContent ActionListContent--visual16">
        <span class="ActionListItem-visual ActionListItem-visual--leading">
          <svg aria-hidden="true" height="16" viewBox="0 0 16 16" version="1.1" width="16" data-view-component="true" class="octicon octicon-git-pull-request">
    <path d="M1.5 3.25a2.25 2.25 0 1 1 3 2.122v5.256a2.251 2.251 0 1 1-1.5 0V5.372A2.25 2.25 0 0 1 1.5 3.25Zm5.677-.177L9.573.677A.25.25 0 0 1 10 .854V2.5h1A2.5 2.5 0 0 1 13.5 5v5.628a2.251 2.251 0 1 1-1.5 0V5a1 1 0 0 0-1-1h-1v1.646a.25.25 0 0 1-.427.177L7.177 3.427a.25.25 0 0 1 0-.354ZM3.75 2.5a.75.75 0 1 0 0 1.5.75.75 0 0 0 0-1.5Zm0 9.5a.75.75 0 1 0 0 1.5.75.75 0 0 0 0-1.5Zm8.25.75a.75.75 0 1 0 1.5 0 .75.75 0 0 0-1.5 0Z"></path>
</svg>
        </span>
      
        <span data-view-component="true" class="ActionListItem-label">
          Pull requests
</span>      
</a>
  
</li>
        <li hidden="" data-menu-item="i3actions-tab" data-targets="action-list.items" role="none" data-view-component="true" class="ActionListItem">
    
    
    <a tabindex="-1" id="item-5d3d437a-1c08-491b-bf6d-e40f8daa390c" href="https://github.com/arshiyaarshh07/AIML_11_2024/actions" role="menuitem" data-view-component="true" class="ActionListContent ActionListContent--visual16">
        <span class="ActionListItem-visual ActionListItem-visual--leading">
          <svg aria-hidden="true" height="16" viewBox="0 0 16 16" version="1.1" width="16" data-view-component="true" class="octicon octicon-play">
    <path d="M8 0a8 8 0 1 1 0 16A8 8 0 0 1 8 0ZM1.5 8a6.5 6.5 0 1 0 13 0 6.5 6.5 0 0 0-13 0Zm4.879-2.773 4.264 2.559a.25.25 0 0 1 0 .428l-4.264 2.559A.25.25 0 0 1 6 10.559V5.442a.25.25 0 0 1 .379-.215Z"></path>
</svg>
        </span>
      
        <span data-view-component="true" class="ActionListItem-label">
          Actions
</span>      
</a>
  
</li>
        <li hidden="" data-menu-item="i4projects-tab" data-targets="action-list.items" role="none" data-view-component="true" class="ActionListItem">
    
    
    <a tabindex="-1" id="item-0e8ced46-646d-44e1-af7c-3d4ca970de99" href="https://github.com/arshiyaarshh07/AIML_11_2024/projects" role="menuitem" data-view-component="true" class="ActionListContent ActionListContent--visual16">
        <span class="ActionListItem-visual ActionListItem-visual--leading">
          <svg aria-hidden="true" height="16" viewBox="0 0 16 16" version="1.1" width="16" data-view-component="true" class="octicon octicon-table">
    <path d="M0 1.75C0 .784.784 0 1.75 0h12.5C15.216 0 16 .784 16 1.75v12.5A1.75 1.75 0 0 1 14.25 16H1.75A1.75 1.75 0 0 1 0 14.25ZM6.5 6.5v8h7.75a.25.25 0 0 0 .25-.25V6.5Zm8-1.5V1.75a.25.25 0 0 0-.25-.25H6.5V5Zm-13 1.5v7.75c0 .138.112.25.25.25H5v-8ZM5 5V1.5H1.75a.25.25 0 0 0-.25.25V5Z"></path>
</svg>
        </span>
      
        <span data-view-component="true" class="ActionListItem-label">
          Projects
</span>      
</a>
  
</li>
        <li hidden="" data-menu-item="i5security-tab" data-targets="action-list.items" role="none" data-view-component="true" class="ActionListItem">
    
    
    <a tabindex="-1" id="item-f0091eda-0f9f-470d-81df-7c9078253cfd" href="https://github.com/arshiyaarshh07/AIML_11_2024/security" role="menuitem" data-view-component="true" class="ActionListContent ActionListContent--visual16">
        <span class="ActionListItem-visual ActionListItem-visual--leading">
          <svg aria-hidden="true" height="16" viewBox="0 0 16 16" version="1.1" width="16" data-view-component="true" class="octicon octicon-shield">
    <path d="M7.467.133a1.748 1.748 0 0 1 1.066 0l5.25 1.68A1.75 1.75 0 0 1 15 3.48V7c0 1.566-.32 3.182-1.303 4.682-.983 1.498-2.585 2.813-5.032 3.855a1.697 1.697 0 0 1-1.33 0c-2.447-1.042-4.049-2.357-5.032-3.855C1.32 10.182 1 8.566 1 7V3.48a1.75 1.75 0 0 1 1.217-1.667Zm.61 1.429a.25.25 0 0 0-.153 0l-5.25 1.68a.25.25 0 0 0-.174.238V7c0 1.358.275 2.666 1.057 3.86.784 1.194 2.121 2.34 4.366 3.297a.196.196 0 0 0 .154 0c2.245-.956 3.582-2.104 4.366-3.298C13.225 9.666 13.5 8.36 13.5 7V3.48a.251.251 0 0 0-.174-.237l-5.25-1.68ZM8.75 4.75v3a.75.75 0 0 1-1.5 0v-3a.75.75 0 0 1 1.5 0ZM9 10.5a1 1 0 1 1-2 0 1 1 0 0 1 2 0Z"></path>
</svg>
        </span>
      
        <span data-view-component="true" class="ActionListItem-label">
          Security
</span>      
</a>
  
</li>
        <li hidden="" data-menu-item="i6insights-tab" data-targets="action-list.items" role="none" data-view-component="true" class="ActionListItem">
    
    
    <a tabindex="-1" id="item-a878a09c-ca72-4108-a42e-9ede5c675b4c" href="https://github.com/arshiyaarshh07/AIML_11_2024/pulse" role="menuitem" data-view-component="true" class="ActionListContent ActionListContent--visual16">
        <span class="ActionListItem-visual ActionListItem-visual--leading">
          <svg aria-hidden="true" height="16" viewBox="0 0 16 16" version="1.1" width="16" data-view-component="true" class="octicon octicon-graph">
    <path d="M1.5 1.75V13.5h13.75a.75.75 0 0 1 0 1.5H.75a.75.75 0 0 1-.75-.75V1.75a.75.75 0 0 1 1.5 0Zm14.28 2.53-5.25 5.25a.75.75 0 0 1-1.06 0L7 7.06 4.28 9.78a.751.751 0 0 1-1.042-.018.751.751 0 0 1-.018-1.042l3.25-3.25a.75.75 0 0 1 1.06 0L10 7.94l4.72-4.72a.751.751 0 0 1 1.042.018.751.751 0 0 1 .018 1.042Z"></path>
</svg>
        </span>
      
        <span data-view-component="true" class="ActionListItem-label">
          Insights
</span>      
</a>
  
</li>
</ul>    
</div></action-list>


</div>
      
</div></anchored-position>  </focus-group>
</action-menu></div>
</nav>
      </div>
</header>


      <div hidden="hidden" data-view-component="true" class="js-stale-session-flash stale-session-flash flash flash-warn flash-full">
  
        <svg aria-hidden="true" height="16" viewBox="0 0 16 16" version="1.1" width="16" data-view-component="true" class="octicon octicon-alert">
    <path d="M6.457 1.047c.659-1.234 2.427-1.234 3.086 0l6.082 11.378A1.75 1.75 0 0 1 14.082 15H1.918a1.75 1.75 0 0 1-1.543-2.575Zm1.763.707a.25.25 0 0 0-.44 0L1.698 13.132a.25.25 0 0 0 .22.368h12.164a.25.25 0 0 0 .22-.368Zm.53 3.996v2.5a.75.75 0 0 1-1.5 0v-2.5a.75.75 0 0 1 1.5 0ZM9 11a1 1 0 1 1-2 0 1 1 0 0 1 2 0Z"></path>
</svg>
        <span class="js-stale-session-flash-signed-in" hidden="">You signed in with another tab or window. <a class="Link--inTextBlock" href="https://github.com/arshiyaarshh07/AIML_11_2024/blob/main/AIML_Lab01.ipynb">Reload</a> to refresh your session.</span>
        <span class="js-stale-session-flash-signed-out" hidden="">You signed out in another tab or window. <a class="Link--inTextBlock" href="https://github.com/arshiyaarshh07/AIML_11_2024/blob/main/AIML_Lab01.ipynb">Reload</a> to refresh your session.</span>
        <span class="js-stale-session-flash-switched" hidden="">You switched accounts on another tab or window. <a class="Link--inTextBlock" href="https://github.com/arshiyaarshh07/AIML_11_2024/blob/main/AIML_Lab01.ipynb">Reload</a> to refresh your session.</span>

    <button id="icon-button-66c25e79-5f3e-448b-babd-385a5cf1e6ac" aria-labelledby="tooltip-d9cbe48a-a206-43cc-b673-de085c2e129b" type="button" data-view-component="true" class="Button Button--iconOnly Button--invisible Button--medium flash-close js-flash-close">  <svg aria-hidden="true" height="16" viewBox="0 0 16 16" version="1.1" width="16" data-view-component="true" class="octicon octicon-x Button-visual">
    <path d="M3.72 3.72a.75.75 0 0 1 1.06 0L8 6.94l3.22-3.22a.749.749 0 0 1 1.275.326.749.749 0 0 1-.215.734L9.06 8l3.22 3.22a.749.749 0 0 1-.326 1.275.749.749 0 0 1-.734-.215L8 9.06l-3.22 3.22a.751.751 0 0 1-1.042-.018.751.751 0 0 1-.018-1.042L6.94 8 3.72 4.78a.75.75 0 0 1 0-1.06Z"></path>
</svg>
</button><tool-tip id="tooltip-d9cbe48a-a206-43cc-b673-de085c2e129b" for="icon-button-66c25e79-5f3e-448b-babd-385a5cf1e6ac" popover="manual" data-direction="s" data-type="label" data-view-component="true" class="sr-only position-absolute" aria-hidden="true" role="tooltip"><template shadowrootmode="open"><style>
      :host {
        --tooltip-top: var(--tool-tip-position-top, 0);
        --tooltip-left: var(--tool-tip-position-left, 0);
        padding: var(--overlay-paddingBlock-condensed) var(--overlay-padding-condensed) !important;
        font: var(--text-body-shorthand-small);
        color: var(--tooltip-fgColor, var(--fgColor-onEmphasis)) !important;
        text-align: center;
        text-decoration: none;
        text-shadow: none;
        text-transform: none;
        letter-spacing: normal;
        word-wrap: break-word;
        white-space: pre;
        background: var(--tooltip-bgColor, var(--bgColor-emphasis)) !important;
        border-radius: var(--borderRadius-medium);
        border: 0 !important;
        opacity: 0;
        max-width: var(--overlay-width-small);
        word-wrap: break-word;
        white-space: normal;
        width: max-content !important;
        inset: var(--tooltip-top) auto auto var(--tooltip-left) !important;
        overflow: visible !important;
        text-wrap: balance;
      }

      :host(:is(.tooltip-n, .tooltip-nw, .tooltip-ne)) {
        --tooltip-top: calc(var(--tool-tip-position-top, 0) - var(--overlay-offset, 0.25rem));
        --tooltip-left: var(--tool-tip-position-left);
      }

      :host(:is(.tooltip-s, .tooltip-sw, .tooltip-se)) {
        --tooltip-top: calc(var(--tool-tip-position-top, 0) + var(--overlay-offset, 0.25rem));
        --tooltip-left: var(--tool-tip-position-left);
      }

      :host(.tooltip-w) {
        --tooltip-top: var(--tool-tip-position-top);
        --tooltip-left: calc(var(--tool-tip-position-left, 0) - var(--overlay-offset, 0.25rem));
      }

      :host(.tooltip-e) {
        --tooltip-top: var(--tool-tip-position-top);
        --tooltip-left: calc(var(--tool-tip-position-left, 0) + var(--overlay-offset, 0.25rem));
      }

      :host:after{
        position: absolute;
        display: block;
        right: 0;
        left: 0;
        height: var(--overlay-offset, 0.25rem);
        content: "";
      }

      :host(.tooltip-s):after,
      :host(.tooltip-se):after,
      :host(.tooltip-sw):after {
        bottom: 100%
      }

      :host(.tooltip-n):after,
      :host(.tooltip-ne):after,
      :host(.tooltip-nw):after {
        top: 100%;
      }

      @keyframes tooltip-appear {
        from {
          opacity: 0;
        }
        to {
          opacity: 1;
        }
      }

      :host(:popover-open),
      :host(:popover-open):before {
        animation-name: tooltip-appear;
        animation-duration: .1s;
        animation-fill-mode: forwards;
        animation-timing-function: ease-in;
      }

      :host(.\:popover-open) {
        animation-name: tooltip-appear;
        animation-duration: .1s;
        animation-fill-mode: forwards;
        animation-timing-function: ease-in;
      }

      @media (forced-colors: active) {
        :host {
          outline: solid 1px transparent;
        }

        :host:before {
          display: none;
        }
      }
    </style><slot></slot></template>Dismiss alert</tool-tip>


  
</div>
          
    </div>

  <div id="start-of-content" class="show-on-focus"></div>








    <div id="js-flash-container" class="flash-container" data-turbo-replace="">




  <template class="js-flash-template"></template>
</div>


    
    <notification-shelf-watcher data-base-url="https://github.com/notifications/beta/shelf" data-channel="eyJjIjoibm90aWZpY2F0aW9uLWNoYW5nZWQ6MTc3ODMxOTcwIiwidCI6MTcyNTk1ODUxN30=--f3e1f4ee16068104f09a80b6d9f3c7c1221add1a1e8aaa36a85dcc4679ba6669" data-view-component="true" class="js-socket-channel" data-refresh-delay="500" data-catalyst=""></notification-shelf-watcher>
  <div hidden="" data-initial="" data-target="notification-shelf-watcher.placeholder"></div>






  <div class="application-main " data-commit-hovercards-enabled="" data-discussion-hovercards-enabled="" data-issue-and-pr-hovercards-enabled="">
        <div itemscope="" itemtype="http://schema.org/SoftwareSourceCode" class="">
    <main id="js-repo-pjax-container">
      
      






    
  <div id="repository-container-header" data-turbo-replace="" hidden=""></div>




<turbo-frame id="repo-content-turbo-frame" target="_top" data-turbo-action="advance" class="">
    <div id="repo-content-pjax-container" class="repository-content ">
      <a href="https://github.dev/" class="d-none js-github-dev-shortcut" data-hotkey=".,Mod+Alt+.">Open in github.dev</a>
  <a href="https://github.dev/" class="d-none js-github-dev-new-tab-shortcut" data-hotkey="Shift+.,Shift+&gt;,&gt;" target="_blank" rel="noopener noreferrer">Open in a new github.dev tab</a>
    <a class="d-none" data-hotkey=",,Mod+Alt+," target="_blank" href="https://github.com/codespaces/new/arshiyaarshh07/AIML_11_2024/tree/main?resume=1">Open in codespace</a>




    
      
    








<react-app app-name="react-code-view" initial-path="/arshiyaarshh07/AIML_11_2024/blob/main/AIML_Lab01.ipynb" style="display: block; min-height: calc(100vh - 64px)" data-ssr="true" data-lazy="false" data-alternate="false" data-catalyst="" class="loaded">
  
  <script type="application/json" data-target="react-app.embeddedData">{"payload":{"allShortcutsEnabled":true,"fileTree":{"":{"items":[{"name":"AIML_Lab01.ipynb","path":"AIML_Lab01.ipynb","contentType":"file"},{"name":"AIML_Lab02.ipynb","path":"AIML_Lab02.ipynb","contentType":"file"},{"name":"AIML_Lab03.ipynb","path":"AIML_Lab03.ipynb","contentType":"file"},{"name":"AIML_Lab04.ipynb","path":"AIML_Lab04.ipynb","contentType":"file"},{"name":"AIML_Lab05.ipynb","path":"AIML_Lab05.ipynb","contentType":"file"},{"name":"AIML_Lab06.ipynb","path":"AIML_Lab06.ipynb","contentType":"file"},{"name":"AIML_Lab07.ipynb","path":"AIML_Lab07.ipynb","contentType":"file"},{"name":"AIML_Lab08.ipynb","path":"AIML_Lab08.ipynb","contentType":"file"},{"name":"AIML_Lab09.ipynb","path":"AIML_Lab09.ipynb","contentType":"file"},{"name":"AIML_Lab10.ipynb","path":"AIML_Lab10.ipynb","contentType":"file"},{"name":"Fake_News.ipynb","path":"Fake_News.ipynb","contentType":"file"},{"name":"README.md","path":"README.md","contentType":"file"}],"totalCount":12}},"fileTreeProcessingTime":3.274063,"foldersToFetch":[],"repo":{"id":756769206,"defaultBranch":"main","name":"AIML_11_2024","ownerLogin":"arshiyaarshh07","currentUserCanPush":false,"isFork":false,"isEmpty":false,"createdAt":"2024-02-13T14:52:32.000+05:30","ownerAvatar":"https://avatars.githubusercontent.com/u/145633952?v=4","public":true,"private":false,"isOrgOwned":false},"codeLineWrapEnabled":false,"symbolsExpanded":false,"treeExpanded":true,"refInfo":{"name":"main","listCacheKey":"v0:1709627435.0","canEdit":true,"refType":"branch","currentOid":"61824fbe7ab5fc999dc086be43f872257d518c7a"},"path":"AIML_Lab01.ipynb","currentUser":{"id":177831970,"login":"2303a52320","userEmail":"hemanthkumarr427@gmail.com"},"blob":{"rawLines":["{","  \"cells\": [","    {","      \"cell_type\": \"markdown\",","      \"metadata\": {","        \"id\": \"view-in-github\",","        \"colab_type\": \"text\"","      },","      \"source\": [","        \"\u003ca href=\\\"https://colab.research.google.com/github/arshiyaarshh07/AIML_11_2024/blob/main/AIML_Lab01.ipynb\\\" target=\\\"_parent\\\"\u003e\u003cimg src=\\\"https://colab.research.google.com/assets/colab-badge.svg\\\" alt=\\\"Open In Colab\\\"/\u003e\u003c/a\u003e\"","      ]","    },","    {","      \"cell_type\": \"markdown\",","      \"id\": \"b50d918d\",","      \"metadata\": {","        \"id\": \"b50d918d\"","      },","      \"source\": [","        \"## Lab01- Implement basic data structures of Numpy, Pandas, Matplotlib and Access Data from sources\\n\"","      ]","    },","    {","      \"cell_type\": \"markdown\",","      \"id\": \"0128a62e\",","      \"metadata\": {","        \"id\": \"0128a62e\"","      },","      \"source\": [","        \"### Part 01: Lab Task is implement the following data structures using Numpy and Pandas.**\\n\",","        \"1. Lists\\n\",","        \"2. Arrays\\n\",","        \"3. Identify their type using type()\\n\",","        \"4. Perform mathematical operations on these datasets created - multiplication, division, poweroff\\n\",","        \"5. Combine text with Numpy fuction to generate a textual output - ”Addition of Two: array1 +array 2\\n\",","        \"6. Implement np.sin(), log(), log2(), np.exp())\"","      ]","    },","    {","      \"cell_type\": \"code\",","      \"execution_count\": null,","      \"id\": \"53ac920a\",","      \"metadata\": {","        \"id\": \"53ac920a\"","      },","      \"outputs\": [],","      \"source\": [","        \"import numpy as np\\n\",","        \"lst1=[1,2,3]\\n\",","        \"array1 = np.array(lst1)\\n\",","        \"array1\"","      ]","    },","    {","      \"cell_type\": \"code\",","      \"execution_count\": null,","      \"id\": \"e40e19b2\",","      \"metadata\": {","        \"id\": \"e40e19b2\"","      },","      \"outputs\": [],","      \"source\": [","        \"type(lst1)\"","      ]","    },","    {","      \"cell_type\": \"code\",","      \"execution_count\": null,","      \"id\": \"b44611f1\",","      \"metadata\": {","        \"id\": \"b44611f1\"","      },","      \"outputs\": [],","      \"source\": [","        \"type(array1)\"","      ]","    },","    {","      \"cell_type\": \"markdown\",","      \"id\": \"3b08fedd\",","      \"metadata\": {","        \"id\": \"3b08fedd\"","      },","      \"source\": [","        \"***Perform Mathematical Operations on these datasets - Multiplication, Division, Poweroff***\"","      ]","    },","    {","      \"cell_type\": \"code\",","      \"execution_count\": null,","      \"id\": \"cbbb5ca5\",","      \"metadata\": {","        \"id\": \"cbbb5ca5\"","      },","      \"outputs\": [],","      \"source\": [","        \"print(\\\"array2 multiplied by array1: \\\",array1*array2)\\n\",","        \"print(\\\"array2 divided by array1: \\\",array2/array1)\\n\",","        \"print(\\\"array2 raised to the power of array1: \\\",array2**array1)\"","      ]","    },","    {","      \"cell_type\": \"code\",","      \"execution_count\": null,","      \"id\": \"208e5e57\",","      \"metadata\": {","        \"id\": \"208e5e57\"","      },","      \"outputs\": [],","      \"source\": [","        \"# sine function\\n\",","        \"print(\\\"Sine: \\\",np.sin(array1))\\n\",","        \"# logarithm\\n\",","        \"print(\\\"Natural logarithm: \\\",np.log(array1))\\n\",","        \"print(\\\"Base-10 logarithm: \\\",np.log10(array1))\\n\",","        \"print(\\\"Base-2 logarithm: \\\",np.log2(array1))\\n\",","        \"# Exponential\\n\",","        \"print(\\\"Exponential: \\\",np.exp(array1))\"","      ]","    },","    {","      \"cell_type\": \"code\",","      \"execution_count\": null,","      \"id\": \"6ad654be\",","      \"metadata\": {","        \"id\": \"6ad654be\"","      },","      \"outputs\": [],","      \"source\": [","        \"list2=[3,2,1]\\n\",","        \"array2=np.array(list2)\\n\",","        \"array2\"","      ]","    },","    {","      \"cell_type\": \"code\",","      \"execution_count\": null,","      \"id\": \"7ffe0ebb\",","      \"metadata\": {","        \"id\": \"7ffe0ebb\"","      },","      \"outputs\": [],","      \"source\": [","        \"print(\\\"Adding two numpy arrays {array1} and {array2} together:\\\", array1+array2)\"","      ]","    },","    {","      \"cell_type\": \"code\",","      \"execution_count\": null,","      \"id\": \"e2d45eed\",","      \"metadata\": {","        \"id\": \"e2d45eed\"","      },","      \"outputs\": [],","      \"source\": [","        \"print(f\\\"Adding two numpy arrays {array1} and {array2} together: {array1+array2}\\\")\"","      ]","    },","    {","      \"cell_type\": \"markdown\",","      \"id\": \"7edeb66c\",","      \"metadata\": {","        \"id\": \"7edeb66c\"","      },","      \"source\": [","        \"### Part-02: Lab Task is to visualize the datasets or data using Matplotlib builtin function Graphs\"","      ]","    },","    {","      \"cell_type\": \"markdown\",","      \"id\": \"cdd82673\",","      \"metadata\": {","        \"id\": \"cdd82673\"","      },","      \"source\": [","        \"### Generate Scatterplot\\n\",","        \"**Let's suppose we collected age (in years), height (in cm), and weight (in kilograms) information from few patients visitng a clinic.**\"","      ]","    },","    {","      \"cell_type\": \"code\",","      \"execution_count\": null,","      \"id\": \"70b89ee2\",","      \"metadata\": {","        \"id\": \"70b89ee2\"","      },","      \"outputs\": [],","      \"source\": [","        \"people = ['Ann','Brandon','Chen','David','Emily','Farook',\\n\",","        \"          'Gagan','Hamish','Imran','Julio','Katherine','Lily']\\n\",","        \"age = [21,12,32,45,37,18,28,52,5,40,48,15]\\n\",","        \"weight = [55,35,77,68,70,60,72,69,18,65,82,48]\\n\",","        \"height = [160,135,170,165,173,168,175,159,105,171,155,158]\"","      ]","    },","    {","      \"cell_type\": \"code\",","      \"execution_count\": null,","      \"id\": \"183f441b\",","      \"metadata\": {","        \"id\": \"183f441b\"","      },","      \"outputs\": [],","      \"source\": [","        \"import matplotlib.pyplot as plt\"","      ]","    },","    {","      \"cell_type\": \"code\",","      \"execution_count\": null,","      \"id\": \"d4b57ac8\",","      \"metadata\": {","        \"id\": \"d4b57ac8\",","        \"outputId\": \"3d0b41cd-b6a6-4455-f313-720116c56965\"","      },","      \"outputs\": [","        {","          \"data\": {","            \"image/png\": \"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\\n\",","            \"text/plain\": [","              \"\u003cFigure size 432x288 with 1 Axes\u003e\"","            ]","          },","          \"metadata\": {","            \"needs_background\": \"light\"","          },","          \"output_type\": \"display_data\"","        }","      ],","      \"source\": [","        \"plt.scatter(weight, height)\\n\",","        \"plt.title(\\\"Relationship between Weight and Height of Patients\\\")\\n\",","        \"plt.ylabel(\\\"Height in Meters\\\")\\n\",","        \"plt.xlabel(\\\"Weight of Patients in Kgs\\\")\\n\",","        \"plt.show()\"","      ]","    },","    {","      \"cell_type\": \"markdown\",","      \"id\": \"de2fc765\",","      \"metadata\": {","        \"id\": \"de2fc765\"","      },","      \"source\": [","        \"### Generate Bar Plot\"","      ]","    },","    {","      \"cell_type\": \"code\",","      \"execution_count\": null,","      \"id\": \"371361d4\",","      \"metadata\": {","        \"id\": \"371361d4\",","        \"outputId\": \"25bac8cd-df81-4f58-8f01-1e2786cb0448\"","      },","      \"outputs\": [","        {","          \"data\": {","            \"image/png\": \"iVBORw0KGgoAAAANSUhEUgAAAtcAAAFBCAYAAAC8WYOeAAAAOXRFWHRTb2Z0d2FyZQBNYXRwbG90bGliIHZlcnNpb24zLjQuMywgaHR0cHM6Ly9tYXRwbG90bGliLm9yZy/MnkTPAAAACXBIWXMAAAsTAAALEwEAmpwYAABQO0lEQVR4nO3dedylc/3H8dfbWAYju7E1hixJ9pG9kDVtFEkLqZAipaihjCUhJEXW0mKrlBZLll/IGkpZQsUgy2AQshTz+f3x+Z7ua87c9z1nZs59rnPueT8fj+tx39dyzvX9nuU6n+t7fb7fSxGBmZmZmZnNujnqLoCZmZmZ2XDh4NrMzMzMrE0cXJuZmZmZtYmDazMzMzOzNnFwbWZmZmbWJg6uzczMzMzaxMG1mfUESZ+QFJXpZUl3Stqt7rIBSLpZ0rkz+JjfSDp7iIrUNpJOkXTfTD52kqSvtbDdRyV9sMXnPFDS85Lmnpky9fN8F0i6oR3PZWbm4NrMesXawMvAhmXaAXgOOFvS5nUWTNKcwBrAbXWWYwh9B9h+Rh8kaVlgCeCWFjY/Elivxae+ENgwIv4zo2UawLrArW16LjObzc1ZdwHMzFq0FnB3RNzUWCBpInA38A7gd/UUC4DVgJHAH2ssw5CJiLtn8qHrlr+DBq6SFgVeT4uvX0T8YybL09++FwRWwMG1mbWJW67NrOtJEtkyfEfTqufK3/kq2y4h6SRJEyW9JOkvknbo5znfKOknkp6U9Jyk/5O0dtM2x0h6VNIHJf2pPN+Dkj7X9HTrAEElOJQ0l6QvSrqjpLDcL+kQSSOmU9dVJZ0r6WFJr0h6RNIvJc03yGP+K2m/yvwaJXXmyqbyPCLpiMqyUZKOlHRfKeM9kvZqeu61ynO9rbJMkj4r6d7yuJvLdn+XdFLT6/I4sIykyyW9IOmxprIeBDxVZn9U9jVF0usGqOvCZZvdKsu+I+lvktYfaD+DWAcQleBa0jslPS3p+5JGlmVLSTpb0mRJ/5J0uqStSlnWqTx22/JZerJ8Xv4u6egWymFmw4SDazPrBSsBo4C/NC1vBHy3Akhapvy/HXAY8O4yf6GkDRoPkrQxmcIxCtgD2AUYAVwlaanK868LLEimLJwIvAf4E3CCpK2atvtHRPyrPP+cwG+AQ4BzyJSKM4CvAl9oPCgi3hkRu1fKNQa4qZRrX2Ab4GDg+Yh4cZDX51lggcr8F4DngYUry3YCFgNOLvtaALgO+DhwUinjL4FTJX2g8ri1yROH2yvLvgUcA/wEeBfwK+DnwPJM3fq8Lhm4ngmcS75+twAnSlqxbHMB8G3gv8DGZMrPWyLiOfq3Vvn7p6YyzgecTr7e/e1nIOsCLwD3SBoh6SjgZ8D4iPhYRLxcWtavL2U7ANgZGAOcBvwHuBOgnMT9ppTtQ+W1+TaZzmRms4uI8OTJk6eunshgJoBtyXS2hYEdgUnAX4GRZbv/A+4HFq08VmRQflaZHwU8ClzYtI+lyj72rSybTLaqLllZNj8ZuH6rsuxG4ILK/FeBV4ANmvbxbTIIH6ienwNeAkbM4OtzH3B0+X8ZMuA7Eri/ss1NwPcr898Dngbe0PRcvwauqsyfVC0zsHV5nd7T9LifleWrV5Y9BvwDWKiy7E1lu+0qy84Gbm+xrp8ng9U5K+/v82U/Cw62nwGe7zzgWmB0+fw8DKzftM25wMSm51+YPCG4rbLsl8DldX9fPHnyVO/klmsz6wVrlb+XkgHN08D5wNXA5pGtixsDm5NB5b8kzVlakEcAdwFjy3PsAiwJfLm6g4h4DHiRDE6RNBZYBPhmRDxe2e7fwD+BRct2I6h0ZixpBF8o5bu1UY5SlruA5Qap5xNk7vZZkt4iSS2+Ps8AjTSK/chW1qspLdeS1gPWB04o868HdiM7Kj7YTxnHVp57baZuJT4QuCEiftlUhr+TQe9fyz6WIl/nYyPi2cp2i5W/j1eWrU3r+eprA3dGxKtlvnFV4/goVw4G2U9/1iGv4v6RDNTXjYibGyvL1YRdgK9Vnz8iniFPvqrlfgJ4a0n/eUOL9TGzYcbBtZn1grXJgHY9YBzZgXDBiPhAJfDduvw9iwzAq9MuQCMwejvZEjvV0HKSFiFTCx4pixqd8X7StN0cZND4z7Jo1fK4xkghG5IpGh/tpxzfpS9PvD/nkq3X6wE3Aw9LOnR6edpkcL2ApFHAnsDxpb4LlvJ+FrgyIho561uSx/+v9FPGg8pjG7nua1KCa0nzAG8FLu6nDK8H/lwJehuv32VN260NvEp2RG0855uYOoAfTHOwv1b5+9vB9tOfkte9ErAKsBCwa0Q80bTZlmTQfXHTY+cBFmfqEWK+AJwKfBr4u6Q/S9p5ujUys2HFo4WYWS9YC7gpIgYb0WEZ8tL9TgOsbwRNi9N/a+aW5e//lb+NTmqPNG23NRmINYLGRhDZaMFcpvzdhmxhb/bSAOUjIoLM7T6xtJx/EZgA/I0MvAfyDBnQf4JMlbkYWJkMClchX5Nqp85lyLSVTQZ4vsaJyIrleRvB7OLAXDS9fsrxpjcl840b1gWejogHm557bXLUl1fK/Orkb9F0W64lzQu8ETil6fmejWlHEGneT3/WJl+j9wDfB34uafOIqOZIL13+Tmp67Ob0tXgDUFq29wf2L1cLjgXOk3RDRPwTM5stOLg2s64maTTZUjy9ls1HyDSIuyJiwAAWeBDYRtIcETGl7GN+sgPkVRFxV9muEVyvSOlIWdImDgX+EBFXV7Z7oKQJNMoB2Qlxpod3i4iJkr4O7MP0j9XPkEHgZ4GvR0RIagTIXybzkS+tbP8IMA/wSEmHGUhj9JTGa/8Umce8StN2+5At19VW3HXo/z1rbnl+U/nbynB/q5NpPs0t163spz/rkKlAN5EdOm8CfiBpl3KiA/Bk+bsyfSkvcwGHky3jzZ1sAYiIWySdBWyGrxKbzVYcXJtZt2sO8AZyHtnSe6mk75At1YuTAdRzEXFM2e57wMeAMyWdU7Y5EJiXzENuWIfs3PY9SRPIAGl/MsjaoLLdukwdVN5IBmHnlOD4PjIfemWys9/u/RVe0ngyULyYPAFYqtTnAeCi6dT9GXKkjaeBH5ZljfSTXYF9KsEiZAvzE+RrdRzwEJlfvhqwcEQ0RjRZG5jUCMBLbvtvgU9LepAMiLcFGnWqvg7r0tTaXkkBOauy+Nnyd3dJNwHPRMQ9A9RzbWAKUwe0awM/amE//VkXuKOcZP29jPZxJfA1YHzZ5lKylf8Hkg4nPwefJ8fGvqvRyi3p52Sq0HVkK/ebyY6tP4+Ih6ZTDjMbRnw2bWbdbq3yd9DgugRkW5IjZXyXzMH9BvAGKjeYiYjrgfeRwfOvgePIFstxEfEITHVnwS8BvycD1nPIgHWDiPhb2W6OUr5qasDLZErI78mc5svJIdu2Ztq84KoHyE6Sx5ApJ0eW59ggBh6WruEZskX3u41gL3LovlfLuh9WN46IJ8m0hvvLa3Q5OSrIW4ArKpuuzdRD8EEO3fe7Us7zyNFTTiYD+0YL/xJk6klzqsebmTYF5GIyCD4EuIHKUIX9WBv4W+lUiqQlyVE+WtlPf9at1i8ifk+m1nxZ0h5l2UNkWs0ockSUI8gTtAeZ+sZFd5L59qeVOu1FvkYt3dLdzIYPTd2YYWZmkt5NDqu2Yj+5vFZROoL+gWyhPbDu8nSCpPeQ43qvVekkamYGOC3EzKw/69J/J7nZmqQVyJvb/I4cW3pVcnSTl8mW9mFH0sfJ1vm7yTz1twOfIofmc2BtZtNwcG1mNq11aH3c5dnJKGAj8q6W85I56b8ADm8hdaVXvY48oVgaeA34M7BHRJxXa6nMrGs5LcTMzMzMrE3codHMzMzMrE2GVVrIYostFmPHjq27GGZmZmY2zN12221PRcTizcuHVXA9duxYbr11pu/ZYGZmZmbWkjLe/zScFmJmZmZm1iYOrs3MzMzM2sTBtZmZmZlZmzi4NjMzMzNrEwfXZmZmZmZt4uDazMzMzKxNHFybmZmZmbWJg2szMzMzszZxcG1mZmZm1ibD6g6NZmZmZt1s/AF7M3nSxNr2v+josRx1/Km17X920NHgWtIIYALwYWAp4DHgHGBCRLxathFwKLAnsDBwM/DpiLirk2U1MzMza7fJkyZy2n7L1bb/vU6aWNu+ZxedTgs5CPg0sB/wRuCzZf7LlW0OBA4A9gXWA54ArpC0QGeLamZmZmY2YzqdFrIR8OuI+HWZnyjpV8D68L9W6/2BoyPiwrJsNzLA3hU4rcPlNTMzMzNrWadbrq8DNpf0RgBJbwK2AC4p65cHlgQubzwgIl4CriUDczMzMzOzrtXplutjgAWAuyW9Vvb/tYg4paxfsvyd1PS4ScAy/T2hpD3J/GzGjBnT9gKbmZmZmbWq0y3XHwA+SqZ4rFP+30fSx2f2CSPi9IgYFxHjFl988TYV08zMzMxsxnW65fobwHERcX6Zv0PScmSHxrOAx8vy0cBDlceNrqwzMzMzM+tKnW65ng94rWnZa5VyPEAG0Vs1VkoaCWwK3NCJApqZmZmZzaxOt1z/GviSpAeAu4C1gc8DPwSIiJB0IjBe0j3AfcAhwAvAuR0uq5mZmZnZDOl0cL0vcARwCrAEeROZM4DDK9scC8wLnEzfTWS2jojnO1tUMzMzM7MZ09HgugTI+5dpoG2CvIvjhE6UyczMzMysXTrdcm1Wi/EH7M3kSRNr2/+io8dy1PGn1rZ/MzMz6wwH1zZbmDxpIqftt1xt+9/rpIm17dvMzMw6p9OjhZiZmZmZDVsOrs3MzMzM2sTBtZmZmZlZmzi4NjMzMzNrEwfXZmZmZmZt4uDazMzMzKxNHFybmZmZmbWJg2szMzMzszZxcG1mZmZm1iYOrs3MzMzM2sTBtZmZmZlZm8xZdwHMzKw3jD9gbyZPmljb/hcdPZajjj+1tv2bmbWio8G1pInAcv2suiQiti/b7AN8EVgKuAvYPyJ+37FCmplZvyZPmshp+/V3CO+MvU6aWNu+zcxa1em0kPXIoLkxrQME8BMASR8AvgUcBawN3ABcKmlMh8tpZmZmZjbDOhpcR8STEfF4YwLeATxHCa6BzwNnR8QZEfHXiNgXeAz4VCfLaWZmZmY2M2rr0ChJwMeBH0fES5LmBtYFLm/a9HJgo06Xz8zMzMxsRtXZoXErYHngjDK/GDACmNS03SRgy4GeRNKewJ4AY8Y4e8SsV7mznJmZDQd1BtefBG6JiD/PypNExOnA6QDjxo2LdhTMzDrPneXMzGw4qCUtRNISwHvoa7UGeAp4DRjdtPlo4PEOFc3MzMzMbKbV1XK9O/AKcF5jQUT8R9JtZLrITyvbbgVc2NHSmZnZbKHOdCSnIpkNTx0PrktHxk8A50fEC02rTwB+JOkPwPXA3sDSgI8+ZmbWdnWmIzkVyWx4qqPlejNgJeDDzSsi4gJJiwKHkONg3wm8IyIe7GgJzXqAW9zMzMy6T8eD64j4HaBB1p8CnNK5Epn1Jre4mZmZdZ/axrk2MzMzMxtuHFybmZmZmbWJg2szMzMzszZxcG1mZmZm1iYOrs3MzMzM2sTBtZmZmZlZm9R1h0YzMzOz6fKY/tZrWg6uJa0OvAVYEhgJPA3cB9wQEc8MTfHMzMxsduYx/a3XDBpcS1oB+BTwIWA0MAV4FngFWAiYD5gi6RrgTOCCiJgyhOU1MzMzM+taA+ZcSzoTuAtYCzgcWBsYGRGLR8SyETEKWAJ4F3AHcCzwV0mbDHmpzczMzMy60GAt1y8Bb4yIBwfaICKeAi4FLpX0eWAnYJn2FtHMzMzMrDcMGFxHxL4z8kQlHeSCWS6RmZmZmVmPmumh+CQtLGktSfO0s0BmZmZmZr2qpeBa0mGSjq7MbwE8BNwG/EPSakNUPjMzMzOzntFqy/WHgHsq88cD1wEbA/cCX29zuczMzMzMek6rwfXSwP0Akl4PrAkcGhE3AScAG7S6Q0lLSfqBpCclvSzpbklvq6yXpAmSHpX0kqSr3TJuZmZmZr2g1eD6eWDB8v8WwDMR8Ycy/zI53vV0SVoIuB4QsD2wKrAv8ERlswOBA8ry9cq6KyQt0GJZzczMzMxq0eodGq8BviRpCvAF4JeVdSsDD7f4PAcCj0XERyvLHmj8I0nA/sDREXFhWbYbGWDvCpzW4n7MzMzMzDqu1eD6c8CPgPOB24GDK+s+Clzb4vO8F7hM0gXA5sCj5J0dT46IAJYnb69+eeMBEfGSpGuBjegnuJa0J7AnwJgxY1oshpnZ0Bt/wN5MnjSxln0vOnosRx1/ai37NjObnbUUXEfEI2Q6SH+2IVNDWrECsA/wTeBo8u6P3y7rvkMG1gCTmh43iQFuThMRpwOnA4wbNy5aLIeZ2ZCbPGkip+23XC373uukibXs18xsdtdqy/WAIuK5Gdh8DuDWiPhymf+TpJWAT5PBtZmZmZlZz2opuJb0f4OsngI8R6aLfD8iBsu/fgy4u2nZX4HPlv8fL39Hk+NoU5l/HDMzMzOzLtbqaCGTgRWBTYB5gRfK303IDo3zA/sBd0lab5DnuR5YpWnZysCD5f8HyCB6q8ZKSSOBTYEbWiyrmZmZmVktWg2ufwM8CYyNiA0j4t0RsSHZAfEp4KdkPvXdDH5DmW8CG0g6WNKKknYig/KTAUqnxhOBgyTtKOnNwNlkMH/ujFbOzMzMzKyTWg2uvwocHhGPVheWjo6HAweX3OsTgPUHepKIuIUcMWRn4E7ga8BXgFMqmx1LBuEnA7cCSwFbR8TzLZbVzMzMzKwWrXZoXAqYZ4B1I8mcaMjxqDXYE0XExcDFg6wPYEKZzMzMzMx6Rqst19cAR0tap7pQ0jgyDeTqsmgl+vKnzczMzMxmK60G13uSI4LcIukRSbdLegS4GXgW2KvyfMe2vZRmZmZmZj2g1ZvIPAysJWl7YBx5s5fHgVsi4pLKdr49uZmZmZnNtlod53pkRLw8UL60pGVK50YzMzMzs9lWq2khv5I0d38rJL0BuK59RTIzMzMz602tjhYyBviZpB0j4tXGQkmrAVcAfxmKwvWK8QfszeRJE2vb/6Kjx3LU8afWtn8zMzMzS60G128nRww5V9IuETGljBRyGdlqvfNQFbAXTJ40kdP2W662/e910sTa9m1mZmZmfVpKCyn51FuSN4j5gaTNgKuA3wLvi4j/DFUBzczMzMx6Ras510TERGCLMl0FnBcRH4qI14aobGZmZmZmPWXAtBBJA41XfRuwIfBcZZuIiIPaXTgzMzMzs14yWM71ToOse6FpfQAOrs3MzMxstjZgcB0Ry3eyIGZmZmZmva7lnGszMzMzMxucg2szMzMzszbpaHAtaYKkaJoer6xX2eZRSS9JurrcqMbMzMzMrOvV0XJ9L7BUZVq9su5A4ABgX2A94AngCkkLdLqQZmZmZmYzqtU7NLbTqxHxePNCSQL2B46OiAvLst3IAHtX4LROFtLMzMzMbEbV0XK9Qkn7eEDS+ZJWKMuXB5YELm9sGBEvAdcCG9VQTjMzMzOzGdJyy7WkccCOwLLAyKbVEREfaOFpbgZ2B+4BlgAOAW4oedVLlm0mNT1mErDMIOXaE9gTYMyYMS0UwczMzMxsaLQUXEv6FPAdYDLwN+A/M7OziLi06XlvAu4HdgNumsnnPB04HWDcuHExM89hZmZmZtYOrbZcfwH4PrB3RLzarp1HxAuS7gJWAi4qi0cDD1U2Gw1Mk6NtZmZmZtZtWs25XgI4r52BNYCkkcAbgceAB8ggequm9ZsCN7Rzv2ZmZmZmQ6HV4PpSYP1Z3Zmk4yS9TdLyktYHfgbMD/wgIgI4EThI0o6S3gycDbwAnDur+zYzMzMzG2qtpoWcDJwuaS7gCuDZ5g0i4u4WnmdZ4DxgMeBJMs96g4h4sKw/Fpi37G9hsgPk1hHxfIvlNDMzM7MOGn/A3kyeNLGWfS86eixHHX9qLfseSKvB9e/K30OBrzatExDAiOk9SUTsMp31AUwok5mZmZl1ucmTJnLafsvVsu+9TppYy34H02pwvfmQlsLMzMzMbBhoKbiOiGuGuiBmZmZmZr2ujjs0mpmZmZkNSwO2XEt6AtgmIv4k6Ukyr3pAEbFEuwtnZmZmZtZLBksLOZm+W5GfzHSCazMzMzOz2d2AwXVEHFb5f0JHSmNmZmZm1sOcc21mZmZm1iYDBteSrpK0ZatPJGkJSYdL2rc9RTMzMzMz6y2D5VxfDJwj6WXg58ANwJ3AU8ArwELA8sC6wHbA24DfAgcMYXnNzMzMzLrWYDnXJ0g6DdgV+Cjwaaa9C6OAx8jg+4sRcfsQldPMzMzMrOsNehOZiPg3cAZwhqT5gDWBJYGRwNPAvRExcagLaWZmZmbWC1q9/TkR8SJw4xCWxczMzMysp3m0EDMzMzOzNnFwbWZmZmbWJrUG15K+LCkkfaeyTJImSHpU0kuSrpa0Wp3lNDMzMzNrRW3BtaQNgD2BvzStOpAczm9fYD3gCeAKSQt0toRmZmZmZjOmpeBa0lsljRpg3ShJb52RnUpaEDgH2AN4prJcwP7A0RFxYUTcCewGLEAOCWhmZmZm1rVabbn+HfCmAdatUtbPiNOBn0VE8+OWJ4f6u7yxICJeAq4FNprBfZiZmZmZdVSrQ/FpkHWjgBdb3aGkTwIrAh/uZ/WS5e+kpuWTgGUGeL49yfQSxowZ02oxzMzMzMzabsDguqR6bFZZ9AlJ2zZtNhLYHrijlZ1JWgU4CtgkIv47Y0XtX0ScTraEM27cuGjHc5qZmZmZzYzBWq7XJzsVAgSwE/Bq0zb/Ae4Bvtji/jYEFgPuyvRqIG+p/lZJewONUUFGAw9VHjcaeLzFfZiZmZmZ1WLA4DoivgF8A0DSA8B7I+LPs7i/i4Bbm5Z9H/gb2aJ9HxlEbwXcUvY9EtiU1gN4MzMzM7NatJRzHRHLt2NnEfEs8Gx1maR/A0+XkUGQdCIwXtI9ZLB9CPACcG47ymBmZmZmNlRa7dDYaEF+K7AsmWtdFRHx3TaV6VhgXuBkYGHgZmDriHi+Tc9vZmZmZjYkWgquJW0CXAgsPsAmAcxUcB0RmzXNBzChTGZmZmZmPaPVca5PAu4H1gbmiYg5mqYRQ1dEMzMzM7Pe0GpayCrAjm3o0GhmZmZmNmy12nL9F/pu8GJmZmZmZv1oNbj+FPA5SW8bysKYmZmZmfWywe7Q+CTZUbFhfuD/JP0HmGbkjohYov3FMzMzMzPrHYPlXJ/M1MG1zUbGH7A3kydNrGXfi44ey1HHn1rLvs3MzMxmxWB3aJzQwXJYl5k8aSKn7bdcLfve66SJtezXzMzMbFa1mnNtZmZmZmbT0epNZH7HwCkiU4DngNuB70fEw+0pmpmZmZlZb2m15fopYEVgE/LW5C+Uv5sAK5OdHfcD7pK03hCU08zMzMys67UaXP8GeBIYGxEbRsS7I2JDYHky8P4psAJwN/D1ISmpmZmZmVmXazW4/ipweEQ8Wl0YEY8AhwMHR8RzwAnA+u0topmZmZlZb2g1uF4KmGeAdSOB0eX/JwDNaqHMzMzMzHpRq8H1NcDRktapLpQ0jkwDubosWgl4sG2lMzMzMzPrIa0G13uSI4LcIukRSbdLegS4GXgW2KvyfMcO9CSSPi3pL5KeK9ONkravrJekCZIelfSSpKslrTZTNTMzMzMz67CWhuIrw+utVQLhccCSwOPALRFxSWW706bzVP8EDgL+RgbiuwEXSVo3Iv4CHAgcAOwO3Evmel8haZWImOaW62ZmZmZm3aSl4LohIi4GLp7ZnUXEL5sWHSzpU8CGku4A9geOjogLASTtRuZx7wpML3A3MzMzM6vVgGkhkuar/j+9aUZ3LGmEpF2AUcAN5LB+SwKXN7aJiJeAa4GNZvT5zczMzMw6bbCW6+clbRgRfyBvGjPQHRobRrSyQ0mrAzeSo4y8AOwQEXdIagTQk5oeMglYZpDn25PMCWfMmDGtFMHMzMzMbEgMFlzvAfyj8v/0gutW3QusBSwIvB/4gaTNZvbJIuJ04HSAcePGtauMZmZmZmYzbMDgOiJ+UPn/7HbtMCL+A/y9zN5Wbpf+OeBrZdlo4KHKQ0aTnSfNzMzMzLpaq0PxASDpTZI+Imm8pCXLshUlLTCLZZgHeIAMoreq7G8ksCmZk21mZmZm1tVaGi1E0ijge2Qax3/L4y4jg+GjyJbmL7TwPEeTo408DCxAjgKyGbB9RISkE4Hxku4B7gMOIfOyz52RSpmZmZmZ1aHVlusTyBE73k4GxdVbnF8CbNvi8ywJ/JjMu74KWA/YLiIuLeuPBb4JnAzcSt52fWuPcW1mZmZmvaDVca53BD4bEb+T1DwqyIPAcq08SUTsPp31AUwok5mZmZlZT2m15XpeYPIA6xYAXmtPcczMzMzMelerwfUtwEcHWPd+3OHQzMzMzKzltJCvAFdIuhL4KTnm9TskfY4Mrt86ROUzMzMzM+sZLbVcR8Tvyc6M8wDfITs0HgasAGwZEbcMWQnNzMzMzHrEgC3XkjYAbouI/wJExPXAppLmBRYGno2IFztTTDMzMzOz7jdYWsgNwMuSbgOuL9MNETEZeKkThTMzMzMz6yWDBdfbABuS41vvBRwIhKS/UQJt4PqIuGfIS2lmZmZm1gMGDK4j4grgCgBJAlYDNiYD7k2Bj5HB9jNki/a7h764ZmZmZmbdq6XRQsrNXe4s02kAkjYjb3m+HbD90BTPzMzMzKx3tBRcS5ofWJ9MEdkI2IC8eczdwBnAjUNVQDMzMzOzXjHYaCG70hdMrw78C7iJzLU+HvhDRDzfiUKamZmZmfWCwVqufwz8G/gh8JGIuKszRTIzMzMz602D3UTmG8CfyI6Lf5B0raRjJL1X0hKdKZ6ZmZmZWe8YbLSQgwAkzQmsTd+wfB8ElpX0AJlrfSNwY0T8ceiLa2ZmZmbWvabboTEiXgVuKdNJAJKWIQPt3YBvtfpcZmZmZmbD2WBpIVORNI+kTSQdCJwMfAd4R3mOf7b4HF+WdIuk5yQ9KenXkt7ctI0kTZD0qKSXJF0tabUZqJOZmZmZWS0GDK4lLS3p/ZJOkHQTOVrItcCRwNLAucAHgNdHxNgW97cZcArZ6r0F8CpwpaRFKtscCBwA7AusBzwBXCFpgRmol5mZmZlZxw2WyvFPIIBnyLzqw8jbnt8SES/NzM4iYpvqvKSPkEH7xsCvy50g9weOjogLyza7kQH2rpQb2JiZmZmZdaPBgutPkLc1v2cI978A2Xr+TJlfHlgSuLyxQUS8JOlasrV7muBa0p7AngBjxowZwqKamZmZmQ1uwLSQiPjeEAfWkJ0hb6fvDo9Llr+TmrabVFk3lYg4PSLGRcS4xRdffEgKaWZmZmbWitpG+JB0ArAJsElEvFZXOczMzMzM2qXl0ULaSdI3yfGyt4iI+yurHi9/Rzc9ZHRlnZmZmZlZV+p4cC3pW/QF1s1pJw+QQfRWle1HApsCN3SskGZmZmZmM6GjaSGSTgY+ArwXeEZSI4/6hYh4ISJC0onAeEn3APcBhwAvkEP/mZmZ2QDGH7A3kydNrG3/i44ey1HHn1rb/s26Qadzrvcpf69qWn4YMKH8fywwL3mjmoWBm4GtI+L5ThTQzMysV02eNJHT9luutv3vddLE2vZt1i06GlxHhFrYJshAe8JQl8fMzMzMrJ1q6dBoZmZmZjYcObg2MzMzM2sTB9dmZmZmZm3i4NrMzMzMrE0cXJuZmZmZtYmDazMzMzOzNnFwbWZmZmbWJg6uzczMzMzaxMG1mZmZmVmbOLg2MzMzM2sTB9dmZmZmZm3i4NrMzMzMrE0cXJuZmZmZtYmDazMzMzOzNul4cC3prZJ+JekRSSFp96b1kjRB0qOSXpJ0taTVOl1OMzMzM7MZVUfL9SjgTuCzwEv9rD8QOADYF1gPeAK4QtICHSuhmZmZmdlM6HhwHRGXRMT4iPgZMKW6TpKA/YGjI+LCiLgT2A1YANi102U1MzMzM5sR3ZZzvTywJHB5Y0FEvARcC2xUV6HMzMzMzFrRbcH1kuXvpKblkyrrpiJpT0m3Srr1ySefHNLCmZmZmZkNptuC6xkWEadHxLiIGLf44ovXXRwzMzMzm411W3D9ePk7umn56Mo6MzMzM7Ou1G3B9QNkEL1VY4GkkcCmwA11FcrMzMzMrBVzdnqHkkYBK5bZOYAxktYCno6IhySdCIyXdA9wH3AI8AJwbqfLamZmZmY2IzoeXAPjgN9V5g8r0w+A3YFjgXmBk4GFgZuBrSPi+c4W08zMzMxsxnQ8uI6IqwENsj6ACWUyMzMzM+sZ3ZZzbWZmZmbWsxxcm5mZmZm1iYNrMzMzM7M2cXBtZmZmZtYmDq7NzMzMzNrEwbWZmZmZWZs4uDYzMzMzaxMH12ZmZmZmbeLg2szMzMysTRxcm5mZmZm1iYNrMzMzM7M2cXBtZmZmZtYmDq7NzMzMzNrEwbWZmZmZWZt0bXAtaR9JD0h6WdJtkjatu0xmZmZmZoPpyuBa0geAbwFHAWsDNwCXShpTa8HMzMzMzAbRlcE18Hng7Ig4IyL+GhH7Ao8Bn6q5XGZmZmZmA+q64FrS3MC6wOVNqy4HNup8iczMzMzMWqOIqLsMU5G0NPAI8LaIuLay/KvAhyJilabt9wT2LLOrAPd2qqxttBjwVN2FaLPhVqfhVh8YfnUabvWB4Vcn16f7Dbc6Dbf6wPCrUy/XZ7mIWLx54Zx1lKSdIuJ04PS6yzErJN0aEePqLkc7Dbc6Dbf6wPCr03CrDwy/Ork+3W+41Wm41QeGX52GW32gC9NCyLOX14DRTctHA493vjhmZmZmZq3puuA6Iv4D3AZs1bRqK3LUEDMzMzOzrtStaSEnAD+S9AfgemBvYGng1FpLNXR6Oq1lAMOtTsOtPjD86jTc6gPDr06uT/cbbnUabvWB4Ven4Vaf7uvQ2CBpH+BAYCngTuBz1Q6OZmZmZmbdpmuDazMzMzOzXtN1OddmZmZmZr3KwbWZTZekeesug5mZWS9wcG1mg5I0AThTUvPwmGZmZtbEwXWXkqS6y2AzRtKIusvQTpXP4P3Ae4EN6ytNew2396qh8Z5J8rHdbBD+je1uSj17HOvZgg9XjR/9aOppOrseCBqvRzfXv1G2iHitlw8G/ZhD0oiI+CFwE/AZSSvUXah2KO/VKEkr1l2WWSVpZUnvlDRH47gREVMkrSpp+brLNyskdetwsW3R6wFEL56kDvQba931fkaaImn+bv79H0jPfqmHm8YBNiJeK/Pvl7SHpHXrLVk9qgFr+dt1B8Lyw6hG2SR9DrhR0pmSdqy5eLOkBGqvlSB0TuBIYH1gG0nz1Fy8WVY+X2czPMZXPQ74GrBmY4GklcgTojF1FWpWVL7/r5b5zSWtUm+pZl05oTuocVJXCSDmrrtsM6pxjCj/j6y7PIOpnsBUyry3pG9JOkDSIvWVrn7V+EPS3JLWkvS6xvK6gltJOwC/BhbttQDbwXWXiIgpAJIWlPR74GTgC8A1krbpxuByKPQTsO4t6SZJZ0v6QN3lqyo/jCFpaUm7AnsBvwRWA46TtDl0/yV6SXOVE7mlG8vKD/4ISacCjwI7A/MDewCr1lTUlkl6W6MT5gCtMQIeBP4pab6OFq5NKvU6EHgd8C5JC5Zl7wT+HBHX1FK4WVBtgZe0laQngDOBmyR9UtLr6i3hLNkC+DjwicYCSUcAv5F0qKQ1y7KuPWZUWn4bV0d+Cpwr6UONz183BEKlbFdKGt34fS3Ll5d0C/AlYBQwAbio8fvSza/9UKnEH58DJgJnANeQMciQNW6p9ONpvoJT+fz8G3gr8GKvxUCz3YeoW0maR9J3gW3oa3F6F3AucIakZeosX6dUAtYlJb0XOIA8c30DcLSkd0F3XL4qB4SPATcDHwQ+EhFHAR8py06CvgNXF/sA+Vl7sWn5fsB2wNbkXVM/CKwOfEjSAtAdP6LNJC0JXAx8E/7XGrOCpDWrgQEwCVg/Iprr3RMaaUgRcQ/wU+D9QONK1ybAebUVbhaUoG1FSduRn7lDyR/Y84DPkid6veo35PHsbZK2kXQceSL0FzLoPlbSMuU16LrvFvR97iStA5xPHjfmIoPU8WWb2gKhyuu2LPCTiJjUFDDvDLwErBkRHyev+DwCHChpsW5+7YeSpM+SDUQHkMf9bwMTlDf0a/e+JOnHwEmSlq5cwVkCpvr8PAncAbyt3WUYchHhqcMTMKKfZaOBu4EpwKcryxcmv/jH113uDr4+HwQeBi4B3lqWjQXOAv7eLe9ZWb4DcAtwd9PytwNPAPuX+Tnqfl1brOe85e88wJXAWU3rDwT+BWxRd1mbyjUX8P7GewXsSf7or1yWXQr8FTio8phxwGPAm+su/wzWdc5+ls0P3AN8h+x4+kdgjYG276apv+8GGYS+Uo4BIyvLfwn8qpfeM/IqyYjK/AbAZeQJ4DnAEmX5O4DrgFPrLvN06rN6eQ+uaHyfyvFiPHAf8PaB3tcOlO2TwAnN+weWKX/nBS4ALmx63JZkg8ghdb++HXiNRpS/qiwbWeq/e5lfqnz3XgA+1cZ9jwIWLv9/muws/8Ey/xEyBvpEZfuxwD+B7er6TM3s5JbrDispD42cr2UlzV9WTSYDl1eBx8v6ERHxDNlys4+ktWoo8pAZpPX5X8BDwBuj3PI+IiaSObLzSvpKeXxHPr9N79m7JL1H0npl9WVkILBcaclpuLWU90uS5o8ubA1RpbNoSQ05Fdhf0rwR8Qowd2XbuQAi4ljgeeBjjTSSLqnXp4B9Jc1Z3qsLgdspVw+ADwPfAg6VdGBpIXkeeJZMqeh66suLfFXSnJLWU6aRzRUR/yYD663Iy93LAYtLWjxK3nK3abqK0Gx/stUKssGh4VTyqt77hrRwbVI+jxHZ2jsSICJuAq4lT+7miIgnyuZXkseSLSVtUh5f2290OS70d4x+HpiT7INxE0A5XlxEBkcHlWUdvWKnTANbDdhR0hrlmLtYaSH9SSnTS8BiwIvlanHj2HU1+XlbtJNl7qRGXaP/fkxjyZPZuyUdS54kPUuexH63TfvfEPgz8Oay/5OBB8groUuSn/8fASeUY/TC5Xf/YfK4BtA7qSF1R/ezy8TULRerAjeQH+DfA+uW5fMCPwf+1PRYAdeTgdw8dddlFl8HVf+W/98ObEsG05BB3YFky+Mmle1GkScak4HFm59niMu9OhmsTSRz0Z4HPkee8b8RuAr4WdNj1iLzes+r+3WfTt1WKX9/TrZebFjmDyQPbK8v83OW6ToypWIPuqQlofl7Ub4z2wKvAe+sLP9wqeNvyKtCT9LXctIVdWmhrvuWct9FtlYfVll3JXliel85ZjxJpiHsA2wPLFJ3+RvvT+X/d5InBl8iA+dGy9ox5NWGrZoee2r5vm3VqfLOQL1e11y/Mn8gmfrR+KyNIVsGbwMWqmy3evls/qrmelR/rxYjUydGNr4jZCrZg8ARTY/brbxnHy/zHflO0fe7Mg64HPhpZd2+ZND/kTL/UTItZFzTc9wA/LDuz1C738dyLKx+3/YmT4p+AOzSeJ/IRr1Xy3HjrZXtlyLTsRZqQ3maX/O3kn169gfmLss+V8pwMbBE+b6fSbmq2itT7QUY7lPTh3pe4PVkfuQJwK5kC8Y/6Assx5FB5V5lvnEw2wp4Dli+7jrNxGuwErATTZejyvJby5f6b8AzwH5l3RvIS/kXNz3Xm8rB+5IO1+FnwPcr78fngf8Cu5b5fUod3ld5zDzkZcqP1v0eDFKv71NO5sgcxfuBb5A/pGuWH5wLK9u/vhyU7yFPdPpNl6mpLvOQOaBblvlR5GX3vzZttx5wY/nuTQS+UXfZZ6COHyWDmg8BawBHAU9RghzyRPVhsiPS64CNydb7q8nL+IvVXYdKXZYhA8mnyKs895Anru+rvH/3lB/X0ZXHrVHet674/JHByzLAnyipSU1lvYc8Edqb7FPTOA7uDvwBOKDpMR8rx8Q9u6BuJ5DBz93A7yrHu1H0dXpbo7L9UmX5w8CCHSrjiKb5z1SPxcAKwA/Laz2yLLulfCe2IRsM3grcCbyn7te8Da/HSsDv+1m+JHm/gr8BB5MNew8AO5b1B5G/aW+pPGaOsvwc4A0zUIbmk0s1le9dwFxl/gfk8XiTMj9nec8eIE+6/0rmzkOPNIBEOLgeuhe2csCpLPs98HT5oldbBp4AvgvMX+aPKwe0xnwjGO3JVmuyU+YdwMZNy39CtpaOIoPpL5IB9ofL+t3LgeCjlcfMRbaOtO2Hh74fu7kGWL8xGXTOV+YPLe/jT4CxZdkKwI/JVt3af/AHqmNlvvGZ2q8c2EaX+fHlNd+mzL+HzLu7mQxyHiIDulHdVJ+ybBQZAPypsmxN8qT0c031XpgMAv4LnFGWdc2Be4D6iWyZPru6Hdmq9B9gybLsXDLo2aD5/a6xPnM0zc9DdoD7OSXgJy/JTyTzqhuNDZ8if2R3bnr8hnW/R/3U8X1N8yJPVPttDQUWJE9ur2nUtyxfjmy132Soytrf+8PUOcpjgP8rx7MtgFXI36W/AmuXbbYjT1C/3fRc7ynHiAU6+bmjBH/klcTzS9kbjSHvI68cHFrmVy7fpX+V7V4mT0K75hgwC6/DBsCXy/9zls/hLvT1Y3pbWTcW+B7wj8pj7yZPQr5L5kBfTx7z3zszn6nq38ryn5MnMutXPmsTgaOZ+irOOuQQo1PIE/DRM1qGWt+Hugsw3CayY9Ed5QPxUUqAXNa9jfwxP63MN37oP0z+ODZa3JYrX/oz6q7PLL4WjS/XyuXLdAylNYPMjXuMaVt6fkG2sC1OtoKcVb7sbQ3mygFnBTLV421MfWa9IiXtpMyvRf7Afwz4e3nM9tX3vPz9ENn5dMe6X/sB6rwQsHZTXT9e3pulKsv+SLZUNDoBbQx8Hfgt5cpCzfVofq+qHd7GkScDe5f5uYHDyfzBRkeaxsnU/OT43bV0kh2gbs0nQfNU/p+L/HH8TvW1KN+Tu4HjyrLlyWDhSPpa6moJrvupzzrl70hyRJNVy/xnynfnPrKV96uVx1xDBnqr9PP8tQdDTZ/HOYHN6TsRvwa4oPy/QzmGnAC8oyzbnAxQv1lX2ZvK/xby6sfCZIviomX5m8nftVeoXE0kg+gbmDr1akg/a83PX77HpwB/qSz7YPkcHVjmF6Pv5GDFsmwJssX6E1RaZev6rgzRa7VA+ftOMlC+v2n9puV7d3iZXwn4Svm+XUuOGDLDHaLJlLyf0Hfi/L+TN/KYfT95cr1QWfZV8grP9v0815FkgL9O3a/nDL0GdRdguE1ka8RZ5BnhNeQZ4HyV9eeRwcwiTY+7hbxE2sgl/jDw7rrrMwuvQ3MP+cPJILlxCWp0OVBvWuYbo1SsQ56ANPLQdyIvg3+kTeVqPot+kgwkR5JByc1kIH0XfT+AbyYv+b5Mpn9UA54d6EtlWYh+AoCaXv/+Wj4vIoOw/SvLli6v94aVZe8vr8EeTP3DW9uPDtMGAWuRJwEPlx+CzcryecjWwifpC3DGkEHbKc2fAXJYrluAMXW/Z0313ZPs/HNZOZ40cnnPK+/jSpVt5yZzkI+lL2/xfVROEGuqQ3NL6IfJRofGSU7j/fk6GbjtXuavJnORNy7z21Np4e6WqflYUpYdQ45u8LYyvwd5letp8qrKFeRx8Elg67LNKaX+q9ZYlxHk5f/nKKNDlGPDCDLAepIc2vIL5f+dyzbrlO/PWf29Hm0uY79XFiuv853APmV+SbIl+k76Ggk2L5+tHw/yGtR+staOzyOwCNmp+9oyPw/Zp+HfTNuPaQLZj2mJ6mvNLDRokaOv3AF8vr8ykidldwLbNpaTjVbfB5Yty+Ysf+cl+zhtUOZ74uSn9gIMt6l8EG4lxwZeoxxQr6RvWKwVyM4Uny3zjQ/bOuQPT1uCyG6ZyMD0m8AhZCe475eD9nxkS+ivKtuKbLF+mr6OP6OoXDKdhXJUDzzzApuRJ0Lrltf9neQJ0TfJy6AXkmf0W5Yv/klkq0c1H20NsvPMd6hcoaj59W6+vDuq8v+yZMeR/5LB2+LloPt7SgtPZduryU4vy3VBnfo7UTiZvGT4XrLjy6P0tZIsTwbdJzYeT6YYTQFWa3qe/YGba6ybKj8ic5A/aieTAdr+ZCvSo+Vztjx5leU+4EuV51iQPBn8RB11mE79GkN63UgO3zaFcuWurF+S/BGuDr91IXkZ+BzKyUK3TUzdcNDc+e8e4ET6WuU2py+1ojHs3mRKrnVZ3nI+6xDU5TNkAH0m5aSgsm6n8t5tUebXIQO0P1Q+t5v29x1tY/nmKN+Fk8v8nGSnt3Uq24wm09b+XDkObF2OYY2T6rmBI8j0kGWa9tETAVsLn8V1yBPRjcn+Pv8CNi/r1iIb8Jr7Ma1G/rZd2sYyqRzHrgHeVHkfG/HOyHLMOp2+DvMfIFNkP9X0XIuU9+xddb/WM/Qa1F2A4TTRd7n5VEqeHX2X1y6nXDoDDiPP/pcr840P3F50qBNIh16PncgzztOBL5OXmV4BdivrdycDh49UHvOB8qVbeojKdBBwLxmQPU4GM1eQKSoXUVoIy7a3kGOiLkymtvy0/LD8ksxrfYnM2+26Xsxk4P8LMrA5kUrLLJnb/hdK7i6Zc3ho+X+e8ndVKj3GO1Tm5su9czXNjydbOQ8kT4QarbmLkJcZ/5duRebqVse5XoQ8oaj+EG1Hposc2t/+O1lfMihbvEx3U1pxy7o1yRP2b5b548pn+FLykvbvy/u5ct2fu6b6LUAG1FeSebCbkf1NpgDrlW22Jk8WGifTq5JB9en0je7QOD52VV8GsnPvd8krJWvQF2x+nuykPk0Odvm7DXmFbNMOl3eqE+/K8o+X9+TP9KURNF7zU5i6D8P7S9kfp4MNQeRv6i1kKtFq5TNzatM225Ztji/z89I39vZmZdky9Gjfpem8PvORJ6q/LcfGUeTVop8Dt1e2+2Q5dgxpP6byvG8gf1tObFre+J7sTuZa71pZ9xv6roqofGYvIeOErrq6ON36112A4TiRZ9nnVA6me5SD16NkHvZi5CWQ75UPT8+eNZf6NadaNA7MpzPtWfJ1ZDD7hnLwO4ZsSb2MHDHg32THhhHtfF3IVr+ryJzpHcgWtcYZ9Zjy/lxMJaAjezQ/ytStavuSl9FOoXTsqfv1blo3opTvWfKH/xAyuPkjlVSk8hpMJFusLgOurvHzI6Zubd+eqUeHWIo8Ob23vIcvk8PLVfsz7EqlpzsZTN8JXNff/srfN1BaTeqcyFz9KaUO25Ctmo2TgkZZjyCDn7HkD+d2ZHB9fXmfa2vhbT6GVcq8InkCuk1l3fLlvby9suwaMhi9lMyXP4xKHn03TDTlnZIthPeVMv+JPLl7d2X9zWSnuhXK/NrkaCE/IU/6Dq2xLmNougkPeYX1HppGoyKD0zvIoOw95PH7M5RL9x0oa+OztCYZOP6oUq5bmDrXexR55fGBRv3IsbhvBI5set6uOlGbmdekMr9AOdY9RJ6EVL+LjeNJI11mefIKRdv7MQ1Q1i+X70KjP1lzH4zflePB2v2tL8sOonTW7qWp9gIMp4mpg+nryDPJS8hgYDzZgvhHsrXzQDK46YpxZ2ehztWWwGpgOjfZmvbVxnz5uxl5qepLTH0Gewx5QjIkowCUL/n1NF1+pW84oBPI1us1mtZfWL7863XBa918UG2MD74dfa24q5BXSraqbDeeDN6+xNT54muUH54pZHDT8QNY0+dnLfKkcxLZ431uMvA/qXx3RpDDy32FPHlYvfLYOcnc68voO7nbtHFQH+g1rPn93ILsrPMV+oYNW5QMvhoj5jQ6JC5DjkHbXOda05Ga3r+Fm9atSl5u3qG6PXl1agrwocrn8BNkY8Pm1feq7vern+/cRuRxfQfg4LJsbjJI+AWwVln2LjK155NlfgOy8eD7dPCErun9mQs4rXx3HiRvqjSmrBtX3pPdmx6zGtlIMrF8L8fX+F58njyReR/ZGfEy8mpi9SR7z1KP8yvLlqvzM9TG+s9B/8HnnOTVh//SNyRnIxZZiDx2TqLvN3hnMhAf8isPZf+/Ja/0TnWsKN+hX5EnodV879q/922pe90FGI4TmVP8avmS/4K+s7KRZKvcVK05vTgxbWels8oPx3b0jQjyE+CG8n/1i3UrmQu3dYfKugQZ0B/Uz7r/DRdUfnSObzpYv6kctMZT422km17vd5GtmDeSwcsr5PB5jR/yRkepzcgUmzvJYQL/VfksNg6+a5Bjnq7Wqbr0U7dRZPrNq2RLejVP/Mfle/SNyrI5yJOBs6ik5JABzBSaLsd3w8S0V3fmJod0nEIGDIuU5fNQgpmm7bchg7U1665L9fNT/l+MDBx/X96TD5TlY8mOiV9n6iG21i/1fnig525+vbqgjmPLd2kSmQ9+L1OfCGxHtvCOr3y3fkq2rjZGSFmojrJXlm1MpgmMI1uiHyf7LSxY1p9f6rhiP499EzWlv1Vez6XLa/rbcszYjWys+nRl2/Fkf5G/0NRXpxs+U236LK5MnpB/lL7U0gXIK0BXN9e1vN9/pS9tbsHm12aIy97oNL5bmX8X+Zv0b/oZHWS4TLUXYDhO5cN/K5VOR03rax0juM113bgckC8iWw4fBL5Q1m1LDjFYvVy6VDnwvUi2Fg/5AZvsVPlv+nK5pgl0yt9Ple02bVr/AbogF778wF9HjgX+ZfKy+xvIoRt/R3YEfVfZdi0yAD+iHHgXKo87iUpeed0TGZQ8T+bjT9OiRwahz5KXO6snPTuQwfjmTdvvWlcQMMBnq9+Ob5XP5eXALU3LVydbln5FDim2Rnl9LqLmfFGyBX3uyvyuZJB2Ufn+nEw2HqxZ1h9JBkDVvModyBPvB4EJ1dem+fWreyKHeduDTLX6OtmQcHT5Lk1o2vZMMrBrdP5bkwy41+pgeZtTrN5NNvAcQ6ZMVHNtGyM4NU6GFiKPywfTN3pTV7wf9AXYu5K/rZ8nW2xPKce9r5C/J9eRN1zrun4wbXgN5iifvRfpG/npWvpuOLc1lTvSVr5TI8mh7p6h6epSh8o9F9lyfR0ZI7zKtGOj92yazoD1rrsAw3UiWxIbvcGH3wcnfzjOJdMmPtuoJzlyxk303W3ptPKl3ou8xPjV8iP1QcoYqh0o6yrlC70f02l9JlNHrqRymaobJvIy2l/IEUym+eGgb2SaB8v8YeWHs9FzfovyIzSFMvxRN0ylXPfQNH422bpxHnli8Fmy1X3Dpm1+W35op/kc0eHLis37I8czruaNf57M6f8Wfbccnoscnu5VShpPJYgYV97Pe8l0pfOpMQWE7Mh2FdlyeCJ5ordQ+b7vUdlu5/IZu6rMz18e8xCZ9nEsmZ/8cfIqxaV0SX41/Xf225+8YnAfpY9GWX4emfK3ZmXZquRViDPpG26wU7f/Hk0lD5psndypHC/OIE9kplC5GQ/ZL+F6spPp8mXZEWW7aW6C1g0TGSieSo6tvTLZgv2NMn8jsNFg72cvT+SVyD8y9bCpt5KxxthyPPkBcG9lfeN4sgSls2pNZd+wHMcuo5LXT41Xg4e8znUXYLhO5YB1Q93laEM9phqvurJ8DJkf+2+mvjw6juyw+EP6Ui5+SAZQk8jOJh3PXyYDlf8NLce0wdBxZOvU+mRLXNf1TCZblK6lb2ilqTp9kpdJXyg/qvuQnTGXIYOgb5KB3D50QSt80+frZLLFb5ESJFxBBtMHVj5D/yBP5qqdMtcmO6jW2imRqVsK30MGY0+Ql7HXLD+I95JpII30nEbqTuNSd/UGGI0Wp3nIoTuXq7FuK5T35rHy2dmWqe/8uBkZQK9ItsI/Xr5Lr9DXorY4eXL9q/IdbOSXX0yOvFNrjiXTDl9Z/U4tRZ7YTG767G1FdtQ6pum5jiZbUOfrVJ3K9+ZG4HuVz+A15IlLYxzhNchL82cz9YhIHyufz89Ulu1T13sxvfep/N2cTEE6ubKup3N26RuicZq8avr6Jh0PfLf8v1153/5O5UZs5FWvyZTceLrkBKO8JytU5ts6YEE3TrUXYLhOZAvtAb34Ra/UoXpJe4HyQ1vttPgxMpBoHij+i+VA/tEyPw/ZUau2WxaTLaGvki26jRv1NA7Wq5IBzi51v+bTqcNCZGvteZUD7v8+X2RP8L+RwepYsrXw72SL9Z+pcSzd6dSrMWTTneRNLL5H30lQo57bkgHbe7vx+0Rfys6zlLSosvxIsmWt8Vlbpbwft1PSw8hA7Qn6evQPeLOMDtdpfjJH93yaAvyyrnH74nnJQO4cMhidgwzI72aAq1NkfvytwMc7XKfmk+pqIL1G+e58nQzgGnde3bl8fyY0PfaEUs93VJbVcpWSPPG+AViPvMvin8mx3qspPF8iTwh2a3rs1eTl+rF1f+ZmoL5HkCcU2zYt77mrxOV9uYzKTYTou3tktQP6z8ih6n5MXg0+nL6O7PPTd5XyePJkvuvHiB/OU+0FGK4TXXLG2Ka6HEEG0beTrVONnMK5ySHRLmo6MCxbDgQ30kXpFWSL2n9Lmd9B5qgdSba2nUmNl81moA6NziG79/c5I3M8v1P+Xx7YEXhv3eVuoV4Hki3t+1eWNQdC15IBePOoFLVeWmTqlJ3GXQcbJzxb0HeznuPIk4efkkH4kWWbhcoP4hS6KFeUzG/9V/mRrwahB5Hj9P+B7Oi2aalP9bbSt5b6fKvyuHnI1u/vkXmjp9YRAJCpBTs1letE8ircj8lg83rgqMr23yVPntatPO5NZH+TU6j5hKh8hq6g3H2wfJ+eZOr+LouRVwt+xtTj3q9DjR2aZ7Ceje/VG8vx4H8dSHt1Aj5C/rY2+iodRl6BfKh8FhspYzuRv18XU7lbaTn+HEjpHEgP/I7NDtMc2JCIiCl1l2FGKc1RmX+9pCvJS1CfIYdpehr4qqT1IuI/5OgAY8mcTAAi4p/kmfh1ZGtjV4iIL5AdAVcgU1WOJVtEd4uIT0TE83WWr0W/IHNWd5G0VERMkTQCQNIW5HtxC0BEPBARP4+Ii+oq7Aw4jTwxGCdpLoAovxSS9pB0JHlCtHtEPFN9YES82unCNu3/GXK0k/vJ3EIiIiTtTQ4NNpn8rG1M/gDuRHbo21PSChHxbHn8MZSvYedr0a/1gH9GxLWV9+JEsk5nkp2nPkgGpfMDK0uaB9iFbCHdlnxfAYiIV8igYU4yN3bvcgzptB2ACyStVeZ3Ie/UulFEfJhstX4K+KSkjSLiZbJvyWtk50YAIuJush/HARHx3w6WfxrlM3QGsJqk95EjN/0R+LCkkWWbp8iThxXJ0UIaj/1jRNzV8ULPhPK9UkTcQzbuLNdYVnfZWlEtZ+U49yPy5HwzSfsCK5G/uR8h86g/L2kFMhXmJjIN6GVJ80oaRV4h/xA5eAA98js2/NUd3Xuqf6IpdYVMk1iPHIXidErHLDJ/909kK9UPK9ufSbaabFFZ1rUt9/SNnvGmussyk+V/Cxm8fLWybHEykPkRXdJBbCbqtTPZ4tm4M9/6pZ7PMfVwW13XUkVfys5ZZJrH7eTYwDuX79PD9I3kMoK+W4G37ZbDQ1CnX5BD6S3VVM/G2NvfLN/7D5MpEo3WtkepXK5vPr50sPz9HoPIE4ErgSvK/JKUvFUyqLmTPFH6E6VjZll3GDmk2U5DWe5ZqO9c5Elbdai6PzHt7aR/RFNqSK9NZOf4qYbh65WJvFKwetOyRn3+TiXNkmxQuJ6S20/fSEITyRSR+8n+TJvUXS9PU09uuZ7NVFumG6IoLdcHkvl6q5F5XYcBT0o6jjy7vplsIdmotJBAXhZdCdhO0pzlObu55f6FiHg2suWpF91CptxsIemNkt5e5t9MHoRfrrV0M+8X5KgMH5N0EfmjcltEvC4iTm5sFOVXpptEthyeRbZ6XkK2RK8bET8hT0YXIy/fQt7C+V9kys4PO13WGXAleRxYpbLsOUoLGdk6uhJ5Y5WDyZt7fCEilo6IyxoPaBxfOlPkPpFXdUZLWhagcYWHHCrwYLKlcMeIeDwifiZpJ3Koyp+SaQfnARtK2rk87pfk92xiJ+vRqsjW8+PI/i17kuW/C9hB0vKVTT8eET+ooYjttCuZY37a9DbsJpLmJ9+jH0t6naRfSTo38srBL8g+C9WrOZeSn7nNJG0REXeQJ+9fJK8MfyUi3hgR13W2JjZddUf3njozMW3+6hpURo0gh8b6Ojk8VvPYwR8kg+pG7tfaZCvVJfR1qNieLsoXHe4Tmdd+A3n3z5eAL9ZdpjbVqzFk0+VM3bu864dsoq/l8BqmHlliAbJldwrZEvwKNd7pbgbqsxQZSP4UWLqf9WuRJ0DT3AiiG94v+kbROKvMV0cEmYccnu4mskOmymfupMo2Xyzv2RO9cmwr9TixvC9jgS3JEZp6roV3OvXs2iujLZR9fTKAfpnsr9QYBnGp8r6dw9RXi9Ylg+wf93K9Z7fJLdezAUlzRPmWSnqPpDvIIOBGSZ8vm72O7Ki0CXkpsdrKvTnwn4i4osyvTv4wrUSOwkFEXBwRL3WiPva/vPYLyKBt4Yj4Rs1FapebgI0jYuuIuF/SiJJjWWtedSuir+VwHuDTleXPA18gW6rPAVaOiKNqKeQMiIjHyCtX7wMmSFpY0vySFpH0cTLovps8yWt+bO3vV0Q8TV46f6OkraNcTZP0aTJN5zGykWF/stPiCHIIPSQtQrbYH0Gmv3RTLvyAynH+OHLElkMj4krgg1G58jMcRHdfGf0fSXP087l5J9nv4LmIeG9EPCBpzvJ9O4dMI3t3Y+OIuI38jq1Pdi62HtDoeWvDnKSx5Jnv6uQPxi3kF3g/YMmImCzpKvLmA1tFpdOYpG+RrdWnkiMiHEJewvq/yI4lVoMSdA7bL7CkERHxWt3lmBHlh/SbZF7lfhFxe/nhrD3YnFmSvk5e2VqQDKb/S45Ec3BEnF5n2aZH0kLkSeg/yTSJ48krCYeSx8Mvkp2c1yA7bO9HNi6sTl5l+GQJenpKaTSJiPhm3WWZXZRGrCmV+f997yWNiogXyv/zkePb/568qnJIY9vSyfHnZOfZLzV+XyUtSY689ZcOV8tmkoPr2YCkhclL1YsCK0XEi2X5GuRlqXdHxJ2SNifvwrZDRPyyEbxJWpf8AVqf7Az03Yg4uI66mHW7kuN7AXm3zF3rLs+sKicMS5MtbnOQV7HOqqzv6pOgkjN9NPB68v4Dp5VWbSQtRl6Kv4S8hfbbgW2AmyKim/PhBzXcT7y7laR5yfsoPFTmR5EjBa1K3oPgooi4pOT/7w98DVglIh6UNE9EvCJpezJF87KIOLCWitgsc3A9m5B0MDk01oSIuKosO5oclupbwO0RcYOks8lWt7dGdtJqPH4Eebe5+6vLzWxapeWwMc5zTx9kBwrUeqVFvrQGnkPe/XOHiHi6ekJQOjJeQI64ME2Ki1krSmPV1WSH0V+UDv/fJgcCuIq8Xfuu5M2X7pS0OJnnf29E7FKeY47IjrhnkFeJvtUrKTA2NQfXs4mmy6Pnk3eNW5zMSVyDHGniq2S6x5/JXsgnlce6FcRsBgz370yv1U/SW8iRQC6OiCOa1o0EPgecGRFP1lE+6y3NKSBl2WeAD0XEhuVq8XjgoYj4dlm/GXknzAuBPSPiGUnvIkehOYC8g/DHyP4at/TCiasNzMH1bKSfy6OnNnKrJV1N9prfhux8NZ68i9c/6ymtmVl7DMdceKuXpNHknTn/WeZ/DfylkTIpaWsyHXNx8g6f65OdgPcGPhER3y/bHUYODLAQeWW5Z9ORrI+D69nIAJdH54uIFyUdQd6FcWXy1sR7RcQJNRbXzKxthlsuvNWnjCZzMXBPRHysjCN+J/DOiPhdZbu5yavB/wa+HBH/kPQ7ckShj0TEP8p2YyNiYqfrYUPHQ/HNRpqGCvtMWfaipNeRo4GcDzwbEf92YG1mw0lpYbwQ+EMvDKtn3atpmMeNyLvmPsG0w1JuSfZV+kYJrJckW6g3AD6pvpuuTexQ0a1D3HI9m6lcHl2LvDy1LHmXq2fJW+LeWVvhzMyGUK/lilv3Kv2YzieD6pHAXyPi0KZtNiRHo9mCHMP/w8AKwO3A3yPijx0ssnWQg+vZULk8+hMy/zDIPK9j6i2VmZlZ75C0CzmE46rAU+QIH1cAvyKD55ckfQf4EJkaMpLMt76onhJbpzi4nk1J+iyZe314RLxcd3nMzMx6SenH9GOyNfqn9N1yflngaeAPwB3APeRNfc6vp6TWaQ6uZ1O+PGpmZjZrJK1P3ivigsYdMUsHx3cAm5O3Ot+jceMimz04uDYzMzObCU3DPO7vPGoDjxZiZmZmNlPKFeDjgBHkPSL+x6PSzL7mrLsAZmZmZr0qIv4p6UJgSjXl0qmXsy+nhZiZmZnNAvdjsioH12ZmZmZmbeKcazMzMzOzNnFwbWZmZmbWJg6uzczMzMzaxMG1mZmZmVmbOLg2MzMzM2sTB9dmZl1O0gRJUZkelXShpDfUVJ6Q9Jk69m1m1u18Exkzs97wL2Db8v8KwBHAVZJWi4h/11csMzOrcnBtZtYbXo2Im8r/N0l6CPg98A7gp/UVy8zMqpwWYmbWm24rf8dKGinpWEkPS3pF0p8lvaO6saQRJb3kobLNXZJ2bdrmbEm3SnqvpHskvSzpOklvml5hJL2nPPZlSY+X8szVxvqamfUEB9dmZr1pbPn7OPAzYHfgKOBdwC3AryStVdn+cOBg4HTg3cD1wDmSPtj0vMsBJ5BpJ7sCCwK/lTRyoIJI2hn4OfCH8tyHAXsCX5/ZypmZ9SqnhZiZ9QhJjWP2CsApwPPAFGB7YLOIuKasv1zSymQwvZOkRYD9gSMj4siyzW8lLQtMAM6r7GYx4D0RcUPZ523AP8jg/dR+yiTgG8API2KfyvJXgJMlfT0iJs9i1c3MeoZbrs3MesOiwH/LdC8ZYH8AeDPZen29pDkbE3AVMK489s3AfEybm30BsLKkxSvLnmgE1gAR8SCZgvKWAcq1MjAG+EnT/v8PGFn2bWY223DLtZlZb/gXsCUQZDD9aESEpB2BJcmgu9lr5e9S5e+kpvWN+UWAJ8v/T/TzPE9UnqPZYuXvJQOsf/0Ay83MhiUH12ZmveHViLi1n+VPA48A7x3ksY+Vv0sA1RSN0ZXnoLJNsyWAuwZ47sZj9wT+1M/6BwYpl5nZsOPg2syst10FHAC8EBH3DLDNncCLwE5kx8aGnYH7IuLJyrIlJG1UybkeA6wDfH+A576XDO7HRsQZM18NM7PhwcG1mVlvuwL4LXCFpGPIFubXAWsBIyPiyxHxtKQTgUMkvQrcCuxIjpHdPFrIU8CPJR0CvESO/PEEcHZ/O4+IKZIOAH4k6XXApcB/yJzw9wLvj4gX21ZbM7Mu5+DazKyHVfKux5MjgowhUzVuB75d2fSrwKvAp8h0kL8DH46I85ue8kFySL+jyWH5bgV2jYiXBynDBZKeK2XYg8z1vh/4DRlom5nNNhQRdZfBzMy6gKSzgTdHxLjpbWtmZv3zUHxmZmZmZm3i4NrMzMzMrE2cFmJmZmZm1iZuuTYzMzMzaxMH12ZmZmZmbeLg2szMzMysTRxcm5mZmZm1iYNrMzMzM7M2+X/GiXP5l+cYxQAAAABJRU5ErkJggg==\\n\",","            \"text/plain\": [","              \"\u003cFigure size 864x288 with 1 Axes\u003e\"","            ]","          },","          \"metadata\": {","            \"needs_background\": \"light\"","          },","          \"output_type\": \"display_data\"","        }","      ],","      \"source\": [","        \"plt.figure(figsize=(12,4))\\n\",","        \"plt.title(\\\"People's weight in kgs\\\",fontsize=16,\\n\",","        \"          fontstyle='italic')\\n\",","        \"\\n\",","        \"# Main plot function 'bar'\\n\",","        \"plt.bar(x=people,height=weight, width=0.6,\\n\",","        \"        color='orange',edgecolor='k',alpha=0.6)\\n\",","        \"\\n\",","        \"plt.xlabel(\\\"People\\\",fontsize=15)\\n\",","        \"plt.xticks(fontsize=14,rotation=30)\\n\",","        \"plt.yticks(fontsize=14)\\n\",","        \"plt.ylabel(\\\"Weight (in kgs)\\\",fontsize=15)\\n\",","        \"plt.show()\"","      ]","    },","    {","      \"cell_type\": \"markdown\",","      \"id\": \"3495be05\",","      \"metadata\": {","        \"id\": \"3495be05\"","      },","      \"source\": [","        \"### Generate Histogram\"","      ]","    },","    {","      \"cell_type\": \"code\",","      \"execution_count\": null,","      \"id\": \"cae1cb88\",","      \"metadata\": {","        \"id\": \"cae1cb88\",","        \"outputId\": \"a798960f-9fd7-4da4-9fea-fbee91294034\"","      },","      \"outputs\": [","        {","          \"data\": {","            \"image/png\": \"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\\n\",","            \"text/plain\": [","              \"\u003cFigure size 504x360 with 1 Axes\u003e\"","            ]","          },","          \"metadata\": {","            \"needs_background\": \"light\"","          },","          \"output_type\": \"display_data\"","        }","      ],","      \"source\": [","        \"import numpy as np\\n\",","        \"plt.figure(figsize=(7,5))\\n\",","        \"\\n\",","        \"# Main plot function 'hist'\\n\",","        \"plt.hist(weight,color='red',edgecolor='k', alpha=0.75,bins=5)\\n\",","        \"\\n\",","        \"plt.title(\\\"Histogram of patient weight\\\",fontsize=18)\\n\",","        \"plt.xlabel(\\\"Weight in kgs\\\",fontsize=15)\\n\",","        \"plt.xticks(fontsize=15)\\n\",","        \"plt.yticks(fontsize=15)\\n\",","        \"plt.show()\"","      ]","    },","    {","      \"cell_type\": \"markdown\",","      \"id\": \"d72cfb41\",","      \"metadata\": {","        \"id\": \"d72cfb41\"","      },","      \"source\": [","        \"### Part-03: Access Data from various sources and formats\"","      ]","    },","    {","      \"cell_type\": \"code\",","      \"execution_count\": null,","      \"id\": \"9985c098\",","      \"metadata\": {","        \"id\": \"9985c098\"","      },","      \"outputs\": [],","      \"source\": [","        \"import numpy as np\\n\",","        \"import pandas as pd\"","      ]","    },","    {","      \"cell_type\": \"code\",","      \"execution_count\": null,","      \"id\": \"c4b282d0\",","      \"metadata\": {","        \"scrolled\": true,","        \"id\": \"c4b282d0\"","      },","      \"outputs\": [],","      \"source\": [","        \"df1 = pd.read_table(\\\"Lab01-Text.txt\\\")\"","      ]","    },","    {","      \"cell_type\": \"code\",","      \"execution_count\": null,","      \"id\": \"a6d4a7b4\",","      \"metadata\": {","        \"id\": \"a6d4a7b4\"","      },","      \"outputs\": [],","      \"source\": [","        \"df1\"","      ]","    },","    {","      \"cell_type\": \"code\",","      \"execution_count\": null,","      \"id\": \"e8d9521b\",","      \"metadata\": {","        \"id\": \"e8d9521b\"","      },","      \"outputs\": [],","      \"source\": [","        \"data2 = pd.read_csv(\\\"Lab01-Text.csv\\\")\"","      ]","    },","    {","      \"cell_type\": \"code\",","      \"execution_count\": null,","      \"id\": \"212f008e\",","      \"metadata\": {","        \"id\": \"212f008e\"","      },","      \"outputs\": [],","      \"source\": [","        \"data2\"","      ]","    },","    {","      \"cell_type\": \"code\",","      \"execution_count\": null,","      \"id\": \"1df68dba\",","      \"metadata\": {","        \"id\": \"1df68dba\"","      },","      \"outputs\": [],","      \"source\": [","        \"data3 = pd.read_excel(\\\"Height_weight.xlsx\\\")\"","      ]","    },","    {","      \"cell_type\": \"code\",","      \"execution_count\": null,","      \"id\": \"8660c8e4\",","      \"metadata\": {","        \"id\": \"8660c8e4\"","      },","      \"outputs\": [],","      \"source\": [","        \"data3\"","      ]","    }","  ],","  \"metadata\": {","    \"kernelspec\": {","      \"display_name\": \"Python 3 (ipykernel)\",","      \"language\": \"python\",","      \"name\": \"python3\"","    },","    \"language_info\": {","      \"codemirror_mode\": {","        \"name\": \"ipython\",","        \"version\": 3","      },","      \"file_extension\": \".py\",","      \"mimetype\": \"text/x-python\",","      \"name\": \"python\",","      \"nbconvert_exporter\": \"python\",","      \"pygments_lexer\": \"ipython3\",","      \"version\": \"3.9.15\"","    },","    \"colab\": {","      \"provenance\": [],","      \"include_colab_link\": true","    }","  },","  \"nbformat\": 4,","  \"nbformat_minor\": 5","}"],"stylingDirectives":null,"colorizedLines":null,"csv":null,"csvError":null,"dependabotInfo":{"showConfigurationBanner":false,"configFilePath":null,"networkDependabotPath":"/arshiyaarshh07/AIML_11_2024/network/updates","dismissConfigurationNoticePath":"/settings/dismiss-notice/dependabot_configuration_notice","configurationNoticeDismissed":false},"displayName":"AIML_Lab01.ipynb","displayUrl":"https://notebooks.githubusercontent.com/view/ipynb?browser=edge\u0026bypass_fastly=true\u0026color_mode=auto\u0026commit=61824fbe7ab5fc999dc086be43f872257d518c7a\u0026device=unknown_device\u0026docs_host=https%3A%2F%2Fdocs.github.com\u0026enc_url=68747470733a2f2f7261772e67697468756275736572636f6e74656e742e636f6d2f61727368697961617273686830372f41494d4c5f31315f323032342f363138323466626537616235666339393964633038366265343366383732323537643531386337612f41494d4c5f4c616230312e6970796e62\u0026logged_in=true\u0026nwo=arshiyaarshh07%2FAIML_11_2024\u0026path=AIML_Lab01.ipynb\u0026platform=windows\u0026repository_id=756769206\u0026repository_type=Repository\u0026version=128","headerInfo":{"blobSize":"65.3 KB","deleteTooltip":"Fork this repository and delete the file","editTooltip":"Fork this repository and edit the file","ghDesktopPath":"https://desktop.github.com","isGitLfs":false,"onBranch":true,"shortPath":"4922124","siteNavLoginPath":"/login?return_to=https%3A%2F%2Fgithub.com%2Farshiyaarshh07%2FAIML_11_2024%2Fblob%2Fmain%2FAIML_Lab01.ipynb","isCSV":false,"isRichtext":false,"toc":null,"lineInfo":{"truncatedLoc":"454","truncatedSloc":"454"},"mode":"file"},"image":false,"isCodeownersFile":null,"isPlain":false,"isValidLegacyIssueTemplate":false,"issueTemplate":null,"discussionTemplate":null,"language":"Jupyter Notebook","languageID":185,"large":false,"planSupportInfo":{"repoIsFork":null,"repoOwnedByCurrentUser":null,"requestFullPath":"/arshiyaarshh07/AIML_11_2024/blob/main/AIML_Lab01.ipynb","showFreeOrgGatedFeatureMessage":null,"showPlanSupportBanner":null,"upgradeDataAttributes":null,"upgradePath":null},"publishBannersInfo":{"dismissActionNoticePath":"/settings/dismiss-notice/publish_action_from_dockerfile","releasePath":"/arshiyaarshh07/AIML_11_2024/releases/new?marketplace=true","showPublishActionBanner":false},"rawBlobUrl":"https://github.com/arshiyaarshh07/AIML_11_2024/raw/main/AIML_Lab01.ipynb","renderImageOrRaw":false,"richText":null,"renderedFileInfo":{"identityUUID":"01c9a1c8-6b2e-48b1-91c7-18d834338832","renderFileType":"ipynb","size":66900},"shortPath":null,"symbolsEnabled":true,"tabSize":8,"topBannersInfo":{"overridingGlobalFundingFile":false,"globalPreferredFundingPath":null,"showInvalidCitationWarning":false,"citationHelpUrl":"https://docs.github.com/github/creating-cloning-and-archiving-repositories/creating-a-repository-on-github/about-citation-files","actionsOnboardingTip":null},"truncated":false,"viewable":true,"workflowRedirectUrl":null,"symbols":{"timed_out":false,"not_analyzed":true,"symbols":[]}},"copilotInfo":{"documentationUrl":"https://docs.github.com/copilot/overview-of-github-copilot/about-github-copilot-for-individuals","notices":{"codeViewPopover":{"dismissed":false,"dismissPath":"/settings/dismiss-notice/code_view_copilot_popover"}},"userAccess":{"hasSubscriptionEnded":false,"orgHasCFBAccess":false,"userHasCFIAccess":false,"userHasOrgs":false,"userIsOrgAdmin":false,"userIsOrgMember":false,"business":null,"featureRequestInfo":null}},"copilotAccessAllowed":false,"csrf_tokens":{"/arshiyaarshh07/AIML_11_2024/branches":{"post":"NdDwr_6n4_YZrsHoQybeuvbDm_z8BcCW9IcZbxs7vF2ch5iYhACy5ruqZWeRlgeyqJ0nVUzWVO6ZInZClnuEAQ"},"/repos/preferences":{"post":"t_0h4-qaDCtbLY-WCo-iBhRV4SFY4Vjee1pVOtxJ8QzQ90_F5EB8HUXJHe4BJWSXVyK9xBTcNN5rkJjjG7BcbA"}}},"title":"AIML_11_2024/AIML_Lab01.ipynb at main · arshiyaarshh07/AIML_11_2024","appPayload":{"helpUrl":"https://docs.github.com","findFileWorkerPath":"/assets-cdn/worker/find-file-worker-1583894afd38.js","findInFileWorkerPath":"/assets-cdn/worker/find-in-file-worker-03b87d52cf57.js","githubDevUrl":"https://github.dev/","enabled_features":{"code_nav_ui_events":false,"overview_shared_code_dropdown_button":false,"react_blob_overlay":true,"copilot_conversational_ux_embedding_update":false,"copilot_smell_icebreaker_ux":true,"copilot_workspace":false}}}</script>
  <div data-target="react-app.reactRoot"><meta data-hydrostats="publish"> <!-- --> <!-- --> <button hidden="" data-testid="header-permalink-button" data-hotkey-scope="read-only-cursor-text-area" data-hotkey="y,Shift+Y"></button><button hidden="" data-hotkey="y,Shift+Y"></button><div><div style="--sticky-pane-height: calc(100vh - (max(104px, 0px)));" class="Box-sc-g0xbh4-0 fSWWem"><div class="Box-sc-g0xbh4-0 kPPmzM"><div class="Box-sc-g0xbh4-0 cIAPDV"><div tabindex="0" class="Box-sc-g0xbh4-0 gvCnwW"><div class="Box-sc-g0xbh4-0 hgUFaY"><div class="Box-sc-g0xbh4-0 eUyHuk"></div><div style="--pane-width:320px" class="Box-sc-g0xbh4-0 gNdDUH"><div><div id="repos-file-tree" class="Box-sc-g0xbh4-0 jyDQiw"><div class="Box-sc-g0xbh4-0 hBSSUC"><div class="Box-sc-g0xbh4-0 iPurHz"><h2 class="Heading__StyledHeading-sc-1c1dgg0-0 jUaXMC"><span role="tooltip" aria-label="Collapse file tree" id="expand-button-file-tree-button" class="Tooltip__TooltipBase-sc-17tf59c-0 gNgnVl tooltipped-se"><button data-component="IconButton" type="button" data-testid="collapse-file-tree-button" aria-expanded="true" aria-controls="repos-file-tree" class="types__StyledButton-sc-ws60qy-0 gEvYuN" data-loading="false" data-no-visuals="true" aria-describedby=":R356mplab:-loading-announcement" aria-labelledby="expand-button-file-tree-button" data-hotkey="Control+b"><svg aria-hidden="true" focusable="false" role="img" class="octicon octicon-sidebar-expand" viewBox="0 0 16 16" width="16" height="16" fill="currentColor" style="display:inline-block;user-select:none;vertical-align:text-bottom;overflow:visible"><path d="m4.177 7.823 2.396-2.396A.25.25 0 0 1 7 5.604v4.792a.25.25 0 0 1-.427.177L4.177 8.177a.25.25 0 0 1 0-.354Z"></path><path d="M0 1.75C0 .784.784 0 1.75 0h12.5C15.216 0 16 .784 16 1.75v12.5A1.75 1.75 0 0 1 14.25 16H1.75A1.75 1.75 0 0 1 0 14.25Zm1.75-.25a.25.25 0 0 0-.25.25v12.5c0 .138.112.25.25.25H9.5v-13Zm12.5 13a.25.25 0 0 0 .25-.25V1.75a.25.25 0 0 0-.25-.25H11v13Z"></path></svg></button></span><button hidden="" data-testid="" data-hotkey-scope="read-only-cursor-text-area" data-hotkey="Control+b"></button></h2><h2 class="Heading__StyledHeading-sc-1c1dgg0-0 fReAGt">Files</h2></div><div class="Box-sc-g0xbh4-0 hVHHYa"><div class="Box-sc-g0xbh4-0 idZfsJ"><button type="button" aria-haspopup="true" aria-expanded="false" tabindex="0" aria-label="main branch" data-testid="anchor-button" class="types__StyledButton-sc-ws60qy-0 jwBfae react-repos-tree-pane-ref-selector width-full ref-selector-class" data-loading="false" aria-describedby="branch-picker-repos-header-ref-selector-loading-announcement" id="branch-picker-repos-header-ref-selector" data-hotkey="w"><span data-component="buttonContent" class="Box-sc-g0xbh4-0 kkrdEu"><span data-component="text"><div class="Box-sc-g0xbh4-0 bKgizp"><div class="Box-sc-g0xbh4-0 iPGYsi"><svg aria-hidden="true" focusable="false" role="img" class="octicon octicon-git-branch" viewBox="0 0 16 16" width="16" height="16" fill="currentColor" style="display:inline-block;user-select:none;vertical-align:text-bottom;overflow:visible"><path d="M9.5 3.25a2.25 2.25 0 1 1 3 2.122V6A2.5 2.5 0 0 1 10 8.5H6a1 1 0 0 0-1 1v1.128a2.251 2.251 0 1 1-1.5 0V5.372a2.25 2.25 0 1 1 1.5 0v1.836A2.493 2.493 0 0 1 6 7h4a1 1 0 0 0 1-1v-.628A2.25 2.25 0 0 1 9.5 3.25Zm-6 0a.75.75 0 1 0 1.5 0 .75.75 0 0 0-1.5 0Zm8.25-.75a.75.75 0 1 0 0 1.5.75.75 0 0 0 0-1.5ZM4.25 12a.75.75 0 1 0 0 1.5.75.75 0 0 0 0-1.5Z"></path></svg></div><div class="Box-sc-g0xbh4-0 caeYDk ref-selector-button-text-container"><span class="Text-sc-17v1xeu-0 bOMzPg">&nbsp;<!-- -->main</span></div></div></span><span data-component="trailingVisual" class="Box-sc-g0xbh4-0 trpoQ"><svg aria-hidden="true" focusable="false" role="img" class="octicon octicon-triangle-down" viewBox="0 0 16 16" width="16" height="16" fill="currentColor" style="display:inline-block;user-select:none;vertical-align:text-bottom;overflow:visible"><path d="m4.427 7.427 3.396 3.396a.25.25 0 0 0 .354 0l3.396-3.396A.25.25 0 0 0 11.396 7H4.604a.25.25 0 0 0-.177.427Z"></path></svg></span></span></button><button hidden="" data-hotkey-scope="read-only-cursor-text-area" data-hotkey="w"></button></div><div class="Box-sc-g0xbh4-0 jahcnb"><span role="tooltip" aria-label="Add file" id=":Rq6mplab:" class="Tooltip__TooltipBase-sc-17tf59c-0 gNgnVl tooltipped-s"><a sx="[object Object]" data-component="IconButton" type="button" aria-label="Add file" data-loading="false" data-no-visuals="true" aria-describedby=":R2q6mplab:-loading-announcement" class="types__StyledButton-sc-ws60qy-0 YkvTm" href="https://github.com/arshiyaarshh07/AIML_11_2024/new/main"><svg aria-hidden="true" focusable="false" role="img" class="octicon octicon-plus" viewBox="0 0 16 16" width="16" height="16" fill="currentColor" style="display:inline-block;user-select:none;vertical-align:text-bottom;overflow:visible"><path d="M7.75 2a.75.75 0 0 1 .75.75V7h4.25a.75.75 0 0 1 0 1.5H8.5v4.25a.75.75 0 0 1-1.5 0V8.5H2.75a.75.75 0 0 1 0-1.5H7V2.75A.75.75 0 0 1 7.75 2Z"></path></svg></a></span><button data-component="IconButton" type="button" aria-label="Search this repository" data-loading="false" data-no-visuals="true" aria-describedby=":R3a6mplab:-loading-announcement" class="types__StyledButton-sc-ws60qy-0 klDWQA" data-hotkey="/"><svg aria-hidden="true" focusable="false" role="img" class="octicon octicon-search" viewBox="0 0 16 16" width="16" height="16" fill="currentColor" style="display:inline-block;user-select:none;vertical-align:text-bottom;overflow:visible"><path d="M10.68 11.74a6 6 0 0 1-7.922-8.982 6 6 0 0 1 8.982 7.922l3.04 3.04a.749.749 0 0 1-.326 1.275.749.749 0 0 1-.734-.215ZM11.5 7a4.499 4.499 0 1 0-8.997 0A4.499 4.499 0 0 0 11.5 7Z"></path></svg></button><button hidden="" data-testid="" data-hotkey-scope="read-only-cursor-text-area" data-hotkey="/"></button></div></div></div><div class="Box-sc-g0xbh4-0 jRttMj"><span class="TextInputWrapper__TextInputBaseWrapper-sc-1mqhpbi-0 TextInputWrapper-sc-1mqhpbi-1 cXNreu jbzqwE TextInput-wrapper" aria-busy="false"><span class="TextInput-icon"><svg aria-hidden="true" focusable="false" role="img" class="octicon octicon-search" viewBox="0 0 16 16" width="16" height="16" fill="currentColor" style="display:inline-block;user-select:none;vertical-align:text-bottom;overflow:visible"><path d="M10.68 11.74a6 6 0 0 1-7.922-8.982 6 6 0 0 1 8.982 7.922l3.04 3.04a.749.749 0 0 1-.326 1.275.749.749 0 0 1-.734-.215ZM11.5 7a4.499 4.499 0 1 0-8.997 0A4.499 4.499 0 0 0 11.5 7Z"></path></svg></span><input type="text" aria-label="Go to file" role="combobox" aria-controls="file-results-list" aria-expanded="false" aria-haspopup="dialog" autocorrect="off" spellcheck="false" placeholder="Go to file" data-component="input" class="UnstyledTextInput-sc-14ypya-0 cDLBls" value=""><span class="TextInput-icon"><div class="Box-sc-g0xbh4-0 cNvKlH"><kbd>t</kbd></div></span></span></div><button hidden="" data-testid="" data-hotkey-scope="read-only-cursor-text-area" data-hotkey="t,Shift+T"></button><button hidden="" data-hotkey="t,Shift+T"></button><div class="Box-sc-g0xbh4-0 bYLCoz"><div><div class="react-tree-show-tree-items"><div data-testid="repos-file-tree-container" class="Box-sc-g0xbh4-0 erWCJP"><nav aria-label="File Tree Navigation"><span role="status" aria-live="polite" aria-atomic="true" class="_VisuallyHidden__VisuallyHidden-sc-11jhm7a-0 rTZSs"></span><ul role="tree" aria-label="Files" class="TreeView__UlBox-sc-4ex6b6-0 dgvcvm"><li class="PRIVATE_TreeView-item" tabindex="0" id="AIML_Lab01.ipynb-item" role="treeitem" aria-labelledby=":rq:" aria-describedby=":rr: :rs:" aria-level="1" aria-selected="true" aria-current="true"><div class="PRIVATE_TreeView-item-container" style="--level: 1;"><div style="grid-area: spacer; display: flex;"><div style="width: 100%; display: flex;"></div></div><div id=":rq:" class="PRIVATE_TreeView-item-content"><div class="PRIVATE_VisuallyHidden" aria-hidden="true" id=":rr:"></div><div class="PRIVATE_TreeView-item-visual" aria-hidden="true"><svg aria-hidden="true" focusable="false" role="img" class="octicon octicon-file" viewBox="0 0 16 16" width="16" height="16" fill="currentColor" style="display: inline-block; user-select: none; vertical-align: text-bottom; overflow: visible;"><path d="M2 1.75C2 .784 2.784 0 3.75 0h6.586c.464 0 .909.184 1.237.513l2.914 2.914c.329.328.513.773.513 1.237v9.586A1.75 1.75 0 0 1 13.25 16h-9.5A1.75 1.75 0 0 1 2 14.25Zm1.75-.25a.25.25 0 0 0-.25.25v12.5c0 .138.112.25.25.25h9.5a.25.25 0 0 0 .25-.25V6h-2.75A1.75 1.75 0 0 1 9 4.25V1.5Zm6.75.062V4.25c0 .138.112.25.25.25h2.688l-.011-.013-2.914-2.914-.013-.011Z"></path></svg></div><span class="PRIVATE_TreeView-item-content-text"><span>AIML_Lab01.ipynb</span></span></div></div></li><li class="PRIVATE_TreeView-item" tabindex="-1" id="AIML_Lab02.ipynb-item" role="treeitem" aria-labelledby=":rt:" aria-describedby=":ru: :rv:" aria-level="1" aria-selected="false"><div class="PRIVATE_TreeView-item-container" style="--level: 1; content-visibility: auto; contain-intrinsic-size: auto 2rem;"><div style="grid-area: spacer; display: flex;"><div style="width: 100%; display: flex;"></div></div><div id=":rt:" class="PRIVATE_TreeView-item-content"><div class="PRIVATE_VisuallyHidden" aria-hidden="true" id=":ru:"></div><div class="PRIVATE_TreeView-item-visual" aria-hidden="true"><svg aria-hidden="true" focusable="false" role="img" class="octicon octicon-file" viewBox="0 0 16 16" width="16" height="16" fill="currentColor" style="display: inline-block; user-select: none; vertical-align: text-bottom; overflow: visible;"><path d="M2 1.75C2 .784 2.784 0 3.75 0h6.586c.464 0 .909.184 1.237.513l2.914 2.914c.329.328.513.773.513 1.237v9.586A1.75 1.75 0 0 1 13.25 16h-9.5A1.75 1.75 0 0 1 2 14.25Zm1.75-.25a.25.25 0 0 0-.25.25v12.5c0 .138.112.25.25.25h9.5a.25.25 0 0 0 .25-.25V6h-2.75A1.75 1.75 0 0 1 9 4.25V1.5Zm6.75.062V4.25c0 .138.112.25.25.25h2.688l-.011-.013-2.914-2.914-.013-.011Z"></path></svg></div><span class="PRIVATE_TreeView-item-content-text"><span>AIML_Lab02.ipynb</span></span></div></div></li><li class="PRIVATE_TreeView-item" tabindex="-1" id="AIML_Lab03.ipynb-item" role="treeitem" aria-labelledby=":r10:" aria-describedby=":r11: :r12:" aria-level="1" aria-selected="false"><div class="PRIVATE_TreeView-item-container" style="--level: 1; content-visibility: auto; contain-intrinsic-size: auto 2rem;"><div style="grid-area: spacer; display: flex;"><div style="width: 100%; display: flex;"></div></div><div id=":r10:" class="PRIVATE_TreeView-item-content"><div class="PRIVATE_VisuallyHidden" aria-hidden="true" id=":r11:"></div><div class="PRIVATE_TreeView-item-visual" aria-hidden="true"><svg aria-hidden="true" focusable="false" role="img" class="octicon octicon-file" viewBox="0 0 16 16" width="16" height="16" fill="currentColor" style="display: inline-block; user-select: none; vertical-align: text-bottom; overflow: visible;"><path d="M2 1.75C2 .784 2.784 0 3.75 0h6.586c.464 0 .909.184 1.237.513l2.914 2.914c.329.328.513.773.513 1.237v9.586A1.75 1.75 0 0 1 13.25 16h-9.5A1.75 1.75 0 0 1 2 14.25Zm1.75-.25a.25.25 0 0 0-.25.25v12.5c0 .138.112.25.25.25h9.5a.25.25 0 0 0 .25-.25V6h-2.75A1.75 1.75 0 0 1 9 4.25V1.5Zm6.75.062V4.25c0 .138.112.25.25.25h2.688l-.011-.013-2.914-2.914-.013-.011Z"></path></svg></div><span class="PRIVATE_TreeView-item-content-text"><span>AIML_Lab03.ipynb</span></span></div></div></li><li class="PRIVATE_TreeView-item" tabindex="-1" id="AIML_Lab04.ipynb-item" role="treeitem" aria-labelledby=":r13:" aria-describedby=":r14: :r15:" aria-level="1" aria-selected="false"><div class="PRIVATE_TreeView-item-container" style="--level: 1; content-visibility: auto; contain-intrinsic-size: auto 2rem;"><div style="grid-area: spacer; display: flex;"><div style="width: 100%; display: flex;"></div></div><div id=":r13:" class="PRIVATE_TreeView-item-content"><div class="PRIVATE_VisuallyHidden" aria-hidden="true" id=":r14:"></div><div class="PRIVATE_TreeView-item-visual" aria-hidden="true"><svg aria-hidden="true" focusable="false" role="img" class="octicon octicon-file" viewBox="0 0 16 16" width="16" height="16" fill="currentColor" style="display: inline-block; user-select: none; vertical-align: text-bottom; overflow: visible;"><path d="M2 1.75C2 .784 2.784 0 3.75 0h6.586c.464 0 .909.184 1.237.513l2.914 2.914c.329.328.513.773.513 1.237v9.586A1.75 1.75 0 0 1 13.25 16h-9.5A1.75 1.75 0 0 1 2 14.25Zm1.75-.25a.25.25 0 0 0-.25.25v12.5c0 .138.112.25.25.25h9.5a.25.25 0 0 0 .25-.25V6h-2.75A1.75 1.75 0 0 1 9 4.25V1.5Zm6.75.062V4.25c0 .138.112.25.25.25h2.688l-.011-.013-2.914-2.914-.013-.011Z"></path></svg></div><span class="PRIVATE_TreeView-item-content-text"><span>AIML_Lab04.ipynb</span></span></div></div></li><li class="PRIVATE_TreeView-item" tabindex="-1" id="AIML_Lab05.ipynb-item" role="treeitem" aria-labelledby=":r16:" aria-describedby=":r17: :r18:" aria-level="1" aria-selected="false"><div class="PRIVATE_TreeView-item-container" style="--level: 1; content-visibility: auto; contain-intrinsic-size: auto 2rem;"><div style="grid-area: spacer; display: flex;"><div style="width: 100%; display: flex;"></div></div><div id=":r16:" class="PRIVATE_TreeView-item-content"><div class="PRIVATE_VisuallyHidden" aria-hidden="true" id=":r17:"></div><div class="PRIVATE_TreeView-item-visual" aria-hidden="true"><svg aria-hidden="true" focusable="false" role="img" class="octicon octicon-file" viewBox="0 0 16 16" width="16" height="16" fill="currentColor" style="display: inline-block; user-select: none; vertical-align: text-bottom; overflow: visible;"><path d="M2 1.75C2 .784 2.784 0 3.75 0h6.586c.464 0 .909.184 1.237.513l2.914 2.914c.329.328.513.773.513 1.237v9.586A1.75 1.75 0 0 1 13.25 16h-9.5A1.75 1.75 0 0 1 2 14.25Zm1.75-.25a.25.25 0 0 0-.25.25v12.5c0 .138.112.25.25.25h9.5a.25.25 0 0 0 .25-.25V6h-2.75A1.75 1.75 0 0 1 9 4.25V1.5Zm6.75.062V4.25c0 .138.112.25.25.25h2.688l-.011-.013-2.914-2.914-.013-.011Z"></path></svg></div><span class="PRIVATE_TreeView-item-content-text"><span>AIML_Lab05.ipynb</span></span></div></div></li><li class="PRIVATE_TreeView-item" tabindex="-1" id="AIML_Lab06.ipynb-item" role="treeitem" aria-labelledby=":r19:" aria-describedby=":r1a: :r1b:" aria-level="1" aria-selected="false"><div class="PRIVATE_TreeView-item-container" style="--level: 1; content-visibility: auto; contain-intrinsic-size: auto 2rem;"><div style="grid-area: spacer; display: flex;"><div style="width: 100%; display: flex;"></div></div><div id=":r19:" class="PRIVATE_TreeView-item-content"><div class="PRIVATE_VisuallyHidden" aria-hidden="true" id=":r1a:"></div><div class="PRIVATE_TreeView-item-visual" aria-hidden="true"><svg aria-hidden="true" focusable="false" role="img" class="octicon octicon-file" viewBox="0 0 16 16" width="16" height="16" fill="currentColor" style="display: inline-block; user-select: none; vertical-align: text-bottom; overflow: visible;"><path d="M2 1.75C2 .784 2.784 0 3.75 0h6.586c.464 0 .909.184 1.237.513l2.914 2.914c.329.328.513.773.513 1.237v9.586A1.75 1.75 0 0 1 13.25 16h-9.5A1.75 1.75 0 0 1 2 14.25Zm1.75-.25a.25.25 0 0 0-.25.25v12.5c0 .138.112.25.25.25h9.5a.25.25 0 0 0 .25-.25V6h-2.75A1.75 1.75 0 0 1 9 4.25V1.5Zm6.75.062V4.25c0 .138.112.25.25.25h2.688l-.011-.013-2.914-2.914-.013-.011Z"></path></svg></div><span class="PRIVATE_TreeView-item-content-text"><span>AIML_Lab06.ipynb</span></span></div></div></li><li class="PRIVATE_TreeView-item" tabindex="-1" id="AIML_Lab07.ipynb-item" role="treeitem" aria-labelledby=":r1c:" aria-describedby=":r1d: :r1e:" aria-level="1" aria-selected="false"><div class="PRIVATE_TreeView-item-container" style="--level: 1; content-visibility: auto; contain-intrinsic-size: auto 2rem;"><div style="grid-area: spacer; display: flex;"><div style="width: 100%; display: flex;"></div></div><div id=":r1c:" class="PRIVATE_TreeView-item-content"><div class="PRIVATE_VisuallyHidden" aria-hidden="true" id=":r1d:"></div><div class="PRIVATE_TreeView-item-visual" aria-hidden="true"><svg aria-hidden="true" focusable="false" role="img" class="octicon octicon-file" viewBox="0 0 16 16" width="16" height="16" fill="currentColor" style="display: inline-block; user-select: none; vertical-align: text-bottom; overflow: visible;"><path d="M2 1.75C2 .784 2.784 0 3.75 0h6.586c.464 0 .909.184 1.237.513l2.914 2.914c.329.328.513.773.513 1.237v9.586A1.75 1.75 0 0 1 13.25 16h-9.5A1.75 1.75 0 0 1 2 14.25Zm1.75-.25a.25.25 0 0 0-.25.25v12.5c0 .138.112.25.25.25h9.5a.25.25 0 0 0 .25-.25V6h-2.75A1.75 1.75 0 0 1 9 4.25V1.5Zm6.75.062V4.25c0 .138.112.25.25.25h2.688l-.011-.013-2.914-2.914-.013-.011Z"></path></svg></div><span class="PRIVATE_TreeView-item-content-text"><span>AIML_Lab07.ipynb</span></span></div></div></li><li class="PRIVATE_TreeView-item" tabindex="-1" id="AIML_Lab08.ipynb-item" role="treeitem" aria-labelledby=":r1f:" aria-describedby=":r1g: :r1h:" aria-level="1" aria-selected="false"><div class="PRIVATE_TreeView-item-container" style="--level: 1; content-visibility: auto; contain-intrinsic-size: auto 2rem;"><div style="grid-area: spacer; display: flex;"><div style="width: 100%; display: flex;"></div></div><div id=":r1f:" class="PRIVATE_TreeView-item-content"><div class="PRIVATE_VisuallyHidden" aria-hidden="true" id=":r1g:"></div><div class="PRIVATE_TreeView-item-visual" aria-hidden="true"><svg aria-hidden="true" focusable="false" role="img" class="octicon octicon-file" viewBox="0 0 16 16" width="16" height="16" fill="currentColor" style="display: inline-block; user-select: none; vertical-align: text-bottom; overflow: visible;"><path d="M2 1.75C2 .784 2.784 0 3.75 0h6.586c.464 0 .909.184 1.237.513l2.914 2.914c.329.328.513.773.513 1.237v9.586A1.75 1.75 0 0 1 13.25 16h-9.5A1.75 1.75 0 0 1 2 14.25Zm1.75-.25a.25.25 0 0 0-.25.25v12.5c0 .138.112.25.25.25h9.5a.25.25 0 0 0 .25-.25V6h-2.75A1.75 1.75 0 0 1 9 4.25V1.5Zm6.75.062V4.25c0 .138.112.25.25.25h2.688l-.011-.013-2.914-2.914-.013-.011Z"></path></svg></div><span class="PRIVATE_TreeView-item-content-text"><span>AIML_Lab08.ipynb</span></span></div></div></li><li class="PRIVATE_TreeView-item" tabindex="-1" id="AIML_Lab09.ipynb-item" role="treeitem" aria-labelledby=":r1i:" aria-describedby=":r1j: :r1k:" aria-level="1" aria-selected="false"><div class="PRIVATE_TreeView-item-container" style="--level: 1; content-visibility: auto; contain-intrinsic-size: auto 2rem;"><div style="grid-area: spacer; display: flex;"><div style="width: 100%; display: flex;"></div></div><div id=":r1i:" class="PRIVATE_TreeView-item-content"><div class="PRIVATE_VisuallyHidden" aria-hidden="true" id=":r1j:"></div><div class="PRIVATE_TreeView-item-visual" aria-hidden="true"><svg aria-hidden="true" focusable="false" role="img" class="octicon octicon-file" viewBox="0 0 16 16" width="16" height="16" fill="currentColor" style="display: inline-block; user-select: none; vertical-align: text-bottom; overflow: visible;"><path d="M2 1.75C2 .784 2.784 0 3.75 0h6.586c.464 0 .909.184 1.237.513l2.914 2.914c.329.328.513.773.513 1.237v9.586A1.75 1.75 0 0 1 13.25 16h-9.5A1.75 1.75 0 0 1 2 14.25Zm1.75-.25a.25.25 0 0 0-.25.25v12.5c0 .138.112.25.25.25h9.5a.25.25 0 0 0 .25-.25V6h-2.75A1.75 1.75 0 0 1 9 4.25V1.5Zm6.75.062V4.25c0 .138.112.25.25.25h2.688l-.011-.013-2.914-2.914-.013-.011Z"></path></svg></div><span class="PRIVATE_TreeView-item-content-text"><span>AIML_Lab09.ipynb</span></span></div></div></li><li class="PRIVATE_TreeView-item" tabindex="-1" id="AIML_Lab10.ipynb-item" role="treeitem" aria-labelledby=":r1l:" aria-describedby=":r1m: :r1n:" aria-level="1" aria-selected="false"><div class="PRIVATE_TreeView-item-container" style="--level: 1; content-visibility: auto; contain-intrinsic-size: auto 2rem;"><div style="grid-area: spacer; display: flex;"><div style="width: 100%; display: flex;"></div></div><div id=":r1l:" class="PRIVATE_TreeView-item-content"><div class="PRIVATE_VisuallyHidden" aria-hidden="true" id=":r1m:"></div><div class="PRIVATE_TreeView-item-visual" aria-hidden="true"><svg aria-hidden="true" focusable="false" role="img" class="octicon octicon-file" viewBox="0 0 16 16" width="16" height="16" fill="currentColor" style="display: inline-block; user-select: none; vertical-align: text-bottom; overflow: visible;"><path d="M2 1.75C2 .784 2.784 0 3.75 0h6.586c.464 0 .909.184 1.237.513l2.914 2.914c.329.328.513.773.513 1.237v9.586A1.75 1.75 0 0 1 13.25 16h-9.5A1.75 1.75 0 0 1 2 14.25Zm1.75-.25a.25.25 0 0 0-.25.25v12.5c0 .138.112.25.25.25h9.5a.25.25 0 0 0 .25-.25V6h-2.75A1.75 1.75 0 0 1 9 4.25V1.5Zm6.75.062V4.25c0 .138.112.25.25.25h2.688l-.011-.013-2.914-2.914-.013-.011Z"></path></svg></div><span class="PRIVATE_TreeView-item-content-text"><span>AIML_Lab10.ipynb</span></span></div></div></li><li class="PRIVATE_TreeView-item" tabindex="-1" id="Fake_News.ipynb-item" role="treeitem" aria-labelledby=":r1o:" aria-describedby=":r1p: :r1q:" aria-level="1" aria-selected="false"><div class="PRIVATE_TreeView-item-container" style="--level: 1; content-visibility: auto; contain-intrinsic-size: auto 2rem;"><div style="grid-area: spacer; display: flex;"><div style="width: 100%; display: flex;"></div></div><div id=":r1o:" class="PRIVATE_TreeView-item-content"><div class="PRIVATE_VisuallyHidden" aria-hidden="true" id=":r1p:"></div><div class="PRIVATE_TreeView-item-visual" aria-hidden="true"><svg aria-hidden="true" focusable="false" role="img" class="octicon octicon-file" viewBox="0 0 16 16" width="16" height="16" fill="currentColor" style="display: inline-block; user-select: none; vertical-align: text-bottom; overflow: visible;"><path d="M2 1.75C2 .784 2.784 0 3.75 0h6.586c.464 0 .909.184 1.237.513l2.914 2.914c.329.328.513.773.513 1.237v9.586A1.75 1.75 0 0 1 13.25 16h-9.5A1.75 1.75 0 0 1 2 14.25Zm1.75-.25a.25.25 0 0 0-.25.25v12.5c0 .138.112.25.25.25h9.5a.25.25 0 0 0 .25-.25V6h-2.75A1.75 1.75 0 0 1 9 4.25V1.5Zm6.75.062V4.25c0 .138.112.25.25.25h2.688l-.011-.013-2.914-2.914-.013-.011Z"></path></svg></div><span class="PRIVATE_TreeView-item-content-text"><span>Fake_News.ipynb</span></span></div></div></li><li class="PRIVATE_TreeView-item" tabindex="-1" id="README.md-item" role="treeitem" aria-labelledby=":r1r:" aria-describedby=":r1s: :r1t:" aria-level="1" aria-selected="false"><div class="PRIVATE_TreeView-item-container" style="--level: 1; content-visibility: auto; contain-intrinsic-size: auto 2rem;"><div style="grid-area: spacer; display: flex;"><div style="width: 100%; display: flex;"></div></div><div id=":r1r:" class="PRIVATE_TreeView-item-content"><div class="PRIVATE_VisuallyHidden" aria-hidden="true" id=":r1s:"></div><div class="PRIVATE_TreeView-item-visual" aria-hidden="true"><svg aria-hidden="true" focusable="false" role="img" class="octicon octicon-file" viewBox="0 0 16 16" width="16" height="16" fill="currentColor" style="display: inline-block; user-select: none; vertical-align: text-bottom; overflow: visible;"><path d="M2 1.75C2 .784 2.784 0 3.75 0h6.586c.464 0 .909.184 1.237.513l2.914 2.914c.329.328.513.773.513 1.237v9.586A1.75 1.75 0 0 1 13.25 16h-9.5A1.75 1.75 0 0 1 2 14.25Zm1.75-.25a.25.25 0 0 0-.25.25v12.5c0 .138.112.25.25.25h9.5a.25.25 0 0 0 .25-.25V6h-2.75A1.75 1.75 0 0 1 9 4.25V1.5Zm6.75.062V4.25c0 .138.112.25.25.25h2.688l-.011-.013-2.914-2.914-.013-.011Z"></path></svg></div><span class="PRIVATE_TreeView-item-content-text"><span>README.md</span></span></div></div></li></ul></nav></div></div></div></div></div></div></div><div class="Box-sc-g0xbh4-0 gMNHHu"><div role="slider" aria-label="Draggable pane splitter" aria-valuemin="256" aria-valuemax="569" aria-valuenow="320" aria-valuetext="Pane width 320 pixels" tabindex="0" class="Box-sc-g0xbh4-0 fjdBNx"></div></div></div></div><div class="Box-sc-g0xbh4-0 emFMJu"><div class="Box-sc-g0xbh4-0"></div><div class="Box-sc-g0xbh4-0 hlUAHL"><div data-selector="repos-split-pane-content" tabindex="0" class="Box-sc-g0xbh4-0 iStsmI"><div class="Box-sc-g0xbh4-0 eIgvIk"><div class="Box-sc-g0xbh4-0 eVFfWF container"><div class="px-3 pt-3 pb-0" id="StickyHeader"><div class="Box-sc-g0xbh4-0 fywjmm"><div class="Box-sc-g0xbh4-0 dyczTK"><div class="Box-sc-g0xbh4-0 kszRgZ"><div class="Box-sc-g0xbh4-0 eTvGbF"><nav data-testid="breadcrumbs" aria-labelledby="repos-header-breadcrumb--wide-heading" id="repos-header-breadcrumb--wide" class="Box-sc-g0xbh4-0 kzRgrI"><h2 class="Heading__StyledHeading-sc-1c1dgg0-0 fpGZrB sr-only" data-testid="screen-reader-heading" id="repos-header-breadcrumb--wide-heading">Breadcrumbs</h2><ol class="Box-sc-g0xbh4-0 cmAPIB"><li class="Box-sc-g0xbh4-0 jwXCBK"><a class="Link__StyledLink-sc-14289xe-0 ipyMWB" sx="[object Object]" data-testid="breadcrumbs-repo-link" href="https://github.com/arshiyaarshh07/AIML_11_2024/tree/main">AIML_11_2024</a></li></ol></nav><div data-testid="breadcrumbs-filename" class="Box-sc-g0xbh4-0 jwXCBK"><span aria-hidden="true" class="Text-sc-17v1xeu-0 fIsVJr">/</span><h1 class="Heading__StyledHeading-sc-1c1dgg0-0 eqidDl" tabindex="-1" id="file-name-id-wide">AIML_Lab01.ipynb</h1></div><div aria-describedby=":Rdd9lab:"><button data-component="IconButton" type="button" aria-label="Copy path" tabindex="0" class="types__StyledButton-sc-ws60qy-0 emYRmJ" data-loading="false" data-no-visuals="true" data-size="small" aria-describedby=":R1td9lab:-loading-announcement"><svg aria-hidden="true" focusable="false" role="img" class="octicon octicon-copy" viewBox="0 0 16 16" width="16" height="16" fill="currentColor" style="display:inline-block;user-select:none;vertical-align:text-bottom;overflow:visible"><path d="M0 6.75C0 5.784.784 5 1.75 5h1.5a.75.75 0 0 1 0 1.5h-1.5a.25.25 0 0 0-.25.25v7.5c0 .138.112.25.25.25h7.5a.25.25 0 0 0 .25-.25v-1.5a.75.75 0 0 1 1.5 0v1.5A1.75 1.75 0 0 1 9.25 16h-7.5A1.75 1.75 0 0 1 0 14.25Z"></path><path d="M5 1.75C5 .784 5.784 0 6.75 0h7.5C15.216 0 16 .784 16 1.75v7.5A1.75 1.75 0 0 1 14.25 11h-7.5A1.75 1.75 0 0 1 5 9.25Zm1.75-.25a.25.25 0 0 0-.25.25v7.5c0 .138.112.25.25.25h7.5a.25.25 0 0 0 .25-.25v-7.5a.25.25 0 0 0-.25-.25Z"></path></svg></button></div></div></div><div class="react-code-view-header-element--wide"><div class="Box-sc-g0xbh4-0 gtBUEp"><div class="d-flex gap-2"> <button type="button" data-loading="false" data-no-visuals="true" aria-describedby=":R2l6d9lab:-loading-announcement" class="types__StyledButton-sc-ws60qy-0 jFcVkf" data-hotkey="b,Shift+B,Control+/ Control+b"><span data-component="buttonContent" class="Box-sc-g0xbh4-0 kkrdEu"><span data-component="text">Blame</span></span></button><button hidden="" data-testid="" data-hotkey-scope="read-only-cursor-text-area" data-hotkey="b,Shift+B,Control+/ Control+b"></button><button data-component="IconButton" type="button" aria-label="More file actions" class="types__StyledButton-sc-ws60qy-0 kuXPuQ js-blob-dropdown-click" title="More file actions" data-testid="more-file-actions-button-nav-menu-wide" aria-haspopup="true" aria-expanded="false" tabindex="0" data-loading="false" data-no-visuals="true" aria-describedby=":R156d9lab:-loading-announcement" id=":R156d9lab:"><svg aria-hidden="true" focusable="false" role="img" class="octicon octicon-kebab-horizontal" viewBox="0 0 16 16" width="16" height="16" fill="currentColor" style="display:inline-block;user-select:none;vertical-align:text-bottom;overflow:visible"><path d="M8 9a1.5 1.5 0 1 0 0-3 1.5 1.5 0 0 0 0 3ZM1.5 9a1.5 1.5 0 1 0 0-3 1.5 1.5 0 0 0 0 3Zm13 0a1.5 1.5 0 1 0 0-3 1.5 1.5 0 0 0 0 3Z"></path></svg></button> </div></div></div><div class="react-code-view-header-element--narrow"><div class="Box-sc-g0xbh4-0 gtBUEp"><div class="d-flex gap-2"> <button type="button" data-loading="false" data-no-visuals="true" aria-describedby=":R2l7d9lab:-loading-announcement" class="types__StyledButton-sc-ws60qy-0 jFcVkf" data-hotkey="b,Shift+B,Control+/ Control+b"><span data-component="buttonContent" class="Box-sc-g0xbh4-0 kkrdEu"><span data-component="text">Blame</span></span></button><button hidden="" data-testid="" data-hotkey-scope="read-only-cursor-text-area" data-hotkey="b,Shift+B,Control+/ Control+b"></button><button data-component="IconButton" type="button" aria-label="More file actions" class="types__StyledButton-sc-ws60qy-0 kuXPuQ js-blob-dropdown-click" title="More file actions" data-testid="more-file-actions-button-nav-menu-narrow" aria-haspopup="true" aria-expanded="false" tabindex="0" data-loading="false" data-no-visuals="true" aria-describedby=":R157d9lab:-loading-announcement" id=":R157d9lab:"><svg aria-hidden="true" focusable="false" role="img" class="octicon octicon-kebab-horizontal" viewBox="0 0 16 16" width="16" height="16" fill="currentColor" style="display:inline-block;user-select:none;vertical-align:text-bottom;overflow:visible"><path d="M8 9a1.5 1.5 0 1 0 0-3 1.5 1.5 0 0 0 0 3ZM1.5 9a1.5 1.5 0 1 0 0-3 1.5 1.5 0 0 0 0 3Zm13 0a1.5 1.5 0 1 0 0-3 1.5 1.5 0 0 0 0 3Z"></path></svg></button> </div></div></div></div></div></div></div></div><div class="Box-sc-g0xbh4-0 hVZtwF react-code-view-bottom-padding"> <div class="Box-sc-g0xbh4-0 cMYnca"></div> <!-- --> <!-- --> </div><div class="Box-sc-g0xbh4-0 hVZtwF"> <!-- --> <!-- --> <div class="d-flex flex-column border rounded-2 mb-3 pl-1"><div class="Box-sc-g0xbh4-0 brJRqk"><h2 class="Heading__StyledHeading-sc-1c1dgg0-0 fpGZrB sr-only" data-testid="screen-reader-heading">Latest commit</h2><div data-testid="latest-commit" class="Box-sc-g0xbh4-0 bIwQEu"><div class="Box-sc-g0xbh4-0 eScEiW"><div data-testid="author-avatar" class="Box-sc-g0xbh4-0 hLLhje"><a class="Link__StyledLink-sc-14289xe-0 dheQRw" href="https://github.com/arshiyaarshh07" data-testid="avatar-icon-link" data-hovercard-url="/users/arshiyaarshh07/hovercard"><img data-component="Avatar" alt="arshiyaarshh07" size="20" src="./AIML_Lab01_files/145633952" data-testid="github-avatar" aria-label="arshiyaarshh07" height="20" width="20" class="Avatar__StyledAvatar-sc-2lv0r8-0 kYMvPL"></a><a class="Link__StyledLink-sc-14289xe-0 XuJeD" href="https://github.com/arshiyaarshh07/AIML_11_2024/commits?author=arshiyaarshh07" aria-label="commits by arshiyaarshh07" data-hovercard-url="/users/arshiyaarshh07/hovercard">arshiyaarshh07</a></div><span class=""></span></div><div class="Box-sc-g0xbh4-0 fqNQBl d-none d-sm-flex"><div class="Truncate flex-items-center f5"><span class="Text-sc-17v1xeu-0 gPDEWA Truncate-text" data-testid="latest-commit-html"><a href="https://github.com/arshiyaarshh07/AIML_11_2024/commit/ad9d4e6dd2ad9233e0d33036fdb92bcfda4bd661" class="Link--secondary" data-pjax="true" data-hovercard-url="/arshiyaarshh07/AIML_11_2024/commit/ad9d4e6dd2ad9233e0d33036fdb92bcfda4bd661/hovercard">Created using Colab</a></span></div></div><span class="d-flex d-sm-none fgColor-muted f6"><relative-time class="sc-bcXHqe" tense="past" datetime="2024-04-16T08:14:41.000Z" title="Apr 16, 2024, 1:44 PM GMT+5:30"><template shadowrootmode="open">5 months ago</template>Apr 16, 2024</relative-time></span></div><div class="d-flex flex-shrink-0 gap-2"><div data-testid="latest-commit-details" class="d-none d-sm-flex flex-items-center"><span class="d-flex flex-nowrap fgColor-muted f6"><a class="Link__StyledLink-sc-14289xe-0 dheQRw Link--secondary" aria-label="Commit ad9d4e6" data-hovercard-url="/arshiyaarshh07/AIML_11_2024/commit/ad9d4e6dd2ad9233e0d33036fdb92bcfda4bd661/hovercard" href="https://github.com/arshiyaarshh07/AIML_11_2024/commit/ad9d4e6dd2ad9233e0d33036fdb92bcfda4bd661">ad9d4e6</a>&nbsp;·&nbsp;<relative-time class="sc-bcXHqe" tense="past" datetime="2024-04-16T08:14:41.000Z" title="Apr 16, 2024, 1:44 PM GMT+5:30"><template shadowrootmode="open">5 months ago</template>Apr 16, 2024</relative-time></span></div><div class="d-flex gap-2"><h2 class="Heading__StyledHeading-sc-1c1dgg0-0 fpGZrB sr-only" data-testid="screen-reader-heading">History</h2><a class="types__StyledButton-sc-ws60qy-0 emYRmJ d-none d-lg-flex LinkButton-module__code-view-link-button--xvCGA flex-items-center fgColor-default" href="https://github.com/arshiyaarshh07/AIML_11_2024/commits/main/AIML_Lab01.ipynb" data-loading="false" data-size="small" aria-describedby=":R5dlal9lab:-loading-announcement"><span data-component="buttonContent" class="Box-sc-g0xbh4-0 kkrdEu"><span data-component="leadingVisual" class="Box-sc-g0xbh4-0 trpoQ"><svg aria-hidden="true" focusable="false" role="img" class="octicon octicon-history" viewBox="0 0 16 16" width="16" height="16" fill="currentColor" style="display:inline-block;user-select:none;vertical-align:text-bottom;overflow:visible"><path d="m.427 1.927 1.215 1.215a8.002 8.002 0 1 1-1.6 5.685.75.75 0 1 1 1.493-.154 6.5 6.5 0 1 0 1.18-4.458l1.358 1.358A.25.25 0 0 1 3.896 6H.25A.25.25 0 0 1 0 5.75V2.104a.25.25 0 0 1 .427-.177ZM7.75 4a.75.75 0 0 1 .75.75v2.992l2.028.812a.75.75 0 0 1-.557 1.392l-2.5-1A.751.751 0 0 1 7 8.25v-3.5A.75.75 0 0 1 7.75 4Z"></path></svg></span><span data-component="text"><span class="fgColor-default">History</span></span></span></a><div class="d-sm-none"><button data-component="IconButton" type="button" aria-label="Open commit details" aria-pressed="false" aria-expanded="false" data-testid="latest-commit-details-toggle" data-loading="false" data-no-visuals="true" data-size="small" aria-describedby=":r2r:-loading-announcement" class="types__StyledButton-sc-ws60qy-0 ljyQZt"><svg aria-hidden="true" focusable="false" role="img" class="octicon octicon-ellipsis" viewBox="0 0 16 16" width="16" height="16" fill="currentColor" style="display: inline-block; user-select: none; vertical-align: text-bottom; overflow: visible;"><path d="M0 5.75C0 4.784.784 4 1.75 4h12.5c.966 0 1.75.784 1.75 1.75v4.5A1.75 1.75 0 0 1 14.25 12H1.75A1.75 1.75 0 0 1 0 10.25ZM12 7a1 1 0 1 0 0 2 1 1 0 0 0 0-2ZM7 8a1 1 0 1 0 2 0 1 1 0 0 0-2 0ZM4 7a1 1 0 1 0 0 2 1 1 0 0 0 0-2Z"></path></svg></button></div><div class="d-flex d-lg-none"><span role="tooltip" aria-label="History" id="history-icon-button-tooltip" class="Tooltip__TooltipBase-sc-17tf59c-0 gNgnVl tooltipped-n"><a class="types__StyledButton-sc-ws60qy-0 emYRmJ LinkButton-module__code-view-link-button--xvCGA flex-items-center fgColor-default" href="https://github.com/arshiyaarshh07/AIML_11_2024/commits/main/AIML_Lab01.ipynb" data-loading="false" data-size="small" aria-describedby=":Rpdlal9lab:-loading-announcement history-icon-button-tooltip"><span data-component="buttonContent" class="Box-sc-g0xbh4-0 kkrdEu"><span data-component="leadingVisual" class="Box-sc-g0xbh4-0 trpoQ"><svg aria-hidden="true" focusable="false" role="img" class="octicon octicon-history" viewBox="0 0 16 16" width="16" height="16" fill="currentColor" style="display:inline-block;user-select:none;vertical-align:text-bottom;overflow:visible"><path d="m.427 1.927 1.215 1.215a8.002 8.002 0 1 1-1.6 5.685.75.75 0 1 1 1.493-.154 6.5 6.5 0 1 0 1.18-4.458l1.358 1.358A.25.25 0 0 1 3.896 6H.25A.25.25 0 0 1 0 5.75V2.104a.25.25 0 0 1 .427-.177ZM7.75 4a.75.75 0 0 1 .75.75v2.992l2.028.812a.75.75 0 0 1-.557 1.392l-2.5-1A.751.751 0 0 1 7 8.25v-3.5A.75.75 0 0 1 7.75 4Z"></path></svg></span></span></a></span></div></div></div></div></div><div class="Box-sc-g0xbh4-0 iJmJly"><div class="Box-sc-g0xbh4-0 jACbi container"><div class="Box-sc-g0xbh4-0 gIJuDf react-code-size-details-banner"><div class="Box-sc-g0xbh4-0 fleZSW react-code-size-details-banner"><div class="Box-sc-g0xbh4-0 BnySK text-mono"><div title="65.3 KB" data-testid="blob-size" class="Truncate__StyledTruncate-sc-23o1d2-0 fUpWeN"><span>454 lines (454 loc) · 65.3 KB</span></div></div></div><div class="react-code-size-details-banner"><button style="--button-color:fg.default" type="button" aria-haspopup="true" aria-expanded="false" tabindex="0" data-testid="copilot-popover-button" data-loading="false" data-size="small" aria-describedby=":R15tal9lab:-loading-announcement" id=":R15tal9lab:" class="types__StyledButton-sc-ws60qy-0 jKgwhU"><span data-component="buttonContent" class="Box-sc-g0xbh4-0 kkrdEu"><span data-component="leadingVisual" class="Box-sc-g0xbh4-0 trpoQ"><svg aria-hidden="true" focusable="false" role="img" class="octicon octicon-copilot" viewBox="0 0 16 16" width="16" height="16" fill="currentColor" style="display:inline-block;user-select:none;vertical-align:text-bottom;overflow:visible"><path d="M7.998 15.035c-4.562 0-7.873-2.914-7.998-3.749V9.338c.085-.628.677-1.686 1.588-2.065.013-.07.024-.143.036-.218.029-.183.06-.384.126-.612-.201-.508-.254-1.084-.254-1.656 0-.87.128-1.769.693-2.484.579-.733 1.494-1.124 2.724-1.261 1.206-.134 2.262.034 2.944.765.05.053.096.108.139.165.044-.057.094-.112.143-.165.682-.731 1.738-.899 2.944-.765 1.23.137 2.145.528 2.724 1.261.566.715.693 1.614.693 2.484 0 .572-.053 1.148-.254 1.656.066.228.098.429.126.612.012.076.024.148.037.218.924.385 1.522 1.471 1.591 2.095v1.872c0 .766-3.351 3.795-8.002 3.795Zm0-1.485c2.28 0 4.584-1.11 5.002-1.433V7.862l-.023-.116c-.49.21-1.075.291-1.727.291-1.146 0-2.059-.327-2.71-.991A3.222 3.222 0 0 1 8 6.303a3.24 3.24 0 0 1-.544.743c-.65.664-1.563.991-2.71.991-.652 0-1.236-.081-1.727-.291l-.023.116v4.255c.419.323 2.722 1.433 5.002 1.433ZM6.762 2.83c-.193-.206-.637-.413-1.682-.297-1.019.113-1.479.404-1.713.7-.247.312-.369.789-.369 1.554 0 .793.129 1.171.308 1.371.162.181.519.379 1.442.379.853 0 1.339-.235 1.638-.54.315-.322.527-.827.617-1.553.117-.935-.037-1.395-.241-1.614Zm4.155-.297c-1.044-.116-1.488.091-1.681.297-.204.219-.359.679-.242 1.614.091.726.303 1.231.618 1.553.299.305.784.54 1.638.54.922 0 1.28-.198 1.442-.379.179-.2.308-.578.308-1.371 0-.765-.123-1.242-.37-1.554-.233-.296-.693-.587-1.713-.7Z"></path><path d="M6.25 9.037a.75.75 0 0 1 .75.75v1.501a.75.75 0 0 1-1.5 0V9.787a.75.75 0 0 1 .75-.75Zm4.25.75v1.501a.75.75 0 0 1-1.5 0V9.787a.75.75 0 0 1 1.5 0Z"></path></svg></span><span data-component="text">Code 55% faster with GitHub Copilot</span></span></button></div></div><div class="Box-sc-g0xbh4-0 VHzRk react-blob-view-header-sticky" id="repos-sticky-header"><div class="Box-sc-g0xbh4-0 ePiodO"><div class="react-blob-sticky-header"><div class="Box-sc-g0xbh4-0 kQJlnf"><div class="Box-sc-g0xbh4-0 gJICKO"><div class="Box-sc-g0xbh4-0 iZJewz"><nav data-testid="breadcrumbs" aria-labelledby="sticky-breadcrumb-heading" id="sticky-breadcrumb" class="Box-sc-g0xbh4-0 kzRgrI"><h2 class="Heading__StyledHeading-sc-1c1dgg0-0 fpGZrB sr-only" data-testid="screen-reader-heading" id="sticky-breadcrumb-heading">Breadcrumbs</h2><ol class="Box-sc-g0xbh4-0 cmAPIB"><li class="Box-sc-g0xbh4-0 jwXCBK"><a class="Link__StyledLink-sc-14289xe-0 ipyMWB" sx="[object Object]" data-testid="breadcrumbs-repo-link" href="https://github.com/arshiyaarshh07/AIML_11_2024/tree/main">AIML_11_2024</a></li></ol></nav><div data-testid="breadcrumbs-filename" class="Box-sc-g0xbh4-0 jwXCBK"><span aria-hidden="true" class="Text-sc-17v1xeu-0 cYjMDB">/</span><h1 class="Heading__StyledHeading-sc-1c1dgg0-0 eDVSKn" tabindex="-1" id="sticky-file-name-id">AIML_Lab01.ipynb</h1></div></div><button type="button" data-loading="false" data-size="small" aria-describedby=":r2t:-loading-announcement" class="types__StyledButton-sc-ws60qy-0 bDTxaK" style="--button-color: fg.default;"><span data-component="buttonContent" class="Box-sc-g0xbh4-0 kkrdEu"><span data-component="leadingVisual" class="Box-sc-g0xbh4-0 trpoQ"><svg aria-hidden="true" focusable="false" role="img" class="octicon octicon-arrow-up" viewBox="0 0 16 16" width="16" height="16" fill="currentColor" style="display: inline-block; user-select: none; vertical-align: text-bottom; overflow: visible;"><path d="M3.47 7.78a.75.75 0 0 1 0-1.06l4.25-4.25a.75.75 0 0 1 1.06 0l4.25 4.25a.751.751 0 0 1-.018 1.042.751.751 0 0 1-1.042.018L9 4.81v7.44a.75.75 0 0 1-1.5 0V4.81L4.53 7.78a.75.75 0 0 1-1.06 0Z"></path></svg></span><span data-component="text">Top</span></span></button></div></div></div><div class="Box-sc-g0xbh4-0 jfjHXm"><h2 class="Heading__StyledHeading-sc-1c1dgg0-0 fpGZrB sr-only" data-testid="screen-reader-heading">File metadata and controls</h2><div class="Box-sc-g0xbh4-0 bfkNRF"><ul aria-label="File view" class="SegmentedControl__SegmentedControlList-sc-1rzig82-0 ehDMvU"><li class="Box-sc-g0xbh4-0 fXBLEV"><button aria-current="true" type="button" class="SegmentedControlButton__SegmentedControlButtonStyled-sc-8lkgxl-0 jEdVkE" data-hotkey="Control+/ Control+p"><span class="segmentedControl-content"><div class="Box-sc-g0xbh4-0 segmentedControl-text">Preview</div></span></button></li><li class="Box-sc-g0xbh4-0 gMPsNT"><button aria-current="false" type="button" class="SegmentedControlButton__SegmentedControlButtonStyled-sc-8lkgxl-0 TvbfG" data-hotkey="Control+/ Control+c"><span class="segmentedControl-content"><div class="Box-sc-g0xbh4-0 segmentedControl-text">Code</div></span></button></li><li class="Box-sc-g0xbh4-0 gMPsNT"><button aria-current="false" type="button" class="SegmentedControlButton__SegmentedControlButtonStyled-sc-8lkgxl-0 fIktcg" data-hotkey="b,Shift+B,Control+/ Control+b"><span class="segmentedControl-content"><div class="Box-sc-g0xbh4-0 segmentedControl-text">Blame</div></span></button></li></ul><button hidden="" data-testid="" data-hotkey-scope="read-only-cursor-text-area" data-hotkey="Control+/ Control+c"></button><button hidden="" data-testid="" data-hotkey-scope="read-only-cursor-text-area" data-hotkey="b,Shift+B,Control+/ Control+b"></button><button hidden="" data-testid="" data-hotkey-scope="read-only-cursor-text-area" data-hotkey="Control+/ Control+p"></button><div class="Box-sc-g0xbh4-0 fleZSW react-code-size-details-in-header"><div class="Box-sc-g0xbh4-0 BnySK text-mono"><div title="65.3 KB" data-testid="blob-size" class="Truncate__StyledTruncate-sc-23o1d2-0 fUpWeN"><span>454 lines (454 loc) · 65.3 KB</span></div></div></div><div class="react-code-size-details-in-header"><button style="--button-color:fg.default" type="button" aria-haspopup="true" aria-expanded="false" tabindex="0" data-testid="copilot-popover-button" data-loading="false" data-size="small" aria-describedby=":R3kptal9lab:-loading-announcement" id=":R3kptal9lab:" class="types__StyledButton-sc-ws60qy-0 jKgwhU"><span data-component="buttonContent" class="Box-sc-g0xbh4-0 kkrdEu"><span data-component="leadingVisual" class="Box-sc-g0xbh4-0 trpoQ"><svg aria-hidden="true" focusable="false" role="img" class="octicon octicon-copilot" viewBox="0 0 16 16" width="16" height="16" fill="currentColor" style="display:inline-block;user-select:none;vertical-align:text-bottom;overflow:visible"><path d="M7.998 15.035c-4.562 0-7.873-2.914-7.998-3.749V9.338c.085-.628.677-1.686 1.588-2.065.013-.07.024-.143.036-.218.029-.183.06-.384.126-.612-.201-.508-.254-1.084-.254-1.656 0-.87.128-1.769.693-2.484.579-.733 1.494-1.124 2.724-1.261 1.206-.134 2.262.034 2.944.765.05.053.096.108.139.165.044-.057.094-.112.143-.165.682-.731 1.738-.899 2.944-.765 1.23.137 2.145.528 2.724 1.261.566.715.693 1.614.693 2.484 0 .572-.053 1.148-.254 1.656.066.228.098.429.126.612.012.076.024.148.037.218.924.385 1.522 1.471 1.591 2.095v1.872c0 .766-3.351 3.795-8.002 3.795Zm0-1.485c2.28 0 4.584-1.11 5.002-1.433V7.862l-.023-.116c-.49.21-1.075.291-1.727.291-1.146 0-2.059-.327-2.71-.991A3.222 3.222 0 0 1 8 6.303a3.24 3.24 0 0 1-.544.743c-.65.664-1.563.991-2.71.991-.652 0-1.236-.081-1.727-.291l-.023.116v4.255c.419.323 2.722 1.433 5.002 1.433ZM6.762 2.83c-.193-.206-.637-.413-1.682-.297-1.019.113-1.479.404-1.713.7-.247.312-.369.789-.369 1.554 0 .793.129 1.171.308 1.371.162.181.519.379 1.442.379.853 0 1.339-.235 1.638-.54.315-.322.527-.827.617-1.553.117-.935-.037-1.395-.241-1.614Zm4.155-.297c-1.044-.116-1.488.091-1.681.297-.204.219-.359.679-.242 1.614.091.726.303 1.231.618 1.553.299.305.784.54 1.638.54.922 0 1.28-.198 1.442-.379.179-.2.308-.578.308-1.371 0-.765-.123-1.242-.37-1.554-.233-.296-.693-.587-1.713-.7Z"></path><path d="M6.25 9.037a.75.75 0 0 1 .75.75v1.501a.75.75 0 0 1-1.5 0V9.787a.75.75 0 0 1 .75-.75Zm4.25.75v1.501a.75.75 0 0 1-1.5 0V9.787a.75.75 0 0 1 1.5 0Z"></path></svg></span><span data-component="text">Code 55% faster with GitHub Copilot</span></span></button></div></div><div class="Box-sc-g0xbh4-0 iBylDf"><button hidden="" data-testid="" data-hotkey="Control+Shift+&gt;" data-hotkey-scope="read-only-cursor-text-area"></button><button hidden="" data-hotkey="Control+Shift+&gt;"></button><button hidden="" data-testid="" data-hotkey="Control+Shift+&lt;" data-hotkey-scope="read-only-cursor-text-area"></button><button hidden="" data-hotkey="Control+Shift+&lt;"></button><div class="Box-sc-g0xbh4-0 kSGBPx react-blob-header-edit-and-raw-actions"><div class="ButtonGroup-sc-1gxhls1-0 cpVEZe"><a href="https://github.com/arshiyaarshh07/AIML_11_2024/raw/main/AIML_Lab01.ipynb" data-testid="raw-button" data-loading="false" data-no-visuals="true" data-size="small" aria-describedby=":R5csptal9lab:-loading-announcement" class="types__StyledButton-sc-ws60qy-0 jUNlHb" data-hotkey="Control+/ Control+r"><span data-component="buttonContent" class="Box-sc-g0xbh4-0 kkrdEu"><span data-component="text">Raw</span></span></a><button data-component="IconButton" type="button" aria-label="Copy raw content" data-testid="copy-raw-button" data-loading="false" data-no-visuals="true" data-size="small" aria-describedby=":Rpcsptal9lab:-loading-announcement" class="types__StyledButton-sc-ws60qy-0 feqCqy" data-hotkey="Control+Shift+C"><svg aria-hidden="true" focusable="false" role="img" class="octicon octicon-copy" viewBox="0 0 16 16" width="16" height="16" fill="currentColor" style="display:inline-block;user-select:none;vertical-align:text-bottom;overflow:visible"><path d="M0 6.75C0 5.784.784 5 1.75 5h1.5a.75.75 0 0 1 0 1.5h-1.5a.25.25 0 0 0-.25.25v7.5c0 .138.112.25.25.25h7.5a.25.25 0 0 0 .25-.25v-1.5a.75.75 0 0 1 1.5 0v1.5A1.75 1.75 0 0 1 9.25 16h-7.5A1.75 1.75 0 0 1 0 14.25Z"></path><path d="M5 1.75C5 .784 5.784 0 6.75 0h7.5C15.216 0 16 .784 16 1.75v7.5A1.75 1.75 0 0 1 14.25 11h-7.5A1.75 1.75 0 0 1 5 9.25Zm1.75-.25a.25.25 0 0 0-.25.25v7.5c0 .138.112.25.25.25h7.5a.25.25 0 0 0 .25-.25v-7.5a.25.25 0 0 0-.25-.25Z"></path></svg></button><span role="tooltip" aria-label="Download raw file" id=":Rdcsptal9lab:" class="Tooltip__TooltipBase-sc-17tf59c-0 gNgnVl tooltipped-n"><button data-component="IconButton" type="button" aria-label="Download raw content" data-testid="download-raw-button" data-loading="false" data-no-visuals="true" data-size="small" aria-describedby=":Rtcsptal9lab:-loading-announcement" class="types__StyledButton-sc-ws60qy-0 bfWknm" data-hotkey="Control+Shift+S"><svg aria-hidden="true" focusable="false" role="img" class="octicon octicon-download" viewBox="0 0 16 16" width="16" height="16" fill="currentColor" style="display:inline-block;user-select:none;vertical-align:text-bottom;overflow:visible"><path d="M2.75 14A1.75 1.75 0 0 1 1 12.25v-2.5a.75.75 0 0 1 1.5 0v2.5c0 .138.112.25.25.25h10.5a.25.25 0 0 0 .25-.25v-2.5a.75.75 0 0 1 1.5 0v2.5A1.75 1.75 0 0 1 13.25 14Z"></path><path d="M7.25 7.689V2a.75.75 0 0 1 1.5 0v5.689l1.97-1.969a.749.749 0 1 1 1.06 1.06l-3.25 3.25a.749.749 0 0 1-1.06 0L4.22 6.78a.749.749 0 1 1 1.06-1.06l1.97 1.969Z"></path></svg></button></span></div><button hidden="" data-testid="raw-button-shortcut" data-hotkey-scope="read-only-cursor-text-area" data-hotkey="Control+/ Control+r"></button><button hidden="" data-testid="copy-raw-button-shortcut" data-hotkey-scope="read-only-cursor-text-area" data-hotkey="Control+Shift+C"></button><button hidden="" data-testid="download-raw-button-shortcut" data-hotkey-scope="read-only-cursor-text-area" data-hotkey="Control+Shift+S"></button><a class="Link__StyledLink-sc-14289xe-0 dheQRw js-github-dev-shortcut d-none" href="https://github.dev/" data-hotkey="., Control+Shift+/"></a><button hidden="" data-testid="" data-hotkey-scope="read-only-cursor-text-area" data-hotkey="., Control+Shift+/"></button><a class="Link__StyledLink-sc-14289xe-0 dheQRw js-github-dev-new-tab-shortcut d-none" href="https://github.dev/" target="_blank" data-hotkey="Shift+.,Shift+&gt;,&gt;"></a><button hidden="" data-testid="" data-hotkey-scope="read-only-cursor-text-area" data-hotkey="Shift+.,Shift+&gt;,&gt;"></button><div class="ButtonGroup-sc-1gxhls1-0 cpVEZe"><span role="tooltip" aria-label="Fork this repository and edit the file" id=":R6ksptal9lab:" class="Tooltip__TooltipBase-sc-17tf59c-0 gNgnVl tooltipped-nw"><a sx="[object Object]" data-component="IconButton" type="button" aria-label="Edit file" data-testid="edit-button" data-loading="false" data-no-visuals="true" data-size="small" aria-describedby=":Rmksptal9lab:-loading-announcement" class="types__StyledButton-sc-ws60qy-0 eBqjKw" href="https://github.com/arshiyaarshh07/AIML_11_2024/edit/main/AIML_Lab01.ipynb" data-hotkey="e,Shift+E"><svg aria-hidden="true" focusable="false" role="img" class="octicon octicon-pencil" viewBox="0 0 16 16" width="16" height="16" fill="currentColor" style="display:inline-block;user-select:none;vertical-align:text-bottom;overflow:visible"><path d="M11.013 1.427a1.75 1.75 0 0 1 2.474 0l1.086 1.086a1.75 1.75 0 0 1 0 2.474l-8.61 8.61c-.21.21-.47.364-.756.445l-3.251.93a.75.75 0 0 1-.927-.928l.929-3.25c.081-.286.235-.547.445-.758l8.61-8.61Zm.176 4.823L9.75 4.81l-6.286 6.287a.253.253 0 0 0-.064.108l-.558 1.953 1.953-.558a.253.253 0 0 0 .108-.064Zm1.238-3.763a.25.25 0 0 0-.354 0L10.811 3.75l1.439 1.44 1.263-1.263a.25.25 0 0 0 0-.354Z"></path></svg></a></span><button data-component="IconButton" type="button" aria-label="More edit options" data-testid="more-edit-button" aria-haspopup="true" aria-expanded="false" tabindex="0" data-loading="false" data-no-visuals="true" data-size="small" aria-describedby=":Raksptal9lab:-loading-announcement" id=":Raksptal9lab:" class="types__StyledButton-sc-ws60qy-0 feqCqy"><svg aria-hidden="true" focusable="false" role="img" class="octicon octicon-triangle-down" viewBox="0 0 16 16" width="16" height="16" fill="currentColor" style="display:inline-block;user-select:none;vertical-align:text-bottom;overflow:visible"><path d="m4.427 7.427 3.396 3.396a.25.25 0 0 0 .354 0l3.396-3.396A.25.25 0 0 0 11.396 7H4.604a.25.25 0 0 0-.177.427Z"></path></svg></button></div><button hidden="" data-testid="" data-hotkey="e,Shift+E" data-hotkey-scope="read-only-cursor-text-area"></button></div><div class="react-blob-header-edit-and-raw-actions-combined"><button data-component="IconButton" type="button" aria-label="Edit and raw actions" class="types__StyledButton-sc-ws60qy-0 eEspxX js-blob-dropdown-click" title="More file actions" data-testid="more-file-actions-button" aria-haspopup="true" aria-expanded="false" tabindex="0" data-loading="false" data-no-visuals="true" data-size="small" aria-describedby=":Rnsptal9lab:-loading-announcement" id=":Rnsptal9lab:"><svg aria-hidden="true" focusable="false" role="img" class="octicon octicon-kebab-horizontal" viewBox="0 0 16 16" width="16" height="16" fill="currentColor" style="display:inline-block;user-select:none;vertical-align:text-bottom;overflow:visible"><path d="M8 9a1.5 1.5 0 1 0 0-3 1.5 1.5 0 0 0 0 3ZM1.5 9a1.5 1.5 0 1 0 0-3 1.5 1.5 0 0 0 0 3Zm13 0a1.5 1.5 0 1 0 0-3 1.5 1.5 0 0 0 0 3Z"></path></svg></button></div></div></div></div><div></div></div><div class="Box-sc-g0xbh4-0 ytOJl"><section aria-labelledby="file-name-id-wide file-name-id-mobile" class="Box-sc-g0xbh4-0 eJsjkT"><div class="Box-sc-g0xbh4-0 civZtx"><div data-hpc="true" data-host="https://notebooks.githubusercontent.com" data-type="ipynb" class="Box-sc-g0xbh4-0 cRYnfF" style="height: 3470.61px;"><iframe src="./AIML_Lab01_files/ipynb.html" sandbox="allow-scripts allow-same-origin allow-top-navigation" name="eaa4d756-629f-4ece-a748-ff022c0d9785" title="File display" class="Box-sc-g0xbh4-0 kRMcOk">Viewer requires iframe.</iframe></div></div></section></div></div></div> <!-- --> <!-- --> </div></div></div><div class="Box-sc-g0xbh4-0"></div></div></div></div></div><div id="find-result-marks-container" class="Box-sc-g0xbh4-0 aZrVR"></div><button hidden="" data-testid="" data-hotkey-scope="read-only-cursor-text-area" data-hotkey="Control+F6,Control+Shift+F6"></button><button hidden="" data-hotkey="Control+F6,Control+Shift+F6"></button></div> <!-- --> <!-- --> <script type="application/json" id="__PRIMER_DATA_:R0:__">{"resolvedServerColorMode":"day"}</script></div>
</react-app>




  </div>

</turbo-frame>

    </main>
  </div>

  </div>

          <footer class="footer pt-8 pb-6 f6 color-fg-muted p-responsive" role="contentinfo" hidden="">
  <h2 class="sr-only">Footer</h2>

  


  <div class="d-flex flex-justify-center flex-items-center flex-column-reverse flex-lg-row flex-wrap flex-lg-nowrap">
    <div class="d-flex flex-items-center flex-shrink-0 mx-2">
      <a aria-label="Homepage" title="GitHub" class="footer-octicon mr-2" href="https://github.com/">
        <svg aria-hidden="true" height="24" viewBox="0 0 24 24" version="1.1" width="24" data-view-component="true" class="octicon octicon-mark-github">
    <path d="M12.5.75C6.146.75 1 5.896 1 12.25c0 5.089 3.292 9.387 7.863 10.91.575.101.79-.244.79-.546 0-.273-.014-1.178-.014-2.142-2.889.532-3.636-.704-3.866-1.35-.13-.331-.69-1.352-1.18-1.625-.402-.216-.977-.748-.014-.762.906-.014 1.553.834 1.769 1.179 1.035 1.74 2.688 1.25 3.349.948.1-.747.402-1.25.733-1.538-2.559-.287-5.232-1.279-5.232-5.678 0-1.25.445-2.285 1.178-3.09-.115-.288-.517-1.467.115-3.048 0 0 .963-.302 3.163 1.179.92-.259 1.897-.388 2.875-.388.977 0 1.955.13 2.875.388 2.2-1.495 3.162-1.179 3.162-1.179.633 1.581.23 2.76.115 3.048.733.805 1.179 1.825 1.179 3.09 0 4.413-2.688 5.39-5.247 5.678.417.36.776 1.05.776 2.128 0 1.538-.014 2.774-.014 3.162 0 .302.216.662.79.547C20.709 21.637 24 17.324 24 12.25 24 5.896 18.854.75 12.5.75Z"></path>
</svg>
</a>
      <span>
        © 2024 GitHub,&nbsp;Inc.
      </span>
    </div>

    <nav aria-label="Footer">
      <h3 class="sr-only" id="sr-footer-heading">Footer navigation</h3>

      <ul class="list-style-none d-flex flex-justify-center flex-wrap mb-2 mb-lg-0" aria-labelledby="sr-footer-heading">

          <li class="mx-2">
            <a data-analytics-event="{&quot;category&quot;:&quot;Footer&quot;,&quot;action&quot;:&quot;go to Terms&quot;,&quot;label&quot;:&quot;text:terms&quot;}" href="https://docs.github.com/site-policy/github-terms/github-terms-of-service" data-view-component="true" class="Link--secondary Link">Terms</a>
          </li>

          <li class="mx-2">
            <a data-analytics-event="{&quot;category&quot;:&quot;Footer&quot;,&quot;action&quot;:&quot;go to privacy&quot;,&quot;label&quot;:&quot;text:privacy&quot;}" href="https://docs.github.com/site-policy/privacy-policies/github-privacy-statement" data-view-component="true" class="Link--secondary Link">Privacy</a>
          </li>

          <li class="mx-2">
            <a data-analytics-event="{&quot;category&quot;:&quot;Footer&quot;,&quot;action&quot;:&quot;go to security&quot;,&quot;label&quot;:&quot;text:security&quot;}" href="https://github.com/security" data-view-component="true" class="Link--secondary Link">Security</a>
          </li>

          <li class="mx-2">
            <a data-analytics-event="{&quot;category&quot;:&quot;Footer&quot;,&quot;action&quot;:&quot;go to status&quot;,&quot;label&quot;:&quot;text:status&quot;}" href="https://www.githubstatus.com/" data-view-component="true" class="Link--secondary Link">Status</a>
          </li>

          <li class="mx-2">
            <a data-analytics-event="{&quot;category&quot;:&quot;Footer&quot;,&quot;action&quot;:&quot;go to docs&quot;,&quot;label&quot;:&quot;text:docs&quot;}" href="https://docs.github.com/" data-view-component="true" class="Link--secondary Link">Docs</a>
          </li>

          <li class="mx-2">
            <a data-analytics-event="{&quot;category&quot;:&quot;Footer&quot;,&quot;action&quot;:&quot;go to contact&quot;,&quot;label&quot;:&quot;text:contact&quot;}" href="https://support.github.com/?tags=dotcom-footer" data-view-component="true" class="Link--secondary Link">Contact</a>
          </li>

          <li class="mr-3">
  <cookie-consent-link data-catalyst="">
    <button type="button" class="Link--secondary underline-on-hover border-0 p-0 color-bg-transparent" data-action="click:cookie-consent-link#showConsentManagement" data-analytics-event="{&quot;location&quot;:&quot;footer&quot;,&quot;action&quot;:&quot;cookies&quot;,&quot;context&quot;:&quot;subfooter&quot;,&quot;tag&quot;:&quot;link&quot;,&quot;label&quot;:&quot;cookies_link_subfooter_footer&quot;}">
      Manage cookies
    </button>
  </cookie-consent-link>
</li>

<li class="mr-3">
  <cookie-consent-link data-catalyst="">
    <button type="button" class="Link--secondary underline-on-hover border-0 p-0 color-bg-transparent" data-action="click:cookie-consent-link#showConsentManagement" data-analytics-event="{&quot;location&quot;:&quot;footer&quot;,&quot;action&quot;:&quot;dont_share_info&quot;,&quot;context&quot;:&quot;subfooter&quot;,&quot;tag&quot;:&quot;link&quot;,&quot;label&quot;:&quot;dont_share_info_link_subfooter_footer&quot;}">
      Do not share my personal information
    </button>
  </cookie-consent-link>
</li>

      </ul>
    </nav>
  </div>
</footer>




    <ghcc-consent id="ghcc" class="position-fixed bottom-0 left-0" style="z-index: 999999" data-initial-cookie-consent-allowed="" data-cookie-consent-required="false" data-catalyst=""></ghcc-consent>


  <div id="ajax-error-message" class="ajax-error-message flash flash-error" hidden="">
    <svg aria-hidden="true" height="16" viewBox="0 0 16 16" version="1.1" width="16" data-view-component="true" class="octicon octicon-alert">
    <path d="M6.457 1.047c.659-1.234 2.427-1.234 3.086 0l6.082 11.378A1.75 1.75 0 0 1 14.082 15H1.918a1.75 1.75 0 0 1-1.543-2.575Zm1.763.707a.25.25 0 0 0-.44 0L1.698 13.132a.25.25 0 0 0 .22.368h12.164a.25.25 0 0 0 .22-.368Zm.53 3.996v2.5a.75.75 0 0 1-1.5 0v-2.5a.75.75 0 0 1 1.5 0ZM9 11a1 1 0 1 1-2 0 1 1 0 0 1 2 0Z"></path>
</svg>
    <button type="button" class="flash-close js-ajax-error-dismiss" aria-label="Dismiss error">
      <svg aria-hidden="true" height="16" viewBox="0 0 16 16" version="1.1" width="16" data-view-component="true" class="octicon octicon-x">
    <path d="M3.72 3.72a.75.75 0 0 1 1.06 0L8 6.94l3.22-3.22a.749.749 0 0 1 1.275.326.749.749 0 0 1-.215.734L9.06 8l3.22 3.22a.749.749 0 0 1-.326 1.275.749.749 0 0 1-.734-.215L8 9.06l-3.22 3.22a.751.751 0 0 1-1.042-.018.751.751 0 0 1-.018-1.042L6.94 8 3.72 4.78a.75.75 0 0 1 0-1.06Z"></path>
</svg>
    </button>
    You can’t perform that action at this time.
  </div>

    <template id="site-details-dialog"></template>

    <div class="Popover js-hovercard-content position-absolute" style="display: none; outline: none;">
  <div class="Popover-message Popover-message--bottom-left Popover-message--large Box color-shadow-large" style="width:360px;"></div>
</div>

    <template id="snippet-clipboard-copy-button"></template>
<template id="snippet-clipboard-copy-button-unpositioned"></template>


    <style>
      .user-mention[href$="/2303a52320"] {
        color: var(--color-user-mention-fg);
        background-color: var(--bgColor-attention-muted, var(--color-attention-subtle));
        border-radius: 2px;
        margin-left: -2px;
        margin-right: -2px;
        padding: 0 2px;
      }
    </style>


    </div>

    <div id="js-global-screen-reader-notice" class="sr-only mt-n1" aria-live="polite" aria-atomic="true">AIML_11_2024/AIML_Lab01.ipynb at main · arshiyaarshh07/AIML_11_2024</div>
    <div id="js-global-screen-reader-notice-assertive" class="sr-only mt-n1" aria-live="assertive" aria-atomic="true"></div>
  


<div class="sr-only mt-n1" id="screenReaderAnnouncementDiv" role="alert" data-testid="screenReaderAnnouncement" aria-live="assertive">&nbsp;</div><div id="__primerPortalRoot__" style="position: absolute; top: 0px; left: 0px;"><div style="position: relative; z-index: 1;"><span role="tooltip" aria-label="Copy path" data-visible-text="Copy path" aria-hidden="true" id=":Rdd9lab:" class="ControlledTooltip__TooltipBase-sc-d73eef01-0 bgVydk tooltipped-nw" style="position: absolute; left: 595.875px; top: 122px;"></span></div></div></body></html>
